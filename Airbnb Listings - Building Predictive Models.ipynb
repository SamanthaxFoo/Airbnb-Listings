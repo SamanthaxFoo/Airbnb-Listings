{
 "cells": [
  {
   "cell_type": "markdown",
   "metadata": {},
   "source": [
    "## 2. Airbnb Singapore"
   ]
  },
  {
   "cell_type": "code",
   "execution_count": 2,
   "metadata": {},
   "outputs": [],
   "source": [
    "# import the required packages\n",
    "import pandas as pd  \n",
    "import numpy as np  \n",
    "import matplotlib.pyplot as plt  \n",
    "import random\n",
    "import statsmodels.api as sm\n",
    "from sklearn.model_selection import train_test_split \n",
    "from sklearn import metrics\n",
    "from sklearn.model_selection import GridSearchCV\n",
    "%matplotlib inline\n",
    "import time \n",
    "\n",
    "# For logistic and linear regression\n",
    "from sklearn.linear_model import LinearRegression\n",
    "\n",
    "# For decision tree\n",
    "from sklearn import tree\n",
    "from sklearn.metrics import mean_squared_error\n",
    "\n",
    "# For ANN\n",
    "from sklearn.neural_network import MLPRegressor\n",
    "\n",
    "# For AdaBoost\n",
    "from sklearn.ensemble import AdaBoostRegressor\n",
    "\n",
    "# For K-folds cross validation\n",
    "from sklearn.model_selection import cross_val_score, cross_validate\n",
    "\n",
    "# Evaluating Regression\n",
    "from sklearn.metrics import mean_squared_error, mean_absolute_error\n",
    "from math import sqrt"
   ]
  },
  {
   "cell_type": "code",
   "execution_count": 3,
   "metadata": {},
   "outputs": [],
   "source": [
    "def print_results(results):\n",
    "    print(\"BEST PARAM: {}\\n\".format(results.best_params_))\n",
    "    means = results.cv_results_['mean_test_score']\n",
    "    stds = results.cv_results_['std_test_score']\n",
    "    for mean, std, params in zip(means, stds, results.cv_results_['params']):\n",
    "        print(\"{} (+/1 {}) for {}\".format(round(mean, 3), round(std*2,3), params))\n",
    "        "
   ]
  },
  {
   "cell_type": "markdown",
   "metadata": {},
   "source": [
    "### 2.1 Load and Sample the data"
   ]
  },
  {
   "cell_type": "markdown",
   "metadata": {},
   "source": [
    "#### Loading the HR Data"
   ]
  },
  {
   "cell_type": "code",
   "execution_count": 114,
   "metadata": {},
   "outputs": [],
   "source": [
    "# Load the full dataset\n",
    "dfa = pd.read_csv('listings_new.csv')"
   ]
  },
  {
   "cell_type": "code",
   "execution_count": 5,
   "metadata": {},
   "outputs": [
    {
     "data": {
      "text/plain": [
       "Text(0.5, 1.0, 'Price Distribution')"
      ]
     },
     "execution_count": 5,
     "metadata": {},
     "output_type": "execute_result"
    },
    {
     "data": {
      "image/png": "[encoded data removed]",
      "text/plain": [
       "<Figure size 720x432 with 1 Axes>"
      ]
     },
     "metadata": {},
     "output_type": "display_data"
    }
   ],
   "source": [
    "# Import required libraries\n",
    "import matplotlib.pyplot as plt\n",
    "import seaborn as sns\n",
    "%matplotlib inline\n",
    "plt.style.use('ggplot')\n",
    "\n",
    "# Set figure size with matplotlib\n",
    "fig, ax = plt.subplots(figsize=(10,6))\n",
    "\n",
    "# Plot a simple histogram with binsize determined automatically\n",
    "ax1 = sns.distplot(dfa['price'], ax=ax, color=\"g\")\n",
    "ax1.set_title(\"Price Distribution\")"
   ]
  },
  {
   "cell_type": "code",
   "execution_count": 6,
   "metadata": {
    "scrolled": true
   },
   "outputs": [
    {
     "data": {
      "text/html": [
       "<div>\n",
       "<style scoped>\n",
       "    .dataframe tbody tr th:only-of-type {\n",
       "        vertical-align: middle;\n",
       "    }\n",
       "\n",
       "    .dataframe tbody tr th {\n",
       "        vertical-align: top;\n",
       "    }\n",
       "\n",
       "    .dataframe thead th {\n",
       "        text-align: right;\n",
       "    }\n",
       "</style>\n",
       "<table border=\"1\" class=\"dataframe\">\n",
       "  <thead>\n",
       "    <tr style=\"text-align: right;\">\n",
       "      <th></th>\n",
       "      <th>neighbourhood_group</th>\n",
       "      <th>neighbourhood</th>\n",
       "      <th>room_type</th>\n",
       "      <th>price</th>\n",
       "      <th>minimum_nights</th>\n",
       "      <th>number_of_reviews</th>\n",
       "      <th>reviews_per_month</th>\n",
       "      <th>calculated_host_listings_count</th>\n",
       "      <th>availability_365</th>\n",
       "      <th>year</th>\n",
       "      <th>month</th>\n",
       "      <th>day</th>\n",
       "    </tr>\n",
       "  </thead>\n",
       "  <tbody>\n",
       "    <tr>\n",
       "      <td>0</td>\n",
       "      <td>1</td>\n",
       "      <td>24</td>\n",
       "      <td>0</td>\n",
       "      <td>81</td>\n",
       "      <td>0.089089</td>\n",
       "      <td>3</td>\n",
       "      <td>0.020785</td>\n",
       "      <td>0</td>\n",
       "      <td>365</td>\n",
       "      <td>2014</td>\n",
       "      <td>12</td>\n",
       "      <td>26</td>\n",
       "    </tr>\n",
       "    <tr>\n",
       "      <td>1</td>\n",
       "      <td>1</td>\n",
       "      <td>26</td>\n",
       "      <td>0</td>\n",
       "      <td>44</td>\n",
       "      <td>0.014014</td>\n",
       "      <td>3</td>\n",
       "      <td>0.016936</td>\n",
       "      <td>2</td>\n",
       "      <td>331</td>\n",
       "      <td>2019</td>\n",
       "      <td>4</td>\n",
       "      <td>21</td>\n",
       "    </tr>\n",
       "    <tr>\n",
       "      <td>2</td>\n",
       "      <td>1</td>\n",
       "      <td>26</td>\n",
       "      <td>0</td>\n",
       "      <td>40</td>\n",
       "      <td>0.029029</td>\n",
       "      <td>2</td>\n",
       "      <td>0.007698</td>\n",
       "      <td>2</td>\n",
       "      <td>276</td>\n",
       "      <td>2018</td>\n",
       "      <td>9</td>\n",
       "      <td>13</td>\n",
       "    </tr>\n",
       "    <tr>\n",
       "      <td>3</td>\n",
       "      <td>1</td>\n",
       "      <td>32</td>\n",
       "      <td>0</td>\n",
       "      <td>65</td>\n",
       "      <td>0.001001</td>\n",
       "      <td>3</td>\n",
       "      <td>0.103156</td>\n",
       "      <td>1</td>\n",
       "      <td>336</td>\n",
       "      <td>2019</td>\n",
       "      <td>8</td>\n",
       "      <td>22</td>\n",
       "    </tr>\n",
       "    <tr>\n",
       "      <td>4</td>\n",
       "      <td>1</td>\n",
       "      <td>26</td>\n",
       "      <td>0</td>\n",
       "      <td>44</td>\n",
       "      <td>0.029029</td>\n",
       "      <td>3</td>\n",
       "      <td>0.010778</td>\n",
       "      <td>2</td>\n",
       "      <td>340</td>\n",
       "      <td>2019</td>\n",
       "      <td>2</td>\n",
       "      <td>2</td>\n",
       "    </tr>\n",
       "  </tbody>\n",
       "</table>\n",
       "</div>"
      ],
      "text/plain": [
       "   neighbourhood_group  neighbourhood  room_type  price  minimum_nights  \\\n",
       "0                    1             24          0     81        0.089089   \n",
       "1                    1             26          0     44        0.014014   \n",
       "2                    1             26          0     40        0.029029   \n",
       "3                    1             32          0     65        0.001001   \n",
       "4                    1             26          0     44        0.029029   \n",
       "\n",
       "   number_of_reviews  reviews_per_month  calculated_host_listings_count  \\\n",
       "0                  3           0.020785                               0   \n",
       "1                  3           0.016936                               2   \n",
       "2                  2           0.007698                               2   \n",
       "3                  3           0.103156                               1   \n",
       "4                  3           0.010778                               2   \n",
       "\n",
       "   availability_365  year  month  day  \n",
       "0               365  2014     12   26  \n",
       "1               331  2019      4   21  \n",
       "2               276  2018      9   13  \n",
       "3               336  2019      8   22  \n",
       "4               340  2019      2    2  "
      ]
     },
     "execution_count": 6,
     "metadata": {},
     "output_type": "execute_result"
    }
   ],
   "source": [
    "dfa.head()"
   ]
  },
  {
   "cell_type": "code",
   "execution_count": 7,
   "metadata": {},
   "outputs": [
    {
     "name": "stdout",
     "output_type": "stream",
     "text": [
      "<class 'pandas.core.frame.DataFrame'>\n",
      "RangeIndex: 6180 entries, 0 to 6179\n",
      "Data columns (total 12 columns):\n",
      "neighbourhood_group               6180 non-null int64\n",
      "neighbourhood                     6180 non-null int64\n",
      "room_type                         6180 non-null int64\n",
      "price                             6180 non-null int64\n",
      "minimum_nights                    6180 non-null float64\n",
      "number_of_reviews                 6180 non-null int64\n",
      "reviews_per_month                 6180 non-null float64\n",
      "calculated_host_listings_count    6180 non-null int64\n",
      "availability_365                  6180 non-null int64\n",
      "year                              6180 non-null int64\n",
      "month                             6180 non-null int64\n",
      "day                               6180 non-null int64\n",
      "dtypes: float64(2), int64(10)\n",
      "memory usage: 579.5 KB\n"
     ]
    }
   ],
   "source": [
    "dfa.info()"
   ]
  },
  {
   "cell_type": "code",
   "execution_count": 8,
   "metadata": {},
   "outputs": [
    {
     "name": "stdout",
     "output_type": "stream",
     "text": [
      "<class 'pandas.core.frame.DataFrame'>\n",
      "Int64Index: 6180 entries, 0 to 6179\n",
      "Data columns (total 12 columns):\n",
      "neighbourhood_group               6180 non-null int64\n",
      "neighbourhood                     6180 non-null int64\n",
      "room_type                         6180 non-null int64\n",
      "price                             6180 non-null int64\n",
      "minimum_nights                    6180 non-null float64\n",
      "number_of_reviews                 6180 non-null int64\n",
      "reviews_per_month                 6180 non-null float64\n",
      "calculated_host_listings_count    6180 non-null int64\n",
      "availability_365                  6180 non-null int64\n",
      "year                              6180 non-null int64\n",
      "month                             6180 non-null int64\n",
      "day                               6180 non-null int64\n",
      "dtypes: float64(2), int64(10)\n",
      "memory usage: 627.7 KB\n"
     ]
    }
   ],
   "source": [
    "# Drop all the rows with NA records\n",
    "dfa = dfa.dropna()\n",
    "dfa.info()"
   ]
  },
  {
   "cell_type": "markdown",
   "metadata": {},
   "source": [
    "#### Sampling the Airbnb Data"
   ]
  },
  {
   "cell_type": "code",
   "execution_count": 115,
   "metadata": {},
   "outputs": [],
   "source": [
    "# Define Model Inputs (X_a) and Output (y_a)\n",
    "X_a = dfa.drop('price',axis=1)\n",
    "y_a = dfa[\"price\"]"
   ]
  },
  {
   "cell_type": "code",
   "execution_count": 116,
   "metadata": {},
   "outputs": [],
   "source": [
    "# Split both Inputs (X_a) and Ouput (y_a) into training set (70%) and testing set (30%)\n",
    "X_train, X_test, y_train, y_test = train_test_split(X_a, y_a, test_size=0.3, random_state=1)"
   ]
  },
  {
   "cell_type": "code",
   "execution_count": 36,
   "metadata": {},
   "outputs": [
    {
     "data": {
      "text/plain": [
       "587     1\n",
       "4779    1\n",
       "3759    1\n",
       "3255    0\n",
       "2107    0\n",
       "       ..\n",
       "905     0\n",
       "5192    1\n",
       "3980    1\n",
       "235     0\n",
       "5157    0\n",
       "Name: room_type, Length: 4326, dtype: int64"
      ]
     },
     "execution_count": 36,
     "metadata": {},
     "output_type": "execute_result"
    }
   ],
   "source": [
    "X_train['room_type']"
   ]
  },
  {
   "cell_type": "markdown",
   "metadata": {},
   "source": [
    "### 2.2 Build the Model(s)"
   ]
  },
  {
   "cell_type": "markdown",
   "metadata": {},
   "source": [
    "### 2.2.1 Using Linear Regression"
   ]
  },
  {
   "cell_type": "markdown",
   "metadata": {},
   "source": [
    "#### Train the Model using testing"
   ]
  },
  {
   "cell_type": "code",
   "execution_count": 7,
   "metadata": {},
   "outputs": [
    {
     "data": {
      "text/plain": [
       "LinearRegression(copy_X=True, fit_intercept=True, n_jobs=None, normalize=False)"
      ]
     },
     "execution_count": 7,
     "metadata": {},
     "output_type": "execute_result"
    }
   ],
   "source": [
    "# train the model using training set\n",
    "lm = LinearRegression()\n",
    "lm.fit(X_train, y_train) "
   ]
  },
  {
   "cell_type": "markdown",
   "metadata": {
    "scrolled": true
   },
   "source": [
    "##### Calculated the fitted values for training set\n",
    "y_fitted = lm.predict(X_train)\n",
    "\n",
    "#### Calculated the RMSE and R^2 for training set\n",
    "print(sqrt(mean_squared_error(y_fitted, y_train)), '(Train RMSE)') # RMSE: the lower the better\n",
    "print(lm.score(X_train, y_train), '(Train R^2 Value)') # R squared value (ranges from 0 to 1): the higher the better"
   ]
  },
  {
   "cell_type": "markdown",
   "metadata": {},
   "source": [
    "#### Evaluate the Model using testing"
   ]
  },
  {
   "cell_type": "code",
   "execution_count": 13,
   "metadata": {
    "scrolled": true
   },
   "outputs": [
    {
     "name": "stdout",
     "output_type": "stream",
     "text": [
      "66.11232668831093 (Test RMSE)\n",
      "0.38927297123448695 (Test R^2 Value)\n"
     ]
    }
   ],
   "source": [
    "# calculated the predicated value for testing data\n",
    "y_pred = lm.predict(X_test)\n",
    "\n",
    "# Calculated the RMSE and R^2 for training set\n",
    "print(sqrt(mean_squared_error(y_pred, y_test)), '(Test RMSE)') # RMSE: the lower the better\n",
    "print(lm.score(X_test, y_test), '(Test R^2 Value)') # R squared value (ranges from 0 to 1): the higher the better"
   ]
  },
  {
   "cell_type": "markdown",
   "metadata": {},
   "source": [
    "#### Improving the Model (By reducing RMSE)"
   ]
  },
  {
   "cell_type": "markdown",
   "metadata": {},
   "source": [
    "Linear Regression Model has no hyper parametars to be tuned as it has already found out the best line or hyperlane which minimizes RMSE. To further improve the model, we need to utimize `statsmodel` package to find out the p-values for each coefficient so as to understand our confidence levels on each coefficient."
   ]
  },
  {
   "cell_type": "code",
   "execution_count": 52,
   "metadata": {},
   "outputs": [
    {
     "data": {
      "text/html": [
       "<table class=\"simpletable\">\n",
       "<caption>OLS Regression Results</caption>\n",
       "<tr>\n",
       "  <th>Dep. Variable:</th>          <td>price</td>      <th>  R-squared (uncentered):</th>      <td>   0.849</td> \n",
       "</tr>\n",
       "<tr>\n",
       "  <th>Model:</th>                   <td>OLS</td>       <th>  Adj. R-squared (uncentered):</th> <td>   0.848</td> \n",
       "</tr>\n",
       "<tr>\n",
       "  <th>Method:</th>             <td>Least Squares</td>  <th>  F-statistic:       </th>          <td>   2200.</td> \n",
       "</tr>\n",
       "<tr>\n",
       "  <th>Date:</th>             <td>Tue, 19 Jan 2021</td> <th>  Prob (F-statistic):</th>           <td>  0.00</td>  \n",
       "</tr>\n",
       "<tr>\n",
       "  <th>Time:</th>                 <td>21:16:30</td>     <th>  Log-Likelihood:    </th>          <td> -24282.</td> \n",
       "</tr>\n",
       "<tr>\n",
       "  <th>No. Observations:</th>      <td>  4326</td>      <th>  AIC:               </th>          <td>4.859e+04</td>\n",
       "</tr>\n",
       "<tr>\n",
       "  <th>Df Residuals:</th>          <td>  4315</td>      <th>  BIC:               </th>          <td>4.866e+04</td>\n",
       "</tr>\n",
       "<tr>\n",
       "  <th>Df Model:</th>              <td>    11</td>      <th>                     </th>              <td> </td>    \n",
       "</tr>\n",
       "<tr>\n",
       "  <th>Covariance Type:</th>      <td>nonrobust</td>    <th>                     </th>              <td> </td>    \n",
       "</tr>\n",
       "</table>\n",
       "<table class=\"simpletable\">\n",
       "<tr>\n",
       "                 <td></td>                   <th>coef</th>     <th>std err</th>      <th>t</th>      <th>P>|t|</th>  <th>[0.025</th>    <th>0.975]</th>  \n",
       "</tr>\n",
       "<tr>\n",
       "  <th>neighbourhood_group</th>            <td>   -8.8269</td> <td>    4.362</td> <td>   -2.024</td> <td> 0.043</td> <td>  -17.378</td> <td>   -0.276</td>\n",
       "</tr>\n",
       "<tr>\n",
       "  <th>neighbourhood</th>                  <td>    1.5247</td> <td>    0.178</td> <td>    8.589</td> <td> 0.000</td> <td>    1.177</td> <td>    1.873</td>\n",
       "</tr>\n",
       "<tr>\n",
       "  <th>room_type</th>                      <td>  101.4332</td> <td>    2.265</td> <td>   44.789</td> <td> 0.000</td> <td>   96.993</td> <td>  105.873</td>\n",
       "</tr>\n",
       "<tr>\n",
       "  <th>minimum_nights</th>                 <td> -295.6185</td> <td>   29.491</td> <td>  -10.024</td> <td> 0.000</td> <td> -353.436</td> <td> -237.801</td>\n",
       "</tr>\n",
       "<tr>\n",
       "  <th>number_of_reviews</th>              <td>   -3.6001</td> <td>    0.972</td> <td>   -3.702</td> <td> 0.000</td> <td>   -5.507</td> <td>   -1.694</td>\n",
       "</tr>\n",
       "<tr>\n",
       "  <th>reviews_per_month</th>              <td>   38.7452</td> <td>   14.835</td> <td>    2.612</td> <td> 0.009</td> <td>    9.661</td> <td>   67.830</td>\n",
       "</tr>\n",
       "<tr>\n",
       "  <th>calculated_host_listings_count</th> <td>   -6.1259</td> <td>    1.066</td> <td>   -5.746</td> <td> 0.000</td> <td>   -8.216</td> <td>   -4.036</td>\n",
       "</tr>\n",
       "<tr>\n",
       "  <th>availability_365</th>               <td>    0.0980</td> <td>    0.008</td> <td>   12.146</td> <td> 0.000</td> <td>    0.082</td> <td>    0.114</td>\n",
       "</tr>\n",
       "<tr>\n",
       "  <th>year</th>                           <td>    0.0227</td> <td>    0.003</td> <td>    6.890</td> <td> 0.000</td> <td>    0.016</td> <td>    0.029</td>\n",
       "</tr>\n",
       "<tr>\n",
       "  <th>month</th>                          <td>    0.3741</td> <td>    0.505</td> <td>    0.741</td> <td> 0.458</td> <td>   -0.615</td> <td>    1.363</td>\n",
       "</tr>\n",
       "<tr>\n",
       "  <th>day</th>                            <td>   -0.0140</td> <td>    0.137</td> <td>   -0.102</td> <td> 0.919</td> <td>   -0.283</td> <td>    0.255</td>\n",
       "</tr>\n",
       "</table>\n",
       "<table class=\"simpletable\">\n",
       "<tr>\n",
       "  <th>Omnibus:</th>       <td>644.844</td> <th>  Durbin-Watson:     </th> <td>   2.009</td> \n",
       "</tr>\n",
       "<tr>\n",
       "  <th>Prob(Omnibus):</th> <td> 0.000</td>  <th>  Jarque-Bera (JB):  </th> <td>1012.372</td> \n",
       "</tr>\n",
       "<tr>\n",
       "  <th>Skew:</th>          <td> 1.035</td>  <th>  Prob(JB):          </th> <td>1.47e-220</td>\n",
       "</tr>\n",
       "<tr>\n",
       "  <th>Kurtosis:</th>      <td> 4.153</td>  <th>  Cond. No.          </th> <td>5.94e+04</td> \n",
       "</tr>\n",
       "</table><br/><br/>Warnings:<br/>[1] Standard Errors assume that the covariance matrix of the errors is correctly specified.<br/>[2] The condition number is large, 5.94e+04. This might indicate that there are<br/>strong multicollinearity or other numerical problems."
      ],
      "text/plain": [
       "<class 'statsmodels.iolib.summary.Summary'>\n",
       "\"\"\"\n",
       "                                 OLS Regression Results                                \n",
       "=======================================================================================\n",
       "Dep. Variable:                  price   R-squared (uncentered):                   0.849\n",
       "Model:                            OLS   Adj. R-squared (uncentered):              0.848\n",
       "Method:                 Least Squares   F-statistic:                              2200.\n",
       "Date:                Tue, 19 Jan 2021   Prob (F-statistic):                        0.00\n",
       "Time:                        21:16:30   Log-Likelihood:                         -24282.\n",
       "No. Observations:                4326   AIC:                                  4.859e+04\n",
       "Df Residuals:                    4315   BIC:                                  4.866e+04\n",
       "Df Model:                          11                                                  \n",
       "Covariance Type:            nonrobust                                                  \n",
       "==================================================================================================\n",
       "                                     coef    std err          t      P>|t|      [0.025      0.975]\n",
       "--------------------------------------------------------------------------------------------------\n",
       "neighbourhood_group               -8.8269      4.362     -2.024      0.043     -17.378      -0.276\n",
       "neighbourhood                      1.5247      0.178      8.589      0.000       1.177       1.873\n",
       "room_type                        101.4332      2.265     44.789      0.000      96.993     105.873\n",
       "minimum_nights                  -295.6185     29.491    -10.024      0.000    -353.436    -237.801\n",
       "number_of_reviews                 -3.6001      0.972     -3.702      0.000      -5.507      -1.694\n",
       "reviews_per_month                 38.7452     14.835      2.612      0.009       9.661      67.830\n",
       "calculated_host_listings_count    -6.1259      1.066     -5.746      0.000      -8.216      -4.036\n",
       "availability_365                   0.0980      0.008     12.146      0.000       0.082       0.114\n",
       "year                               0.0227      0.003      6.890      0.000       0.016       0.029\n",
       "month                              0.3741      0.505      0.741      0.458      -0.615       1.363\n",
       "day                               -0.0140      0.137     -0.102      0.919      -0.283       0.255\n",
       "==============================================================================\n",
       "Omnibus:                      644.844   Durbin-Watson:                   2.009\n",
       "Prob(Omnibus):                  0.000   Jarque-Bera (JB):             1012.372\n",
       "Skew:                           1.035   Prob(JB):                    1.47e-220\n",
       "Kurtosis:                       4.153   Cond. No.                     5.94e+04\n",
       "==============================================================================\n",
       "\n",
       "Warnings:\n",
       "[1] Standard Errors assume that the covariance matrix of the errors is correctly specified.\n",
       "[2] The condition number is large, 5.94e+04. This might indicate that there are\n",
       "strong multicollinearity or other numerical problems.\n",
       "\"\"\""
      ]
     },
     "execution_count": 52,
     "metadata": {},
     "output_type": "execute_result"
    }
   ],
   "source": [
    "# The lm model refers to sklearn model and lm2 model refers to statsmodel.api model\n",
    "\n",
    "# Create another model lm2 using statsmodel.api: the Ordinary Least Squares (OLS) method and fit function\n",
    "lm2 = sm.OLS(y_train, X_train).fit()\n",
    "# Summary statistics from the model\n",
    "lm2.summary()\n",
    "\n",
    "# focus on the P value (P>|t|) --> the lower the P value (probability), the stronger the prediction\n",
    "# some variables are more useful than others\n",
    "# coeff --> B values"
   ]
  },
  {
   "cell_type": "markdown",
   "metadata": {},
   "source": [
    "From the above model summary, we can see that `neighbourhood_group`, `neighbourhood`, `room_type`, `minimum_nights`, `number_of_reviews`, `reviews_per_month?`,`calculated_host_listings_count`, `availability_365` and `year` have close to ZERO **p-value** (i.e. the column `P>|z|`). It means we have very high confidence on the coefficients of these features, or say these features are the most strong indicators to predict `is_promoted`. \n",
    "\n",
    "On the other hand,  `month` and `day` have very high **p-value**. It means we have very low confidence on the coeficients of these features and these features may not be the good indicators to predict `price`. \n",
    "\n",
    "We will utilize **p-value** to improve the model below."
   ]
  },
  {
   "cell_type": "markdown",
   "metadata": {},
   "source": [
    "##### (i) By dropping features with P|z|>0.05"
   ]
  },
  {
   "cell_type": "markdown",
   "metadata": {},
   "source": [
    "I will attempt to utilize the **p-value** obtained from the above Stats Model (the column `P>|z|`) and adjust the model inputs accordingly. Features with a P-value greater than `0.05`are considered weak predictors of the null hypothesis. These features tend to have little correlation to our target variable. Hence, we cannot reject that a non-zero correlation exists. With that said, I will remove these features, then train and evaluate the adjusted model to see whether I can improve the model performance by reducing the RMSE. "
   ]
  },
  {
   "cell_type": "code",
   "execution_count": 53,
   "metadata": {},
   "outputs": [],
   "source": [
    "# Taks 1: Define Model Inputs (X) and Output (y)\n",
    "# To drop RMSE, drop columns with P-values > 0.5\n",
    "# Note: x cannot have target columns\n",
    "\n",
    "X = dfa[['neighbourhood_group','neighbourhood','room_type','minimum_nights','number_of_reviews','reviews_per_month','calculated_host_listings_count','availability_365','year']] # Drop 'month','day'\n",
    "y = dfa['price'] "
   ]
  },
  {
   "cell_type": "code",
   "execution_count": 54,
   "metadata": {},
   "outputs": [],
   "source": [
    "# Task 2: Split both Inputs (X) and Ouput (y) into training set (70%) and testing set (30%)\n",
    "X_train, X_test, y_train, y_test = train_test_split(X, y, test_size=0.3, random_state=1)"
   ]
  },
  {
   "cell_type": "code",
   "execution_count": 55,
   "metadata": {},
   "outputs": [
    {
     "data": {
      "text/plain": [
       "LinearRegression(copy_X=True, fit_intercept=True, n_jobs=None, normalize=False)"
      ]
     },
     "execution_count": 55,
     "metadata": {},
     "output_type": "execute_result"
    }
   ],
   "source": [
    "# Taks 3: train the model using training set\n",
    "lm = LinearRegression()\n",
    "lm.fit(X_train, y_train) "
   ]
  },
  {
   "cell_type": "code",
   "execution_count": 56,
   "metadata": {},
   "outputs": [
    {
     "name": "stdout",
     "output_type": "stream",
     "text": [
      "66.28154733060292 (Train RMSE)\n",
      "0.3966351249356599 (Train R^2 Value)\n"
     ]
    }
   ],
   "source": [
    "# Task 4a: Calculated the fitted values for training set\n",
    "y_fitted = lm.predict(X_train)\n",
    "\n",
    "# Task 4b: Calculated the RMSE and R^2 for training set\n",
    "print(sqrt(mean_squared_error(y_fitted, y_train)), '(Train RMSE)') \n",
    "print(lm.score(X_train, y_train), '(Train R^2 Value)') "
   ]
  },
  {
   "cell_type": "code",
   "execution_count": 57,
   "metadata": {},
   "outputs": [
    {
     "name": "stdout",
     "output_type": "stream",
     "text": [
      "66.11529626960849 (Test RMSE)\n",
      "0.3892181056932365 (Test R^2 Value)\n"
     ]
    }
   ],
   "source": [
    "# Task 5a: calculated the predicated value for testing data\n",
    "y_pred = lm.predict(X_test)\n",
    "\n",
    "# Task 5b: Calculated the RMSE and R^2 for training set\n",
    "print(sqrt(mean_squared_error(y_pred, y_test)), '(Test RMSE)')\n",
    "print(lm.score(X_test, y_test), '(Test R^2 Value)') "
   ]
  },
  {
   "cell_type": "code",
   "execution_count": 58,
   "metadata": {
    "scrolled": false
   },
   "outputs": [
    {
     "data": {
      "text/html": [
       "<table class=\"simpletable\">\n",
       "<caption>OLS Regression Results</caption>\n",
       "<tr>\n",
       "  <th>Dep. Variable:</th>          <td>price</td>      <th>  R-squared (uncentered):</th>      <td>   0.849</td> \n",
       "</tr>\n",
       "<tr>\n",
       "  <th>Model:</th>                   <td>OLS</td>       <th>  Adj. R-squared (uncentered):</th> <td>   0.848</td> \n",
       "</tr>\n",
       "<tr>\n",
       "  <th>Method:</th>             <td>Least Squares</td>  <th>  F-statistic:       </th>          <td>   2690.</td> \n",
       "</tr>\n",
       "<tr>\n",
       "  <th>Date:</th>             <td>Tue, 19 Jan 2021</td> <th>  Prob (F-statistic):</th>           <td>  0.00</td>  \n",
       "</tr>\n",
       "<tr>\n",
       "  <th>Time:</th>                 <td>21:16:31</td>     <th>  Log-Likelihood:    </th>          <td> -24282.</td> \n",
       "</tr>\n",
       "<tr>\n",
       "  <th>No. Observations:</th>      <td>  4326</td>      <th>  AIC:               </th>          <td>4.858e+04</td>\n",
       "</tr>\n",
       "<tr>\n",
       "  <th>Df Residuals:</th>          <td>  4317</td>      <th>  BIC:               </th>          <td>4.864e+04</td>\n",
       "</tr>\n",
       "<tr>\n",
       "  <th>Df Model:</th>              <td>     9</td>      <th>                     </th>              <td> </td>    \n",
       "</tr>\n",
       "<tr>\n",
       "  <th>Covariance Type:</th>      <td>nonrobust</td>    <th>                     </th>              <td> </td>    \n",
       "</tr>\n",
       "</table>\n",
       "<table class=\"simpletable\">\n",
       "<tr>\n",
       "                 <td></td>                   <th>coef</th>     <th>std err</th>      <th>t</th>      <th>P>|t|</th>  <th>[0.025</th>    <th>0.975]</th>  \n",
       "</tr>\n",
       "<tr>\n",
       "  <th>neighbourhood_group</th>            <td>   -8.7967</td> <td>    4.360</td> <td>   -2.018</td> <td> 0.044</td> <td>  -17.344</td> <td>   -0.250</td>\n",
       "</tr>\n",
       "<tr>\n",
       "  <th>neighbourhood</th>                  <td>    1.5198</td> <td>    0.177</td> <td>    8.568</td> <td> 0.000</td> <td>    1.172</td> <td>    1.868</td>\n",
       "</tr>\n",
       "<tr>\n",
       "  <th>room_type</th>                      <td>  101.4333</td> <td>    2.264</td> <td>   44.797</td> <td> 0.000</td> <td>   96.994</td> <td>  105.872</td>\n",
       "</tr>\n",
       "<tr>\n",
       "  <th>minimum_nights</th>                 <td> -295.4040</td> <td>   29.485</td> <td>  -10.019</td> <td> 0.000</td> <td> -353.209</td> <td> -237.599</td>\n",
       "</tr>\n",
       "<tr>\n",
       "  <th>number_of_reviews</th>              <td>   -3.7559</td> <td>    0.947</td> <td>   -3.967</td> <td> 0.000</td> <td>   -5.612</td> <td>   -1.900</td>\n",
       "</tr>\n",
       "<tr>\n",
       "  <th>reviews_per_month</th>              <td>   41.0968</td> <td>   14.493</td> <td>    2.836</td> <td> 0.005</td> <td>   12.683</td> <td>   69.510</td>\n",
       "</tr>\n",
       "<tr>\n",
       "  <th>calculated_host_listings_count</th> <td>   -6.1598</td> <td>    1.065</td> <td>   -5.784</td> <td> 0.000</td> <td>   -8.248</td> <td>   -4.072</td>\n",
       "</tr>\n",
       "<tr>\n",
       "  <th>availability_365</th>               <td>    0.0982</td> <td>    0.008</td> <td>   12.176</td> <td> 0.000</td> <td>    0.082</td> <td>    0.114</td>\n",
       "</tr>\n",
       "<tr>\n",
       "  <th>year</th>                           <td>    0.0240</td> <td>    0.003</td> <td>    9.602</td> <td> 0.000</td> <td>    0.019</td> <td>    0.029</td>\n",
       "</tr>\n",
       "</table>\n",
       "<table class=\"simpletable\">\n",
       "<tr>\n",
       "  <th>Omnibus:</th>       <td>645.766</td> <th>  Durbin-Watson:     </th> <td>   2.009</td> \n",
       "</tr>\n",
       "<tr>\n",
       "  <th>Prob(Omnibus):</th> <td> 0.000</td>  <th>  Jarque-Bera (JB):  </th> <td>1014.971</td> \n",
       "</tr>\n",
       "<tr>\n",
       "  <th>Skew:</th>          <td> 1.036</td>  <th>  Prob(JB):          </th> <td>4.00e-221</td>\n",
       "</tr>\n",
       "<tr>\n",
       "  <th>Kurtosis:</th>      <td> 4.157</td>  <th>  Cond. No.          </th> <td>5.93e+04</td> \n",
       "</tr>\n",
       "</table><br/><br/>Warnings:<br/>[1] Standard Errors assume that the covariance matrix of the errors is correctly specified.<br/>[2] The condition number is large, 5.93e+04. This might indicate that there are<br/>strong multicollinearity or other numerical problems."
      ],
      "text/plain": [
       "<class 'statsmodels.iolib.summary.Summary'>\n",
       "\"\"\"\n",
       "                                 OLS Regression Results                                \n",
       "=======================================================================================\n",
       "Dep. Variable:                  price   R-squared (uncentered):                   0.849\n",
       "Model:                            OLS   Adj. R-squared (uncentered):              0.848\n",
       "Method:                 Least Squares   F-statistic:                              2690.\n",
       "Date:                Tue, 19 Jan 2021   Prob (F-statistic):                        0.00\n",
       "Time:                        21:16:31   Log-Likelihood:                         -24282.\n",
       "No. Observations:                4326   AIC:                                  4.858e+04\n",
       "Df Residuals:                    4317   BIC:                                  4.864e+04\n",
       "Df Model:                           9                                                  \n",
       "Covariance Type:            nonrobust                                                  \n",
       "==================================================================================================\n",
       "                                     coef    std err          t      P>|t|      [0.025      0.975]\n",
       "--------------------------------------------------------------------------------------------------\n",
       "neighbourhood_group               -8.7967      4.360     -2.018      0.044     -17.344      -0.250\n",
       "neighbourhood                      1.5198      0.177      8.568      0.000       1.172       1.868\n",
       "room_type                        101.4333      2.264     44.797      0.000      96.994     105.872\n",
       "minimum_nights                  -295.4040     29.485    -10.019      0.000    -353.209    -237.599\n",
       "number_of_reviews                 -3.7559      0.947     -3.967      0.000      -5.612      -1.900\n",
       "reviews_per_month                 41.0968     14.493      2.836      0.005      12.683      69.510\n",
       "calculated_host_listings_count    -6.1598      1.065     -5.784      0.000      -8.248      -4.072\n",
       "availability_365                   0.0982      0.008     12.176      0.000       0.082       0.114\n",
       "year                               0.0240      0.003      9.602      0.000       0.019       0.029\n",
       "==============================================================================\n",
       "Omnibus:                      645.766   Durbin-Watson:                   2.009\n",
       "Prob(Omnibus):                  0.000   Jarque-Bera (JB):             1014.971\n",
       "Skew:                           1.036   Prob(JB):                    4.00e-221\n",
       "Kurtosis:                       4.157   Cond. No.                     5.93e+04\n",
       "==============================================================================\n",
       "\n",
       "Warnings:\n",
       "[1] Standard Errors assume that the covariance matrix of the errors is correctly specified.\n",
       "[2] The condition number is large, 5.93e+04. This might indicate that there are\n",
       "strong multicollinearity or other numerical problems.\n",
       "\"\"\""
      ]
     },
     "execution_count": 58,
     "metadata": {},
     "output_type": "execute_result"
    }
   ],
   "source": [
    "# Task 6: Use Stats Model to evaluate the p-value of each coefficient\n",
    "lm2 = sm.OLS(y_train, X_train).fit()\n",
    "\n",
    "# Summary statistics from the model\n",
    "lm2.summary()"
   ]
  },
  {
   "cell_type": "markdown",
   "metadata": {},
   "source": [
    "#### Comments on the Performance"
   ]
  },
  {
   "cell_type": "markdown",
   "metadata": {},
   "source": [
    "The model performance of the training and testing accuracy did not improve after removing features with `P>|z|` > 0.05. In fact, their accuracy performances dropped marginally.\\\n",
    "**Training**\n",
    "* 66.278 (Train RMSE) --> 66.282 (Train RMSE)\n",
    "* 0.396692 (Train R^2 Value) --> 0.396635 (Train R^2 Value)\n",
    "\n",
    "**Testing**\n",
    "* 66.123 (Test RMSE) --> 66.115 (Test RMSE)\n",
    "* 0.389273 (Test R^2 Value) --> 0.389218 (Test R^2 Value)"
   ]
  },
  {
   "cell_type": "markdown",
   "metadata": {},
   "source": [
    "##### (ii) By adding back features from dataset"
   ]
  },
  {
   "cell_type": "code",
   "execution_count": 59,
   "metadata": {},
   "outputs": [],
   "source": [
    "# Load the full dataset\n",
    "df_new = pd.read_csv('listings_new.csv')"
   ]
  },
  {
   "cell_type": "code",
   "execution_count": 60,
   "metadata": {},
   "outputs": [],
   "source": [
    "# Define Model Inputs (X) and Output (y)\n",
    "X = dfa[['neighbourhood_group','neighbourhood','room_type','minimum_nights','number_of_reviews','reviews_per_month','calculated_host_listings_count','availability_365','year','month']] # Keep 'month', drop 'day'\n",
    "y = df_new[\"price\"] "
   ]
  },
  {
   "cell_type": "code",
   "execution_count": 61,
   "metadata": {},
   "outputs": [],
   "source": [
    "# Task 2: Split both Inputs (X) and Ouput (y) into training set (70%) and testing set (30%)\n",
    "X_train, X_test, y_train, y_test = train_test_split(X, y, test_size=0.3, random_state=1)"
   ]
  },
  {
   "cell_type": "code",
   "execution_count": 62,
   "metadata": {},
   "outputs": [
    {
     "data": {
      "text/plain": [
       "LinearRegression(copy_X=True, fit_intercept=True, n_jobs=None, normalize=False)"
      ]
     },
     "execution_count": 62,
     "metadata": {},
     "output_type": "execute_result"
    }
   ],
   "source": [
    "# Taks 3: train the model using training set\n",
    "lm = LinearRegression()\n",
    "lm.fit(X_train, y_train) "
   ]
  },
  {
   "cell_type": "code",
   "execution_count": 63,
   "metadata": {},
   "outputs": [
    {
     "name": "stdout",
     "output_type": "stream",
     "text": [
      "66.27870188604665 (Train RMSE)\n",
      "0.3966869283263962 (Train R^2 Value)\n"
     ]
    }
   ],
   "source": [
    "# Task 4a: Calculated the fitted values for training set\n",
    "y_fitted = lm.predict(X_train)\n",
    "\n",
    "# Task 4b: Calculated the RMSE and R^2 for training set\n",
    "print(sqrt(mean_squared_error(y_fitted, y_train)), '(Train RMSE)') \n",
    "print(lm.score(X_train, y_train), '(Train R^2 Value)') "
   ]
  },
  {
   "cell_type": "code",
   "execution_count": 64,
   "metadata": {},
   "outputs": [
    {
     "name": "stdout",
     "output_type": "stream",
     "text": [
      "66.1104320899554 (Test RMSE)\n",
      "0.3893079742635115 (Test R^2 Value)\n"
     ]
    }
   ],
   "source": [
    "# Task 5a: calculated the predicated value for testing data\n",
    "y_pred = lm.predict(X_test)\n",
    "\n",
    "# Task 5b: Calculated the RMSE and R^2 for training set\n",
    "print(sqrt(mean_squared_error(y_pred, y_test)), '(Test RMSE)')\n",
    "print(lm.score(X_test, y_test), '(Test R^2 Value)') "
   ]
  },
  {
   "cell_type": "code",
   "execution_count": 65,
   "metadata": {
    "scrolled": false
   },
   "outputs": [
    {
     "data": {
      "text/html": [
       "<table class=\"simpletable\">\n",
       "<caption>OLS Regression Results</caption>\n",
       "<tr>\n",
       "  <th>Dep. Variable:</th>          <td>price</td>      <th>  R-squared (uncentered):</th>      <td>   0.849</td> \n",
       "</tr>\n",
       "<tr>\n",
       "  <th>Model:</th>                   <td>OLS</td>       <th>  Adj. R-squared (uncentered):</th> <td>   0.848</td> \n",
       "</tr>\n",
       "<tr>\n",
       "  <th>Method:</th>             <td>Least Squares</td>  <th>  F-statistic:       </th>          <td>   2420.</td> \n",
       "</tr>\n",
       "<tr>\n",
       "  <th>Date:</th>             <td>Tue, 19 Jan 2021</td> <th>  Prob (F-statistic):</th>           <td>  0.00</td>  \n",
       "</tr>\n",
       "<tr>\n",
       "  <th>Time:</th>                 <td>21:16:31</td>     <th>  Log-Likelihood:    </th>          <td> -24282.</td> \n",
       "</tr>\n",
       "<tr>\n",
       "  <th>No. Observations:</th>      <td>  4326</td>      <th>  AIC:               </th>          <td>4.858e+04</td>\n",
       "</tr>\n",
       "<tr>\n",
       "  <th>Df Residuals:</th>          <td>  4316</td>      <th>  BIC:               </th>          <td>4.865e+04</td>\n",
       "</tr>\n",
       "<tr>\n",
       "  <th>Df Model:</th>              <td>    10</td>      <th>                     </th>              <td> </td>    \n",
       "</tr>\n",
       "<tr>\n",
       "  <th>Covariance Type:</th>      <td>nonrobust</td>    <th>                     </th>              <td> </td>    \n",
       "</tr>\n",
       "</table>\n",
       "<table class=\"simpletable\">\n",
       "<tr>\n",
       "                 <td></td>                   <th>coef</th>     <th>std err</th>      <th>t</th>      <th>P>|t|</th>  <th>[0.025</th>    <th>0.975]</th>  \n",
       "</tr>\n",
       "<tr>\n",
       "  <th>neighbourhood_group</th>            <td>   -8.8157</td> <td>    4.360</td> <td>   -2.022</td> <td> 0.043</td> <td>  -17.363</td> <td>   -0.268</td>\n",
       "</tr>\n",
       "<tr>\n",
       "  <th>neighbourhood</th>                  <td>    1.5245</td> <td>    0.177</td> <td>    8.589</td> <td> 0.000</td> <td>    1.177</td> <td>    1.872</td>\n",
       "</tr>\n",
       "<tr>\n",
       "  <th>room_type</th>                      <td>  101.4346</td> <td>    2.264</td> <td>   44.795</td> <td> 0.000</td> <td>   96.995</td> <td>  105.874</td>\n",
       "</tr>\n",
       "<tr>\n",
       "  <th>minimum_nights</th>                 <td> -295.6142</td> <td>   29.488</td> <td>  -10.025</td> <td> 0.000</td> <td> -353.425</td> <td> -237.803</td>\n",
       "</tr>\n",
       "<tr>\n",
       "  <th>number_of_reviews</th>              <td>   -3.6111</td> <td>    0.966</td> <td>   -3.737</td> <td> 0.000</td> <td>   -5.506</td> <td>   -1.717</td>\n",
       "</tr>\n",
       "<tr>\n",
       "  <th>reviews_per_month</th>              <td>   38.7347</td> <td>   14.833</td> <td>    2.611</td> <td> 0.009</td> <td>    9.654</td> <td>   67.815</td>\n",
       "</tr>\n",
       "<tr>\n",
       "  <th>calculated_host_listings_count</th> <td>   -6.1255</td> <td>    1.066</td> <td>   -5.746</td> <td> 0.000</td> <td>   -8.216</td> <td>   -4.035</td>\n",
       "</tr>\n",
       "<tr>\n",
       "  <th>availability_365</th>               <td>    0.0980</td> <td>    0.008</td> <td>   12.147</td> <td> 0.000</td> <td>    0.082</td> <td>    0.114</td>\n",
       "</tr>\n",
       "<tr>\n",
       "  <th>year</th>                           <td>    0.0226</td> <td>    0.003</td> <td>    7.228</td> <td> 0.000</td> <td>    0.016</td> <td>    0.029</td>\n",
       "</tr>\n",
       "<tr>\n",
       "  <th>month</th>                          <td>    0.3770</td> <td>    0.504</td> <td>    0.749</td> <td> 0.454</td> <td>   -0.610</td> <td>    1.365</td>\n",
       "</tr>\n",
       "</table>\n",
       "<table class=\"simpletable\">\n",
       "<tr>\n",
       "  <th>Omnibus:</th>       <td>644.846</td> <th>  Durbin-Watson:     </th> <td>   2.009</td> \n",
       "</tr>\n",
       "<tr>\n",
       "  <th>Prob(Omnibus):</th> <td> 0.000</td>  <th>  Jarque-Bera (JB):  </th> <td>1012.391</td> \n",
       "</tr>\n",
       "<tr>\n",
       "  <th>Skew:</th>          <td> 1.035</td>  <th>  Prob(JB):          </th> <td>1.45e-220</td>\n",
       "</tr>\n",
       "<tr>\n",
       "  <th>Kurtosis:</th>      <td> 4.153</td>  <th>  Cond. No.          </th> <td>5.94e+04</td> \n",
       "</tr>\n",
       "</table><br/><br/>Warnings:<br/>[1] Standard Errors assume that the covariance matrix of the errors is correctly specified.<br/>[2] The condition number is large, 5.94e+04. This might indicate that there are<br/>strong multicollinearity or other numerical problems."
      ],
      "text/plain": [
       "<class 'statsmodels.iolib.summary.Summary'>\n",
       "\"\"\"\n",
       "                                 OLS Regression Results                                \n",
       "=======================================================================================\n",
       "Dep. Variable:                  price   R-squared (uncentered):                   0.849\n",
       "Model:                            OLS   Adj. R-squared (uncentered):              0.848\n",
       "Method:                 Least Squares   F-statistic:                              2420.\n",
       "Date:                Tue, 19 Jan 2021   Prob (F-statistic):                        0.00\n",
       "Time:                        21:16:31   Log-Likelihood:                         -24282.\n",
       "No. Observations:                4326   AIC:                                  4.858e+04\n",
       "Df Residuals:                    4316   BIC:                                  4.865e+04\n",
       "Df Model:                          10                                                  \n",
       "Covariance Type:            nonrobust                                                  \n",
       "==================================================================================================\n",
       "                                     coef    std err          t      P>|t|      [0.025      0.975]\n",
       "--------------------------------------------------------------------------------------------------\n",
       "neighbourhood_group               -8.8157      4.360     -2.022      0.043     -17.363      -0.268\n",
       "neighbourhood                      1.5245      0.177      8.589      0.000       1.177       1.872\n",
       "room_type                        101.4346      2.264     44.795      0.000      96.995     105.874\n",
       "minimum_nights                  -295.6142     29.488    -10.025      0.000    -353.425    -237.803\n",
       "number_of_reviews                 -3.6111      0.966     -3.737      0.000      -5.506      -1.717\n",
       "reviews_per_month                 38.7347     14.833      2.611      0.009       9.654      67.815\n",
       "calculated_host_listings_count    -6.1255      1.066     -5.746      0.000      -8.216      -4.035\n",
       "availability_365                   0.0980      0.008     12.147      0.000       0.082       0.114\n",
       "year                               0.0226      0.003      7.228      0.000       0.016       0.029\n",
       "month                              0.3770      0.504      0.749      0.454      -0.610       1.365\n",
       "==============================================================================\n",
       "Omnibus:                      644.846   Durbin-Watson:                   2.009\n",
       "Prob(Omnibus):                  0.000   Jarque-Bera (JB):             1012.391\n",
       "Skew:                           1.035   Prob(JB):                    1.45e-220\n",
       "Kurtosis:                       4.153   Cond. No.                     5.94e+04\n",
       "==============================================================================\n",
       "\n",
       "Warnings:\n",
       "[1] Standard Errors assume that the covariance matrix of the errors is correctly specified.\n",
       "[2] The condition number is large, 5.94e+04. This might indicate that there are\n",
       "strong multicollinearity or other numerical problems.\n",
       "\"\"\""
      ]
     },
     "execution_count": 65,
     "metadata": {},
     "output_type": "execute_result"
    }
   ],
   "source": [
    "# Task 6: Use Stats Model to evaluate the p-value of each coefficient\n",
    "lm2 = sm.OLS(y_train, X_train).fit()\n",
    "\n",
    "# Summary statistics from the model\n",
    "lm2.summary()"
   ]
  },
  {
   "cell_type": "code",
   "execution_count": 30,
   "metadata": {},
   "outputs": [
    {
     "name": "stdout",
     "output_type": "stream",
     "text": [
      "66.27838490770372 (Train RMSE)\n",
      "0.39669269901034104 (Train R^2 Value)\n",
      "66.11232668831093 (Test RMSE)\n",
      "0.38927297123448695 (Test R^2 Value)\n",
      "Execution time: 0.01 seconds.\n"
     ]
    }
   ],
   "source": [
    "import time\n",
    "start = time.time()\n",
    "lm = LinearRegression()\n",
    "lm.fit(X_train, y_train) \n",
    "\n",
    "y_fitted = lm.predict(X_train)\n",
    "\n",
    "# Task 4b: Calculated the RMSE and R^2 for training set\n",
    "print(sqrt(mean_squared_error(y_fitted, y_train)), '(Train RMSE)') \n",
    "print(lm.score(X_train, y_train), '(Train R^2 Value)') \n",
    "\n",
    "# Task 5a: calculated the predicated value for testing data\n",
    "y_pred = lm.predict(X_test)\n",
    "\n",
    "# Task 5b: Calculated the RMSE and R^2 for training set\n",
    "print(sqrt(mean_squared_error(y_pred, y_test)), '(Test RMSE)')\n",
    "print(lm.score(X_test, y_test), '(Test R^2 Value)') \n",
    "\n",
    "print('Execution time: {0:.2f} seconds.'.format(time.time() - start))"
   ]
  },
  {
   "cell_type": "markdown",
   "metadata": {},
   "source": [
    "#### Comments on the Performance"
   ]
  },
  {
   "cell_type": "markdown",
   "metadata": {},
   "source": [
    "The model performance of the training and testing accuracy improved after adding back the 'month' feature\\\n",
    "**Training**\n",
    "* 66.279 (Train RMSE) --> 66.278 (Train RMSE)\n",
    "* 0.396687 (Train R^2 Value) --> 0.396692 (Train R^2 Value)\n",
    "\n",
    "**Testing**\n",
    "* 66.123 (Test RMSE) --> 66.110 (Test RMSE)\n",
    "* 0.389273 (Test R^2 Value) --> 0.389308 (Test R^2 Value)"
   ]
  },
  {
   "cell_type": "markdown",
   "metadata": {},
   "source": [
    "**Recall:**\n",
    "* In general, the higher the R-squared, the better the model fits your data\n",
    "* Lower values of RMSE indicate better fit"
   ]
  },
  {
   "cell_type": "markdown",
   "metadata": {},
   "source": [
    "### 2.2.2 Using Decision Trees"
   ]
  },
  {
   "cell_type": "code",
   "execution_count": 32,
   "metadata": {},
   "outputs": [],
   "source": [
    "# Define Model Inputs (X) and Output (y)\n",
    "X_a = dfa.drop('price',axis=1)\n",
    "y_a = dfa[\"price\"]"
   ]
  },
  {
   "cell_type": "code",
   "execution_count": 33,
   "metadata": {},
   "outputs": [],
   "source": [
    "# Split both Inputs (X) and Ouput (y) into training set (70%) and testing set (30%)\n",
    "X_train, X_test, y_train, y_test = train_test_split(X_a, y_a, test_size=0.3, random_state=1)"
   ]
  },
  {
   "cell_type": "markdown",
   "metadata": {},
   "source": [
    "#### Train the Model using testing"
   ]
  },
  {
   "cell_type": "code",
   "execution_count": 34,
   "metadata": {},
   "outputs": [
    {
     "data": {
      "text/plain": [
       "DecisionTreeRegressor(criterion='mse', max_depth=2, max_features=None,\n",
       "                      max_leaf_nodes=None, min_impurity_decrease=0.0,\n",
       "                      min_impurity_split=None, min_samples_leaf=1,\n",
       "                      min_samples_split=2, min_weight_fraction_leaf=0.0,\n",
       "                      presort=False, random_state=2, splitter='best')"
      ]
     },
     "execution_count": 34,
     "metadata": {},
     "output_type": "execute_result"
    }
   ],
   "source": [
    "# Create Decision Tree Model\n",
    "tree_reg = tree.DecisionTreeRegressor(max_depth=2, random_state=2)\n",
    "tree_reg.fit(X_train, y_train)"
   ]
  },
  {
   "cell_type": "code",
   "execution_count": 11,
   "metadata": {},
   "outputs": [
    {
     "data": {
      "image/png": "[encoded data removed]",
      "text/plain": [
       "<Figure size 1800x720 with 1 Axes>"
      ]
     },
     "metadata": {
      "needs_background": "light"
     },
     "output_type": "display_data"
    }
   ],
   "source": [
    "plt.figure(figsize=(25,10))\n",
    "tree.plot_tree(tree_reg,\n",
    "               feature_names =list(dfa.drop(['price'], axis=1)),\n",
    "                rounded = True,\n",
    "                filled= True)\n",
    "plt.savefig('regression_tree.png',format='png')\n",
    "plt.show() "
   ]
  },
  {
   "cell_type": "markdown",
   "metadata": {},
   "source": [
    "#### Evaluate the Model using testing"
   ]
  },
  {
   "cell_type": "markdown",
   "metadata": {},
   "source": [
    "(i) By `mean squared error` function"
   ]
  },
  {
   "cell_type": "code",
   "execution_count": 12,
   "metadata": {},
   "outputs": [
    {
     "name": "stdout",
     "output_type": "stream",
     "text": [
      "the training mean squared error is:  4447.359130127768\n"
     ]
    }
   ],
   "source": [
    "#training mse\n",
    "train_mse = mean_squared_error(tree_reg.predict(X_train), y_train)\n",
    "print('the training mean squared error is: ', train_mse)"
   ]
  },
  {
   "cell_type": "code",
   "execution_count": 13,
   "metadata": {
    "scrolled": true
   },
   "outputs": [
    {
     "name": "stdout",
     "output_type": "stream",
     "text": [
      "the testing mean squared error is:  4489.527929616785\n"
     ]
    }
   ],
   "source": [
    "#testing mse\n",
    "test_mse = mean_squared_error(tree_reg.predict(X_test), y_test)\n",
    "print('the testing mean squared error is: ',test_mse)"
   ]
  },
  {
   "cell_type": "markdown",
   "metadata": {},
   "source": [
    "(ii) By `R^2` function"
   ]
  },
  {
   "cell_type": "code",
   "execution_count": 14,
   "metadata": {
    "scrolled": true
   },
   "outputs": [
    {
     "name": "stdout",
     "output_type": "stream",
     "text": [
      "training R^2 value is:  0.38920292585333627\n"
     ]
    }
   ],
   "source": [
    "#the score function for regressor is calculating R Squared Value of the regression model\n",
    "# R Squared value rangs from 0 to 1 and the higher the better\n",
    "train_R2 = tree_reg.score(X_train, y_train)\n",
    "print('training R^2 value is: ', train_R2)"
   ]
  },
  {
   "cell_type": "code",
   "execution_count": 15,
   "metadata": {},
   "outputs": [
    {
     "name": "stdout",
     "output_type": "stream",
     "text": [
      "testing R^2 value is:  0.3726889531471137\n"
     ]
    }
   ],
   "source": [
    "test_R2 = tree_reg.score(X_test, y_test)\n",
    "print('testing R^2 value is: ', test_R2)"
   ]
  },
  {
   "cell_type": "markdown",
   "metadata": {},
   "source": [
    "(iii) By `RMSE`"
   ]
  },
  {
   "cell_type": "code",
   "execution_count": 16,
   "metadata": {},
   "outputs": [
    {
     "name": "stdout",
     "output_type": "stream",
     "text": [
      "the training root mean squared error is:  66.68852322647254\n"
     ]
    }
   ],
   "source": [
    "#training rmse\n",
    "train_mse = sqrt(mean_squared_error(tree_reg.predict(X_train), y_train))\n",
    "print('the training root mean squared error is: ', train_mse)"
   ]
  },
  {
   "cell_type": "code",
   "execution_count": 17,
   "metadata": {},
   "outputs": [
    {
     "name": "stdout",
     "output_type": "stream",
     "text": [
      "the testing root mean squared error is:  67.00393965743197\n"
     ]
    }
   ],
   "source": [
    "#testing rmse\n",
    "test_mse = sqrt(mean_squared_error(tree_reg.predict(X_test), y_test))\n",
    "print('the testing root mean squared error is: ', test_mse)"
   ]
  },
  {
   "cell_type": "markdown",
   "metadata": {},
   "source": [
    "#### Improving the Model (By hyper tuning)"
   ]
  },
  {
   "cell_type": "code",
   "execution_count": 18,
   "metadata": {},
   "outputs": [
    {
     "name": "stdout",
     "output_type": "stream",
     "text": [
      "-3931.6975015087996\n",
      "{'criterion': 'mse', 'max_depth': 7, 'min_samples_leaf': 10, 'min_samples_split': 4}\n"
     ]
    }
   ],
   "source": [
    "# Task 3: Use GridSearch to find the best combination of model hyperparameters\n",
    "\n",
    "dt = tree.DecisionTreeRegressor(max_depth = 2)\n",
    "param_grid = { \"criterion\" : [\"mae\", \"mse\"], \"min_samples_leaf\" : [1, 5, 10], \"min_samples_split\" : [2, 4, 10, 12, 16], 'max_depth' : [2,3,4,5,6,7]}\n",
    "\n",
    "gs = GridSearchCV(dt, param_grid=param_grid, scoring='neg_mean_squared_error', cv= 10, n_jobs=-1)\n",
    "# scoring --> get from https://scikit-learn.org/stable/modules/model_evaluation.html (choose any value under regression)\n",
    "# cv: number of partitions for cross validation\n",
    "# n_jobs: number of jobs to run in parallel, -1 means using all processors\n",
    "\n",
    "gs = gs.fit(X_train, y_train) \n",
    "\n",
    "print(gs.best_score_)\n",
    "print(gs.best_params_) "
   ]
  },
  {
   "cell_type": "code",
   "execution_count": 19,
   "metadata": {},
   "outputs": [
    {
     "data": {
      "text/plain": [
       "DecisionTreeRegressor(criterion='mse', max_depth=7, max_features=None,\n",
       "                      max_leaf_nodes=None, min_impurity_decrease=0.0,\n",
       "                      min_impurity_split=None, min_samples_leaf=10,\n",
       "                      min_samples_split=4, min_weight_fraction_leaf=0.0,\n",
       "                      presort=False, random_state=2, splitter='best')"
      ]
     },
     "execution_count": 19,
     "metadata": {},
     "output_type": "execute_result"
    }
   ],
   "source": [
    "# Task 4: Create the final Decision Tree Regressor using the best hyperparameters\n",
    "decision_tree = tree.DecisionTreeRegressor(criterion='mse', max_depth = 7, min_samples_leaf = 10, min_samples_split = 4, random_state=2)\n",
    "decision_tree.fit(X_train, y_train)"
   ]
  },
  {
   "cell_type": "code",
   "execution_count": 20,
   "metadata": {},
   "outputs": [
    {
     "data": {
      "image/png": "[encoded data removed]",
      "text/plain": [
       "<Figure size 1800x720 with 1 Axes>"
      ]
     },
     "metadata": {
      "needs_background": "light"
     },
     "output_type": "display_data"
    }
   ],
   "source": [
    "plt.figure(figsize=(25,10))\n",
    "tree.plot_tree(tree_reg,\n",
    "               feature_names =list(dfa.drop(['price'], axis=1)),\n",
    "                rounded = True,\n",
    "                filled= True)\n",
    "plt.savefig('regression_tree.png',format='png')\n",
    "plt.show() "
   ]
  },
  {
   "cell_type": "code",
   "execution_count": 21,
   "metadata": {},
   "outputs": [
    {
     "name": "stdout",
     "output_type": "stream",
     "text": [
      "the training mean squared error is:  3420.7605891545336\n",
      "the testing mean squared error is:  3723.8396102859015\n"
     ]
    }
   ],
   "source": [
    "# Task 5: Evaluate the Model by calculating training mse and testing mse\n",
    "#training mse\n",
    "train_mse = mean_squared_error(decision_tree.predict(X_train), y_train)\n",
    "print('the training mean squared error is: ', train_mse)\n",
    "\n",
    "#testing mse\n",
    "test_mse = mean_squared_error(decision_tree.predict(X_test), y_test)\n",
    "print('the testing mean squared error is: ',test_mse)"
   ]
  },
  {
   "cell_type": "code",
   "execution_count": 22,
   "metadata": {
    "scrolled": true
   },
   "outputs": [
    {
     "name": "stdout",
     "output_type": "stream",
     "text": [
      "training R^2 value is:  0.5301952241595159\n",
      "testing R^2 value is:  0.47967675870097787\n"
     ]
    }
   ],
   "source": [
    "#the score function for regressor is calculating R Squared Value of the regression model\n",
    "# R Squared value rangs from 0 to 1 and the higher the better\n",
    "train_R2 = decision_tree.score(X_train, y_train)\n",
    "print('training R^2 value is: ', train_R2)\n",
    "\n",
    "test_R2 = decision_tree.score(X_test, y_test)\n",
    "print('testing R^2 value is: ', test_R2)"
   ]
  },
  {
   "cell_type": "code",
   "execution_count": 23,
   "metadata": {},
   "outputs": [
    {
     "name": "stdout",
     "output_type": "stream",
     "text": [
      "the training root mean squared error is:  58.487268607403216\n",
      "the testing root mean squared error is:  61.02327105527777\n"
     ]
    }
   ],
   "source": [
    "#training rmse\n",
    "train_mse = sqrt(mean_squared_error(decision_tree.predict(X_train), y_train))\n",
    "print('the training root mean squared error is: ', train_mse)\n",
    "\n",
    "#testing rmse\n",
    "test_mse = sqrt(mean_squared_error(decision_tree.predict(X_test), y_test))\n",
    "print('the testing root mean squared error is: ', test_mse)"
   ]
  },
  {
   "cell_type": "code",
   "execution_count": 35,
   "metadata": {},
   "outputs": [
    {
     "name": "stdout",
     "output_type": "stream",
     "text": [
      "-3931.6975015087996\n",
      "{'criterion': 'mse', 'max_depth': 7, 'min_samples_leaf': 10, 'min_samples_split': 2}\n",
      "Execution time: 100.25 seconds.\n"
     ]
    }
   ],
   "source": [
    "start = time.time()\n",
    "dt = tree.DecisionTreeRegressor(max_depth = 2)\n",
    "param_grid = { \"criterion\" : [\"mae\", \"mse\"], \"min_samples_leaf\" : [1, 5, 10], \"min_samples_split\" : [2, 4, 10, 12, 16], 'max_depth' : [2,3,4,5,6,7]}\n",
    "\n",
    "gs = GridSearchCV(dt, param_grid=param_grid, scoring='neg_mean_squared_error', cv= 10, n_jobs=-1)\n",
    "# scoring --> get from https://scikit-learn.org/stable/modules/model_evaluation.html (choose any value under regression)\n",
    "# cv: number of partitions for cross validation\n",
    "# n_jobs: number of jobs to run in parallel, -1 means using all processors\n",
    "\n",
    "gs = gs.fit(X_train, y_train) \n",
    "\n",
    "print(gs.best_score_)\n",
    "print(gs.best_params_) \n",
    "print('Execution time: {0:.2f} seconds.'.format(time.time() - start))"
   ]
  },
  {
   "cell_type": "markdown",
   "metadata": {},
   "source": [
    "#### Comments on the Performance"
   ]
  },
  {
   "cell_type": "markdown",
   "metadata": {},
   "source": [
    "As shown below, room type is indeed the best estimator to the pricing of Airbnb."
   ]
  },
  {
   "cell_type": "code",
   "execution_count": 55,
   "metadata": {
    "scrolled": true
   },
   "outputs": [
    {
     "data": {
      "text/plain": [
       "[('room_type', 0.6685960142367547),\n",
       " ('neighbourhood', 0.09903103876000578),\n",
       " ('minimum_nights', 0.07928459601288398),\n",
       " ('availability_365', 0.0710454665959672),\n",
       " ('calculated_host_listings_count', 0.03408765940732781),\n",
       " ('reviews_per_month', 0.01609507751876264),\n",
       " ('neighbourhood_group', 0.01518899665928417),\n",
       " ('number_of_reviews', 0.011997644164013773),\n",
       " ('month', 0.002857645112525838),\n",
       " ('day', 0.0018158615324740804),\n",
       " ('year', 0.0)]"
      ]
     },
     "execution_count": 55,
     "metadata": {},
     "output_type": "execute_result"
    }
   ],
   "source": [
    "sorted(dict(zip(X_train.columns, gs.best_estimator_.feature_importances_)).items(), key=lambda x: x[1], reverse=True)"
   ]
  },
  {
   "cell_type": "code",
   "execution_count": 118,
   "metadata": {},
   "outputs": [
    {
     "name": "stdout",
     "output_type": "stream",
     "text": [
      "-3931.6975015087996\n",
      "{'criterion': 'mse', 'max_depth': 7, 'min_samples_leaf': 10, 'min_samples_split': 4}\n",
      "Execution time: 120.83 seconds.\n"
     ]
    }
   ],
   "source": [
    "import time\n",
    "start = time.time()\n",
    "dt = tree.DecisionTreeRegressor(max_depth = 2)\n",
    "param_grid = { \"criterion\" : [\"mae\", \"mse\"], \"min_samples_leaf\" : [1, 5, 10], \"min_samples_split\" : [2, 4, 10, 12, 16], 'max_depth' : [2,3,4,5,6,7]}\n",
    "\n",
    "gs = GridSearchCV(dt, param_grid=param_grid, scoring='neg_mean_squared_error', cv= 10, n_jobs=-1)\n",
    "# scoring --> get from https://scikit-learn.org/stable/modules/model_evaluation.html (choose any value under regression)\n",
    "# cv: number of partitions for cross validation\n",
    "# n_jobs: number of jobs to run in parallel, -1 means using all processors\n",
    "\n",
    "gs = gs.fit(X_train, y_train) \n",
    "\n",
    "print(gs.best_score_)\n",
    "print(gs.best_params_) \n",
    "print('Execution time: {0:.2f} seconds.'.format(time.time() - start))"
   ]
  },
  {
   "cell_type": "code",
   "execution_count": 125,
   "metadata": {},
   "outputs": [
    {
     "data": {
      "image/png": "[encoded data removed]",
      "text/plain": [
       "<Figure size 432x288 with 1 Axes>"
      ]
     },
     "metadata": {},
     "output_type": "display_data"
    }
   ],
   "source": [
    "features = X_train.columns\n",
    "importances = gs.best_estimator_.feature_importances_\n",
    "indices = np.argsort(importances)\n",
    "\n",
    "plt.title('Feature Importances')\n",
    "plt.barh(range(len(indices)), importances[indices], color='b', align='center')\n",
    "plt.yticks(range(len(indices)), [features[i] for i in indices])\n",
    "plt.xlabel('Relative Importance')\n",
    "plt.show()"
   ]
  },
  {
   "cell_type": "markdown",
   "metadata": {},
   "source": [
    "Plotting the kernel density estimation of actual values and predicted values on the same graph gives us an idea of how accurate the predictions are."
   ]
  },
  {
   "cell_type": "code",
   "execution_count": 52,
   "metadata": {
    "scrolled": true
   },
   "outputs": [
    {
     "data": {
      "text/plain": [
       "<matplotlib.axes._subplots.AxesSubplot at 0x1bc58c67b88>"
      ]
     },
     "execution_count": 52,
     "metadata": {},
     "output_type": "execute_result"
    },
    {
     "data": {
      "image/png": "[encoded data removed]",
      "text/plain": [
       "<Figure size 432x288 with 1 Axes>"
      ]
     },
     "metadata": {
      "needs_background": "light"
     },
     "output_type": "display_data"
    }
   ],
   "source": [
    "import seaborn as sns\n",
    "ax1 = sns.distplot(y_test, hist = False, color = 'r', label = 'actual')\n",
    "sns.distplot(y_pred, hist = False, color = 'b', label = 'prediction', ax = ax1)"
   ]
  },
  {
   "cell_type": "markdown",
   "metadata": {},
   "source": [
    "**(i) R^2 Value**\n",
    "\n",
    "**Before tuning hyperparameters**\n",
    "* training R^2 value is:  0.389203\n",
    "* testing R^2 value is:  0.389273\n",
    "\n",
    "**After tuning hyperparameters**\n",
    "* training R^2 value is:  0.530195\n",
    "* testing R^2 value is:  0.479677\n",
    "\n",
    "--> Recall: R^2 value is an intuitive measure of how well the linear model fits a set of observations\\\n",
    "--> We see a significant improvement in the R^2 value by 28.7% after tuning its hyperparameters. This is a good sign that the model fits the data better now.\n",
    "\n",
    "**(ii) RMSE**\n",
    "\n",
    "**Before tuning hyperparameters**\n",
    "* the training root mean squared error is:  66.689\n",
    "* the testing root mean squared error is:  66.123\n",
    "\n",
    "**After tuning hyperparameters**\n",
    "* the training root mean squared error is:  58.487\n",
    "* the testing root mean squared error is:  61.023\n",
    "\n",
    "--> 8.93% drop in the RMSE which suggests a smaller error in the model since the standard deviation would then be smaller away from the actual values"
   ]
  },
  {
   "cell_type": "markdown",
   "metadata": {},
   "source": [
    "### 2.2.3 Using Artificial Neural Network"
   ]
  },
  {
   "cell_type": "markdown",
   "metadata": {},
   "source": [
    "#### Train the Model using testing"
   ]
  },
  {
   "cell_type": "code",
   "execution_count": 44,
   "metadata": {},
   "outputs": [
    {
     "name": "stderr",
     "output_type": "stream",
     "text": [
      "C:\\Users\\sammi\\Anaconda3\\lib\\site-packages\\sklearn\\model_selection\\_search.py:814: DeprecationWarning: The default of the `iid` parameter will change from True to False in version 0.22 and will be removed in 0.24. This will change numeric results when test-set sizes are unequal.\n",
      "  DeprecationWarning)\n"
     ]
    },
    {
     "name": "stdout",
     "output_type": "stream",
     "text": [
      "0.37470005707299947\n",
      "{'activation': 'relu', 'hidden_layer_sizes': (5,), 'max_iter': 2000, 'random_state': 3, 'solver': 'adam'}\n"
     ]
    }
   ],
   "source": [
    "# Task 1: Use GridSearch to find the best combination of model hyperparameters\n",
    "param_grid = { \"activation\" : ['logistic', 'tanh', 'relu'], \n",
    "                \"hidden_layer_sizes\" : ((10,), (5,), (10,10), (11,11)), \n",
    "                \"max_iter\" : [200, 2000, 4000], \n",
    "                \"solver\" : ['sgd', 'adam'], \n",
    "                \"random_state\" : [3]}\n",
    "\n",
    "gs = GridSearchCV(mlp, param_grid=param_grid, cv= 10, n_jobs=-1)\n",
    "# cv: number of partitions for cross validation\n",
    "# n_jobs: number of jobs to run in parallel, -1 means using all processors\n",
    "\n",
    "gs = gs.fit(X_train, y_train) \n",
    "\n",
    "print(gs.best_score_)\n",
    "print(gs.best_params_)"
   ]
  },
  {
   "cell_type": "code",
   "execution_count": 51,
   "metadata": {},
   "outputs": [
    {
     "data": {
      "text/plain": [
       "MLPRegressor(activation='relu', alpha=0.0001, batch_size='auto', beta_1=0.9,\n",
       "             beta_2=0.999, early_stopping=False, epsilon=1e-08,\n",
       "             hidden_layer_sizes=(5,), learning_rate='constant',\n",
       "             learning_rate_init=0.001, max_iter=2000, momentum=0.9,\n",
       "             n_iter_no_change=10, nesterovs_momentum=True, power_t=0.5,\n",
       "             random_state=3, shuffle=True, solver='adam', tol=0.0001,\n",
       "             validation_fraction=0.1, verbose=False, warm_start=False)"
      ]
     },
     "execution_count": 51,
     "metadata": {},
     "output_type": "execute_result"
    }
   ],
   "source": [
    "# Create the ann model\n",
    "mlp = MLPRegressor(activation=\"relu\", hidden_layer_sizes=(5,), max_iter= 2000, solver = 'adam', random_state=3)\n",
    "# Fit the model to the training set\n",
    "mlp.fit(X_train,y_train)"
   ]
  },
  {
   "cell_type": "code",
   "execution_count": 37,
   "metadata": {
    "scrolled": true
   },
   "outputs": [
    {
     "name": "stdout",
     "output_type": "stream",
     "text": [
      "[array([[ 0.02817753,  0.11545934, -0.11598489,  0.00580647,  0.2179672 ,\n",
      "         0.21982329, -0.20768737, -0.16239202, -0.24880059, -0.03283271,\n",
      "        -0.26077709, -0.02394456,  0.08291145, -0.12287283,  0.09776838],\n",
      "       [ 0.05040149, -0.26404667,  0.03264629, -0.1401491 , -0.04709326,\n",
      "        -0.12007837,  0.10713337, -0.03303025, -0.19033505,  0.02476676,\n",
      "         0.15549026, -0.10740991, -0.14793537, -0.06214221,  0.24206148],\n",
      "       [ 0.26403408,  0.09562101,  0.22345159,  0.19159332, -0.06767656,\n",
      "        -0.22619673,  0.08509684,  0.0320842 , -0.07678986, -0.15251193,\n",
      "        -0.05185329, -0.01722881, -0.12783846, -0.11549229, -0.0234713 ],\n",
      "       [ 0.19998772,  0.04784438, -0.12009902, -0.12315616, -0.02517108,\n",
      "        -0.16340852, -0.16564486,  0.00778523, -0.22896337, -0.00910509,\n",
      "        -0.07645069,  0.11520352,  0.13687218,  0.10599901,  0.10493814],\n",
      "       [-0.07011386,  0.09326417, -0.08883575,  0.03989057, -0.09662456,\n",
      "        -0.03042797, -0.24321937, -0.14273763,  0.26159739, -0.14944461,\n",
      "         0.10621234,  0.08346933,  0.12461097, -0.01381832,  0.05361928],\n",
      "       [-0.24020153, -0.23709926, -0.16697763, -0.19314345, -0.22182163,\n",
      "        -0.20563024,  0.02955309, -0.17316874,  0.25078001,  0.10073983,\n",
      "         0.02275356,  0.11492283, -0.13094629,  0.23670422,  0.18814998],\n",
      "       [ 0.12553915, -0.01096087,  0.18976422,  0.13544889,  0.08893258,\n",
      "         0.22963158,  0.07414413, -0.07436259,  0.02931282, -0.16841732,\n",
      "        -0.17080712,  0.12517866,  0.15829399,  0.26187239,  0.19468342],\n",
      "       [ 0.02418172, -0.2275425 , -0.006172  ,  0.21261134,  0.15954146,\n",
      "        -0.00826821, -0.02480648, -0.15643295, -0.17904934, -0.23651043,\n",
      "         0.21766002,  0.0777558 , -0.16810785, -0.04763369, -0.25010873],\n",
      "       [-0.16121025,  0.12797351,  0.08382762, -0.43065985, -0.12492898,\n",
      "         0.08443798,  0.25319199, -0.03576667, -0.23844697, -0.2453258 ,\n",
      "        -0.23138094,  0.25499902,  0.42231956,  0.18719   , -0.18303199],\n",
      "       [-0.1329363 ,  0.10648969,  0.21942238, -0.08972256, -0.24147525,\n",
      "         0.20197674, -0.1160028 ,  0.13372812, -0.18968831,  0.10814598,\n",
      "         0.18938505,  0.12600098, -0.0767418 ,  0.12574453, -0.19998715],\n",
      "       [-0.10327431, -0.04460735,  0.20923906, -0.19526351,  0.21085476,\n",
      "         0.16583514,  0.26160942, -0.07338499, -0.16366955, -0.14390533,\n",
      "         0.1818651 ,  0.25806149,  0.11384449, -0.00970887, -0.11812324]]), array([[ 2.63208995e-01,  1.42002126e-01, -8.87592873e-02,\n",
      "         2.53724904e-01,  1.13426301e-01,  1.92649950e-01,\n",
      "        -2.57104893e-01, -2.51366462e-01,  1.37312587e-01,\n",
      "        -1.10485756e-01],\n",
      "       [ 1.48650761e+00,  1.44302025e+00,  1.73145245e+00,\n",
      "         1.55587756e+00,  1.65881458e+00,  1.36038571e+00,\n",
      "         1.43639249e+00,  1.28961927e+00,  1.64300723e+00,\n",
      "         1.32684890e+00],\n",
      "       [ 1.23294856e+00,  1.39789782e+00,  1.48302681e+00,\n",
      "         1.31422605e+00,  1.29381901e+00,  1.56534392e+00,\n",
      "         1.44706547e+00,  1.58435897e+00,  1.49382010e+00,\n",
      "         1.28555471e+00],\n",
      "       [ 1.18711526e-01, -1.20198208e-02, -1.57972645e-01,\n",
      "         2.27551712e-01, -3.19673341e-01, -1.22363418e-01,\n",
      "        -1.45050031e-01,  2.09477988e-01, -5.70564733e-02,\n",
      "        -3.72991660e-01],\n",
      "       [-2.17515946e-02, -1.90906642e-01,  1.01541295e-01,\n",
      "         1.66992506e-01,  4.42157599e-02,  1.10175427e-01,\n",
      "        -6.16833036e-02, -2.56652970e-01, -3.42682685e-02,\n",
      "        -7.24186865e-02],\n",
      "       [ 1.53188614e+00,  1.43055017e+00,  1.30705398e+00,\n",
      "         1.73238870e+00,  1.33938666e+00,  1.55061528e+00,\n",
      "         1.69494216e+00,  1.41026438e+00,  1.22499422e+00,\n",
      "         1.47178276e+00],\n",
      "       [ 1.51495143e+00,  1.70059393e+00,  1.20201662e+00,\n",
      "         1.50752054e+00,  1.19227540e+00,  1.45796488e+00,\n",
      "         1.56488236e+00,  1.28920136e+00,  1.30950940e+00,\n",
      "         1.63362078e+00],\n",
      "       [ 2.66562867e-01, -1.02692071e-02,  1.33327973e-01,\n",
      "         7.50412463e-02, -1.94068799e-02,  2.01986761e-01,\n",
      "        -1.85251178e-01,  1.85788677e-01, -2.59043935e-01,\n",
      "         2.07579825e-01],\n",
      "       [ 9.95584501e-02, -3.05955216e-02,  9.70545405e-02,\n",
      "        -2.24189025e-02,  1.58393337e-01, -2.18668489e-01,\n",
      "         4.61452682e-03,  2.10145681e-01,  2.41846462e-01,\n",
      "        -1.58201257e-01],\n",
      "       [-1.40329054e-01,  2.28543383e-01, -8.73883667e-02,\n",
      "        -2.50670086e-01,  1.21557948e-01, -4.84118804e-02,\n",
      "         1.33119123e-01, -1.29588960e-02,  3.19925084e-04,\n",
      "        -4.66339066e-02],\n",
      "       [-1.18519338e-01,  2.26675718e-01,  9.54804289e-02,\n",
      "         1.63387830e-01,  2.23863513e-01, -1.41314113e-01,\n",
      "         2.37485796e-01,  2.05119889e-01,  3.44233530e-03,\n",
      "         3.84111721e-02],\n",
      "       [ 1.25918629e+00,  1.78574182e+00,  1.27623105e+00,\n",
      "         1.57346184e+00,  1.26138551e+00,  1.35975174e+00,\n",
      "         1.50999476e+00,  1.53225451e+00,  1.52453518e+00,\n",
      "         1.52203476e+00],\n",
      "       [ 1.70350200e+00,  1.23761097e+00,  1.56244723e+00,\n",
      "         1.54495385e+00,  1.66759100e+00,  1.59495561e+00,\n",
      "         1.47986997e+00,  1.54799326e+00,  1.19603064e+00,\n",
      "         1.47270983e+00],\n",
      "       [ 1.58503807e+00,  1.40525098e+00,  1.42257367e+00,\n",
      "         1.32925504e+00,  1.26781880e+00,  1.31970611e+00,\n",
      "         1.28410526e+00,  1.37693699e+00,  1.43483725e+00,\n",
      "         1.39721889e+00],\n",
      "       [ 1.83259650e-01, -7.51726760e-03,  2.21439595e-01,\n",
      "        -5.93624301e-02,  1.38372777e-01,  2.98439382e-02,\n",
      "         7.00458673e-02, -1.29885569e-01,  2.47540486e-01,\n",
      "         1.52539353e-01]]), array([[13.99638961],\n",
      "       [14.02440247],\n",
      "       [13.4206983 ],\n",
      "       [13.40203708],\n",
      "       [ 4.4606339 ],\n",
      "       [11.9202259 ],\n",
      "       [13.87558054],\n",
      "       [15.1206161 ],\n",
      "       [15.83518776],\n",
      "       [14.05467501]])]\n"
     ]
    }
   ],
   "source": [
    "# print out the model coefficients and intercept\n",
    "print(mlp.coefs_) #connecction weights"
   ]
  },
  {
   "cell_type": "code",
   "execution_count": 39,
   "metadata": {},
   "outputs": [
    {
     "data": {
      "text/plain": [
       "12"
      ]
     },
     "execution_count": 39,
     "metadata": {},
     "output_type": "execute_result"
    }
   ],
   "source": [
    "len(dfa.columns)"
   ]
  },
  {
   "cell_type": "markdown",
   "metadata": {},
   "source": [
    "We have 12 attributes (input columns) and that is fully connected to all 10 neurons of the first layer (11 x 10)\n",
    "However, a problem with neural networks --> you have built this model but you are not able to understand how the numbers help make decisions"
   ]
  },
  {
   "cell_type": "code",
   "execution_count": 40,
   "metadata": {},
   "outputs": [
    {
     "name": "stdout",
     "output_type": "stream",
     "text": [
      "[array([ 0.18509673,  0.20644805, -0.22624469, -0.15777041,  0.18402794,\n",
      "        0.19320424, -0.10281202, -0.12242533, -0.03837692,  0.02188098,\n",
      "       -0.22433917,  0.18688523,  0.01946543,  0.1525247 , -0.14930518]), array([1.2765349 , 1.65864724, 1.74154514, 1.29923293, 1.36116559,\n",
      "       1.73757429, 1.18774676, 1.67677282, 1.4671849 , 1.4885791 ]), array([17.7130724])]\n"
     ]
    }
   ],
   "source": [
    "print(mlp.intercepts_) #bias value (we have 10 bias for the 10 neurons in the hidden layer)"
   ]
  },
  {
   "cell_type": "markdown",
   "metadata": {},
   "source": [
    "#### Evaluate the Model using testing"
   ]
  },
  {
   "cell_type": "markdown",
   "metadata": {},
   "source": [
    "(i) By `mean squared error` function"
   ]
  },
  {
   "cell_type": "code",
   "execution_count": 52,
   "metadata": {},
   "outputs": [
    {
     "name": "stdout",
     "output_type": "stream",
     "text": [
      "the training mean squared error is:  4503.7524431419815\n"
     ]
    }
   ],
   "source": [
    "#training mse\n",
    "train_mse = mean_squared_error(mlp.predict(X_train), y_train)\n",
    "print('the training mean squared error is: ', train_mse)"
   ]
  },
  {
   "cell_type": "code",
   "execution_count": 53,
   "metadata": {
    "scrolled": true
   },
   "outputs": [
    {
     "name": "stdout",
     "output_type": "stream",
     "text": [
      "the testing mean squared error is:  4430.528839063504\n"
     ]
    }
   ],
   "source": [
    "#testing mse\n",
    "test_mse = mean_squared_error(mlp.predict(X_test), y_test)\n",
    "print('the testing mean squared error is: ',test_mse)"
   ]
  },
  {
   "cell_type": "markdown",
   "metadata": {},
   "source": [
    "(ii) By `Score` function"
   ]
  },
  {
   "cell_type": "code",
   "execution_count": 54,
   "metadata": {
    "scrolled": false
   },
   "outputs": [
    {
     "name": "stdout",
     "output_type": "stream",
     "text": [
      "training R^2 value is:  0.38145790918553946\n"
     ]
    }
   ],
   "source": [
    "#the score function for regressor is calculating R Squared Value of the regression model\n",
    "# R Squared value ranges from 0 to 1 and the higher the better\n",
    "train_R2 = mlp.score(X_train, y_train)\n",
    "print('training R^2 value is: ', train_R2)"
   ]
  },
  {
   "cell_type": "code",
   "execution_count": 55,
   "metadata": {
    "scrolled": true
   },
   "outputs": [
    {
     "name": "stdout",
     "output_type": "stream",
     "text": [
      "testing R^2 value is:  0.38093275557769696\n"
     ]
    }
   ],
   "source": [
    "test_R2 = mlp.score(X_test, y_test)\n",
    "print('testing R^2 value is: ', test_R2)"
   ]
  },
  {
   "cell_type": "markdown",
   "metadata": {},
   "source": [
    "(iii) By `RMSE`"
   ]
  },
  {
   "cell_type": "code",
   "execution_count": 56,
   "metadata": {},
   "outputs": [
    {
     "name": "stdout",
     "output_type": "stream",
     "text": [
      "the training root mean squared error is:  67.11000255656366\n"
     ]
    }
   ],
   "source": [
    "#training rmse\n",
    "train_mse = sqrt(mean_squared_error(mlp.predict(X_train), y_train))\n",
    "print('the training root mean squared error is: ', train_mse)"
   ]
  },
  {
   "cell_type": "code",
   "execution_count": 57,
   "metadata": {},
   "outputs": [
    {
     "name": "stdout",
     "output_type": "stream",
     "text": [
      "the testing root mean squared error is:  66.56221780457368\n"
     ]
    }
   ],
   "source": [
    "#testing rmse\n",
    "test_mse = sqrt(mean_squared_error(mlp.predict(X_test), y_test))\n",
    "print('the testing root mean squared error is: ', test_mse)"
   ]
  },
  {
   "cell_type": "markdown",
   "metadata": {},
   "source": [
    "#### Improving the Model (By adjusting the hyperparameters)"
   ]
  },
  {
   "cell_type": "code",
   "execution_count": 52,
   "metadata": {},
   "outputs": [
    {
     "name": "stderr",
     "output_type": "stream",
     "text": [
      "C:\\Users\\sammi\\Anaconda3\\lib\\site-packages\\sklearn\\model_selection\\_search.py:814: DeprecationWarning: The default of the `iid` parameter will change from True to False in version 0.22 and will be removed in 0.24. This will change numeric results when test-set sizes are unequal.\n",
      "  DeprecationWarning)\n"
     ]
    },
    {
     "name": "stdout",
     "output_type": "stream",
     "text": [
      "0.36496737743942864\n",
      "{'activation': 'relu', 'hidden_layer_sizes': (10, 10), 'max_iter': 1000, 'random_state': 3, 'solver': 'adam'}\n"
     ]
    }
   ],
   "source": [
    "# Task 1: Use GridSearch to find the best combination of model hyperparameters\n",
    "param_grid = { \"activation\" : ['logistic', 'tanh', 'relu'], \n",
    "                \"hidden_layer_sizes\" : ((10,),(10,10), (11,11)), \n",
    "                \"max_iter\" : [1000, 2000, 4000], \n",
    "                \"solver\" : ['sgd', 'adam'], \n",
    "                \"random_state\" : [3]}\n",
    "\n",
    "gs = GridSearchCV(mlp, param_grid=param_grid, cv= 10, n_jobs=-1)\n",
    "# cv: number of partitions for cross validation\n",
    "# n_jobs: number of jobs to run in parallel, -1 means using all processors\n",
    "\n",
    "gs = gs.fit(X_train, y_train) \n",
    "\n",
    "print(gs.best_score_)\n",
    "print(gs.best_params_)"
   ]
  },
  {
   "cell_type": "code",
   "execution_count": 53,
   "metadata": {},
   "outputs": [
    {
     "data": {
      "text/plain": [
       "MLPRegressor(activation='relu', alpha=0.0001, batch_size='auto', beta_1=0.9,\n",
       "             beta_2=0.999, early_stopping=False, epsilon=1e-08,\n",
       "             hidden_layer_sizes=(10, 10), learning_rate='constant',\n",
       "             learning_rate_init=0.001, max_iter=1000, momentum=0.9,\n",
       "             n_iter_no_change=10, nesterovs_momentum=True, power_t=0.5,\n",
       "             random_state=3, shuffle=True, solver='adam', tol=0.0001,\n",
       "             validation_fraction=0.1, verbose=False, warm_start=False)"
      ]
     },
     "execution_count": 53,
     "metadata": {},
     "output_type": "execute_result"
    }
   ],
   "source": [
    "# Create the ann model\n",
    "mlp = MLPRegressor(activation=\"relu\", hidden_layer_sizes=(10, 10), max_iter= 1000, solver = 'adam', random_state=3)\n",
    "# Fit the model to the training set\n",
    "mlp.fit(X_train,y_train)"
   ]
  },
  {
   "cell_type": "markdown",
   "metadata": {},
   "source": [
    "(i) By `mean squared error` function"
   ]
  },
  {
   "cell_type": "code",
   "execution_count": 54,
   "metadata": {},
   "outputs": [
    {
     "name": "stdout",
     "output_type": "stream",
     "text": [
      "the training mean squared error is:  4476.3213528531805\n"
     ]
    }
   ],
   "source": [
    "#training mse\n",
    "train_mse = mean_squared_error(mlp.predict(X_train), y_train)\n",
    "print('the training mean squared error is: ', train_mse)"
   ]
  },
  {
   "cell_type": "code",
   "execution_count": 55,
   "metadata": {
    "scrolled": true
   },
   "outputs": [
    {
     "name": "stdout",
     "output_type": "stream",
     "text": [
      "the testing mean squared error is:  4393.457694477239\n"
     ]
    }
   ],
   "source": [
    "#testing mse\n",
    "test_mse = mean_squared_error(mlp.predict(X_test), y_test)\n",
    "print('the testing mean squared error is: ',test_mse)"
   ]
  },
  {
   "cell_type": "markdown",
   "metadata": {},
   "source": [
    "(ii) By `Score` function"
   ]
  },
  {
   "cell_type": "code",
   "execution_count": 56,
   "metadata": {
    "scrolled": false
   },
   "outputs": [
    {
     "name": "stdout",
     "output_type": "stream",
     "text": [
      "training R^2 value is:  0.3852252752108173\n"
     ]
    }
   ],
   "source": [
    "#the score function for regressor is calculating R Squared Value of the regression model\n",
    "# R Squared value ranges from 0 to 1 and the higher the better\n",
    "train_R2 = mlp.score(X_train, y_train)\n",
    "print('training R^2 value is: ', train_R2)"
   ]
  },
  {
   "cell_type": "code",
   "execution_count": 57,
   "metadata": {},
   "outputs": [
    {
     "name": "stdout",
     "output_type": "stream",
     "text": [
      "testing R^2 value is:  0.3861126183345435\n"
     ]
    }
   ],
   "source": [
    "test_R2 = mlp.score(X_test, y_test)\n",
    "print('testing R^2 value is: ', test_R2)"
   ]
  },
  {
   "cell_type": "markdown",
   "metadata": {},
   "source": [
    "(iii) By `RMSE`"
   ]
  },
  {
   "cell_type": "code",
   "execution_count": 58,
   "metadata": {},
   "outputs": [
    {
     "name": "stdout",
     "output_type": "stream",
     "text": [
      "the training root mean squared error is:  66.90531632727836\n"
     ]
    }
   ],
   "source": [
    "#training rmse\n",
    "train_mse = sqrt(mean_squared_error(mlp.predict(X_train), y_train))\n",
    "print('the training root mean squared error is: ', train_mse)"
   ]
  },
  {
   "cell_type": "code",
   "execution_count": 59,
   "metadata": {},
   "outputs": [
    {
     "name": "stdout",
     "output_type": "stream",
     "text": [
      "the testing root mean squared error is:  66.2831629788232\n"
     ]
    }
   ],
   "source": [
    "#testing rmse\n",
    "test_mse = sqrt(mean_squared_error(mlp.predict(X_test), y_test))\n",
    "print('the testing root mean squared error is: ', test_mse)"
   ]
  },
  {
   "cell_type": "markdown",
   "metadata": {},
   "source": [
    "#### Comments on the Performance"
   ]
  },
  {
   "cell_type": "code",
   "execution_count": 36,
   "metadata": {},
   "outputs": [
    {
     "name": "stdout",
     "output_type": "stream",
     "text": [
      "Execution time: 0.21 seconds.\n"
     ]
    }
   ],
   "source": [
    "start = time.time()\n",
    "# Create the ann model\n",
    "mlp = MLPRegressor(activation=\"logistic\", hidden_layer_sizes=(15,10), max_iter= 2000, solver = 'sgd', random_state=3)\n",
    "# Fit the model to the training set\n",
    "mlp.fit(X_train,y_train)\n",
    "\n",
    "print('Execution time: {0:.2f} seconds.'.format(time.time() - start))"
   ]
  },
  {
   "cell_type": "markdown",
   "metadata": {},
   "source": [
    "### 2.2.4 Using Ensemble Models"
   ]
  },
  {
   "cell_type": "markdown",
   "metadata": {},
   "source": [
    "#### Train the Model using testing"
   ]
  },
  {
   "cell_type": "code",
   "execution_count": 8,
   "metadata": {},
   "outputs": [],
   "source": [
    "from sklearn.model_selection import cross_val_score, GridSearchCV\n",
    "from sklearn.ensemble import RandomForestRegressor\n",
    "from sklearn.preprocessing import MinMaxScaler\n",
    "from sklearn.tree import DecisionTreeRegressor"
   ]
  },
  {
   "cell_type": "code",
   "execution_count": 9,
   "metadata": {},
   "outputs": [
    {
     "name": "stdout",
     "output_type": "stream",
     "text": [
      "training R^2 value is:  0.9765339085863795\n",
      "testing R^2 value is:  0.22317779868365173\n"
     ]
    }
   ],
   "source": [
    "# Build Descision tree Model and Evaluate both training and testing accuracy\n",
    "dt = DecisionTreeRegressor()\n",
    "dt.fit(X_train,y_train)\n",
    "\n",
    "train_R2 = dt.score(X_train, y_train)\n",
    "print('training R^2 value is: ', train_R2)\n",
    "test_R2 = dt.score(X_test, y_test)\n",
    "print('testing R^2 value is: ', test_R2)"
   ]
  },
  {
   "cell_type": "code",
   "execution_count": 10,
   "metadata": {},
   "outputs": [
    {
     "name": "stdout",
     "output_type": "stream",
     "text": [
      "the training mean squared error is:  170.8622066380735\n",
      "the testing mean squared error is:  5559.546554540468\n"
     ]
    }
   ],
   "source": [
    "#training mse\n",
    "train_mse = mean_squared_error(dt.predict(X_train), y_train)\n",
    "print('the training mean squared error is: ', train_mse)\n",
    "#testing mse\n",
    "test_mse = mean_squared_error(dt.predict(X_test), y_test)\n",
    "print('the testing mean squared error is: ',test_mse)"
   ]
  },
  {
   "cell_type": "code",
   "execution_count": 11,
   "metadata": {},
   "outputs": [
    {
     "name": "stdout",
     "output_type": "stream",
     "text": [
      "the training root mean squared error is:  13.071427107935595\n",
      "the testing root mean squared error is:  74.5623668786102\n"
     ]
    }
   ],
   "source": [
    "#training rmse\n",
    "train_mse = sqrt(mean_squared_error(dt.predict(X_train), y_train))\n",
    "print('the training root mean squared error is: ', train_mse)\n",
    "#testing rmse\n",
    "test_mse = sqrt(mean_squared_error(dt.predict(X_test), y_test))\n",
    "print('the testing root mean squared error is: ', test_mse)"
   ]
  },
  {
   "cell_type": "markdown",
   "metadata": {},
   "source": [
    "#### Improve the Overfitted Model's Testing Accuracy"
   ]
  },
  {
   "cell_type": "markdown",
   "metadata": {},
   "source": [
    "#### 1. Random Forest - Ensemble of Descision Trees  <a id='rf' />"
   ]
  },
  {
   "cell_type": "code",
   "execution_count": 52,
   "metadata": {
    "scrolled": false
   },
   "outputs": [
    {
     "data": {
      "text/plain": [
       "RandomForestRegressor(bootstrap=True, criterion='mse', max_depth=7,\n",
       "                      max_features='auto', max_leaf_nodes=None,\n",
       "                      min_impurity_decrease=0.0, min_impurity_split=None,\n",
       "                      min_samples_leaf=1, min_samples_split=2,\n",
       "                      min_weight_fraction_leaf=0.0, n_estimators=50,\n",
       "                      n_jobs=None, oob_score=False, random_state=None,\n",
       "                      verbose=0, warm_start=False)"
      ]
     },
     "execution_count": 52,
     "metadata": {},
     "output_type": "execute_result"
    }
   ],
   "source": [
    "# import the regressor \n",
    "from sklearn.ensemble import RandomForestRegressor \n",
    "\n",
    "#Task 1: Build Random Forest Model and Evaluate both training and testing accuracy\n",
    "rfr = RandomForestRegressor(n_estimators = 50, max_depth = 7) #n_estimators: The number of decision tree models in the forest.\n",
    "rfr.fit(X_train, y_train)"
   ]
  },
  {
   "cell_type": "code",
   "execution_count": 56,
   "metadata": {},
   "outputs": [
    {
     "name": "stdout",
     "output_type": "stream",
     "text": [
      "training R^2 value is:  0.5985454696140275\n",
      "testing R^2 value is:  0.5104133435527999\n"
     ]
    }
   ],
   "source": [
    "# Build Descision tree Model and Evaluate both training and testing accuracy\n",
    "train_R2 = rfr.score(X_train, y_train)\n",
    "print('training R^2 value is: ', train_R2)\n",
    "test_R2 = rfr.score(X_test, y_test)\n",
    "print('testing R^2 value is: ', test_R2)"
   ]
  },
  {
   "cell_type": "code",
   "execution_count": 57,
   "metadata": {},
   "outputs": [
    {
     "name": "stdout",
     "output_type": "stream",
     "text": [
      "the training mean squared error is:  2923.086155148313\n",
      "the testing mean squared error is:  3503.864596541799\n"
     ]
    }
   ],
   "source": [
    "#training mse\n",
    "train_mse = mean_squared_error(rfr.predict(X_train), y_train)\n",
    "print('the training mean squared error is: ', train_mse)\n",
    "#testing mse\n",
    "test_mse = mean_squared_error(rfr.predict(X_test), y_test)\n",
    "print('the testing mean squared error is: ',test_mse)"
   ]
  },
  {
   "cell_type": "code",
   "execution_count": 58,
   "metadata": {},
   "outputs": [
    {
     "name": "stdout",
     "output_type": "stream",
     "text": [
      "the training root mean squared error is:  54.065572734858854\n",
      "the testing root mean squared error is:  59.19345062202236\n"
     ]
    }
   ],
   "source": [
    "#training rmse\n",
    "train_mse = sqrt(mean_squared_error(rfr.predict(X_train), y_train))\n",
    "print('the training root mean squared error is: ', train_mse)\n",
    "#testing rmse\n",
    "test_mse = sqrt(mean_squared_error(rfr.predict(X_test), y_test))\n",
    "print('the testing root mean squared error is: ', test_mse)"
   ]
  },
  {
   "cell_type": "markdown",
   "metadata": {},
   "source": [
    "#### Attempt to improve accuracies"
   ]
  },
  {
   "cell_type": "markdown",
   "metadata": {},
   "source": [
    "##### (i) Gridsearch"
   ]
  },
  {
   "cell_type": "code",
   "execution_count": 67,
   "metadata": {
    "scrolled": true
   },
   "outputs": [
    {
     "name": "stdout",
     "output_type": "stream",
     "text": [
      "Fitting 5 folds for each of 16 candidates, totalling 80 fits\n"
     ]
    },
    {
     "name": "stderr",
     "output_type": "stream",
     "text": [
      "[Parallel(n_jobs=-1)]: Using backend LokyBackend with 8 concurrent workers.\n",
      "[Parallel(n_jobs=-1)]: Done  34 tasks      | elapsed:    8.1s\n",
      "[Parallel(n_jobs=-1)]: Done  80 out of  80 | elapsed:   24.1s finished\n"
     ]
    },
    {
     "data": {
      "text/plain": [
       "{'max_depth': 6, 'n_estimators': 1000}"
      ]
     },
     "execution_count": 67,
     "metadata": {},
     "output_type": "execute_result"
    }
   ],
   "source": [
    "# Perform Grid-Search\n",
    "gsc = GridSearchCV(\n",
    "    estimator=RandomForestRegressor(),\n",
    "    param_grid={\n",
    "        'max_depth': range(3,7),\n",
    "        'n_estimators': (10, 50, 100, 1000),\n",
    "    },\n",
    "    cv=5, scoring='neg_mean_squared_error', verbose=True, n_jobs=-1)\n",
    "\n",
    "grid_result = gsc.fit(X_train, y_train)\n",
    "best_params = grid_result.best_params_\n",
    "best_params"
   ]
  },
  {
   "cell_type": "code",
   "execution_count": 53,
   "metadata": {},
   "outputs": [],
   "source": [
    "rfr = RandomForestRegressor(max_depth=6, n_estimators=1000,\n",
    "                            random_state=False, verbose=False)\n",
    "rfr = rfr.fit(X_train, y_train) "
   ]
  },
  {
   "cell_type": "code",
   "execution_count": 73,
   "metadata": {},
   "outputs": [
    {
     "data": {
      "text/plain": [
       "array([-46.7058103 , -44.96321334, -43.85190198, -48.71471263,\n",
       "       -47.16108203, -41.85591757, -46.05912264, -45.46550635,\n",
       "       -43.65581663, -46.63715794])"
      ]
     },
     "execution_count": 73,
     "metadata": {},
     "output_type": "execute_result"
    }
   ],
   "source": [
    "# Perform K-Fold CV\n",
    "scores = cross_val_score(rfr, X_train, y_train, cv=10, scoring='neg_mean_absolute_error')\n",
    "scores"
   ]
  },
  {
   "cell_type": "code",
   "execution_count": 70,
   "metadata": {
    "scrolled": true
   },
   "outputs": [
    {
     "name": "stdout",
     "output_type": "stream",
     "text": [
      "BEST PARAM: {'max_depth': 6, 'n_estimators': 1000}\n",
      "\n",
      "-4180.883 (+/1 127.457) for {'max_depth': 3, 'n_estimators': 10}\n",
      "-4167.548 (+/1 122.878) for {'max_depth': 3, 'n_estimators': 50}\n",
      "-4166.726 (+/1 134.629) for {'max_depth': 3, 'n_estimators': 100}\n",
      "-4163.392 (+/1 125.75) for {'max_depth': 3, 'n_estimators': 1000}\n",
      "-3995.312 (+/1 141.171) for {'max_depth': 4, 'n_estimators': 10}\n",
      "-3955.402 (+/1 145.242) for {'max_depth': 4, 'n_estimators': 50}\n",
      "-3952.09 (+/1 133.317) for {'max_depth': 4, 'n_estimators': 100}\n",
      "-3948.593 (+/1 135.652) for {'max_depth': 4, 'n_estimators': 1000}\n",
      "-3838.675 (+/1 142.188) for {'max_depth': 5, 'n_estimators': 10}\n",
      "-3786.767 (+/1 102.163) for {'max_depth': 5, 'n_estimators': 50}\n",
      "-3791.33 (+/1 133.674) for {'max_depth': 5, 'n_estimators': 100}\n",
      "-3784.013 (+/1 124.241) for {'max_depth': 5, 'n_estimators': 1000}\n",
      "-3760.269 (+/1 164.693) for {'max_depth': 6, 'n_estimators': 10}\n",
      "-3679.788 (+/1 94.059) for {'max_depth': 6, 'n_estimators': 50}\n",
      "-3683.021 (+/1 95.047) for {'max_depth': 6, 'n_estimators': 100}\n",
      "-3662.66 (+/1 116.739) for {'max_depth': 6, 'n_estimators': 1000}\n"
     ]
    }
   ],
   "source": [
    "print_results(grid_result)"
   ]
  },
  {
   "cell_type": "code",
   "execution_count": 65,
   "metadata": {},
   "outputs": [
    {
     "name": "stdout",
     "output_type": "stream",
     "text": [
      "Mean Cross Validation Score:  -46.74386567814902\n"
     ]
    }
   ],
   "source": [
    "print(\"Mean Cross Validation Score: \", scores.mean())"
   ]
  },
  {
   "cell_type": "code",
   "execution_count": 55,
   "metadata": {},
   "outputs": [
    {
     "name": "stdout",
     "output_type": "stream",
     "text": [
      "training R^2 value is:  0.5544100562190786\n",
      "testing R^2 value is:  0.49223998523690554\n"
     ]
    }
   ],
   "source": [
    "# Build Descision tree Model and Evaluate both training and testing accuracy\n",
    "train_R2 = rfr.score(X_train, y_train)\n",
    "print('training R^2 value is: ', train_R2)\n",
    "test_R2 = rfr.score(X_test, y_test)\n",
    "print('testing R^2 value is: ', test_R2)"
   ]
  },
  {
   "cell_type": "code",
   "execution_count": 76,
   "metadata": {},
   "outputs": [
    {
     "name": "stdout",
     "output_type": "stream",
     "text": [
      "the training mean squared error is:  3244.446623349996\n",
      "the testing mean squared error is:  3633.927346342657\n"
     ]
    }
   ],
   "source": [
    "#training mse\n",
    "train_mse = mean_squared_error(rfr.predict(X_train), y_train)\n",
    "print('the training mean squared error is: ', train_mse)\n",
    "#testing mse\n",
    "test_mse = mean_squared_error(rfr.predict(X_test), y_test)\n",
    "print('the testing mean squared error is: ',test_mse)"
   ]
  },
  {
   "cell_type": "code",
   "execution_count": 77,
   "metadata": {},
   "outputs": [
    {
     "name": "stdout",
     "output_type": "stream",
     "text": [
      "the training root mean squared error is:  56.96004409540073\n",
      "the testing root mean squared error is:  60.28206488121203\n"
     ]
    }
   ],
   "source": [
    "#training rmse\n",
    "train_mse = sqrt(mean_squared_error(rfr.predict(X_train), y_train))\n",
    "print('the training root mean squared error is: ', train_mse)\n",
    "#testing rmse\n",
    "test_mse = sqrt(mean_squared_error(rfr.predict(X_test), y_test))\n",
    "print('the testing root mean squared error is: ', test_mse)"
   ]
  },
  {
   "cell_type": "markdown",
   "metadata": {},
   "source": [
    "##### (ii) After decreasing the values of n_estimators available"
   ]
  },
  {
   "cell_type": "code",
   "execution_count": 82,
   "metadata": {},
   "outputs": [
    {
     "name": "stdout",
     "output_type": "stream",
     "text": [
      "Fitting 5 folds for each of 16 candidates, totalling 80 fits\n"
     ]
    },
    {
     "name": "stderr",
     "output_type": "stream",
     "text": [
      "[Parallel(n_jobs=-1)]: Using backend LokyBackend with 8 concurrent workers.\n",
      "[Parallel(n_jobs=-1)]: Done  34 tasks      | elapsed:   12.9s\n",
      "[Parallel(n_jobs=-1)]: Done  80 out of  80 | elapsed:   16.8s finished\n"
     ]
    },
    {
     "data": {
      "text/plain": [
       "{'max_depth': 6, 'n_estimators': 75}"
      ]
     },
     "execution_count": 82,
     "metadata": {},
     "output_type": "execute_result"
    }
   ],
   "source": [
    "# Perform Grid-Search\n",
    "gsc = GridSearchCV(\n",
    "    estimator=RandomForestRegressor(),\n",
    "    param_grid={\n",
    "        'max_depth': range(3,7),\n",
    "        'n_estimators': (10, 25, 50, 75),\n",
    "    },\n",
    "    cv=5, scoring='neg_mean_squared_error', verbose=True, n_jobs=-1)\n",
    "\n",
    "grid_result = gsc.fit(X_a, y_a)\n",
    "best_params = grid_result.best_params_\n",
    "best_params"
   ]
  },
  {
   "cell_type": "code",
   "execution_count": 21,
   "metadata": {},
   "outputs": [
    {
     "name": "stdout",
     "output_type": "stream",
     "text": [
      "BEST PARAM: {'max_depth': 6, 'n_estimators': 75}\n",
      "\n",
      "-4355.246 (+/1 969.774) for {'max_depth': 3, 'n_estimators': 10}\n",
      "-4348.055 (+/1 965.541) for {'max_depth': 3, 'n_estimators': 25}\n",
      "-4320.201 (+/1 982.943) for {'max_depth': 3, 'n_estimators': 50}\n",
      "-4330.021 (+/1 955.043) for {'max_depth': 3, 'n_estimators': 75}\n",
      "-4145.294 (+/1 812.148) for {'max_depth': 4, 'n_estimators': 10}\n",
      "-4132.394 (+/1 802.176) for {'max_depth': 4, 'n_estimators': 25}\n",
      "-4125.89 (+/1 829.456) for {'max_depth': 4, 'n_estimators': 50}\n",
      "-4127.854 (+/1 807.763) for {'max_depth': 4, 'n_estimators': 75}\n",
      "-4016.956 (+/1 798.77) for {'max_depth': 5, 'n_estimators': 10}\n",
      "-4018.697 (+/1 853.83) for {'max_depth': 5, 'n_estimators': 25}\n",
      "-3985.085 (+/1 822.808) for {'max_depth': 5, 'n_estimators': 50}\n",
      "-3988.646 (+/1 787.512) for {'max_depth': 5, 'n_estimators': 75}\n",
      "-3945.449 (+/1 668.782) for {'max_depth': 6, 'n_estimators': 10}\n",
      "-3890.621 (+/1 711.471) for {'max_depth': 6, 'n_estimators': 25}\n",
      "-3883.547 (+/1 756.323) for {'max_depth': 6, 'n_estimators': 50}\n",
      "-3872.265 (+/1 779.418) for {'max_depth': 6, 'n_estimators': 75}\n"
     ]
    }
   ],
   "source": [
    "print_results(grid_result)"
   ]
  },
  {
   "cell_type": "code",
   "execution_count": 83,
   "metadata": {},
   "outputs": [
    {
     "data": {
      "text/plain": [
       "array([-46.64222088, -45.01853832, -43.91775248, -48.81229367,\n",
       "       -47.13223202, -42.10680279, -46.04462981, -45.51190563,\n",
       "       -43.97770277, -46.52777937])"
      ]
     },
     "execution_count": 83,
     "metadata": {},
     "output_type": "execute_result"
    }
   ],
   "source": [
    "# Perform K-Fold CV\n",
    "scores = cross_val_score(rfr, X_train, y_train, cv=10, scoring='neg_mean_absolute_error')\n",
    "scores"
   ]
  },
  {
   "cell_type": "code",
   "execution_count": 84,
   "metadata": {},
   "outputs": [],
   "source": [
    "rfr = RandomForestRegressor(max_depth=6, n_estimators=75,\n",
    "                            random_state=False, verbose=False)\n",
    "rfr = rfr.fit(X_train, y_train) "
   ]
  },
  {
   "cell_type": "code",
   "execution_count": 85,
   "metadata": {},
   "outputs": [
    {
     "name": "stdout",
     "output_type": "stream",
     "text": [
      "Mean Cross Validation Score:  -45.56918577345663\n"
     ]
    }
   ],
   "source": [
    "print(\"Mean Cross Validation Score: \", scores.mean())"
   ]
  },
  {
   "cell_type": "code",
   "execution_count": 87,
   "metadata": {
    "scrolled": true
   },
   "outputs": [
    {
     "name": "stdout",
     "output_type": "stream",
     "text": [
      "training R^2 value is:  0.5537745427045657\n",
      "testing R^2 value is:  0.491366308225632\n"
     ]
    }
   ],
   "source": [
    "# Build Descision tree Model and Evaluate both training and testing accuracy\n",
    "train_R2 = rfr.score(X_train, y_train)\n",
    "print('training R^2 value is: ', train_R2)\n",
    "test_R2 = rfr.score(X_test, y_test)\n",
    "print('testing R^2 value is: ', test_R2)"
   ]
  },
  {
   "cell_type": "code",
   "execution_count": 88,
   "metadata": {},
   "outputs": [
    {
     "name": "stdout",
     "output_type": "stream",
     "text": [
      "the training mean squared error is:  3249.073948775608\n",
      "the testing mean squared error is:  3640.180061583772\n"
     ]
    }
   ],
   "source": [
    "#training mse\n",
    "train_mse = mean_squared_error(rfr.predict(X_train), y_train)\n",
    "print('the training mean squared error is: ', train_mse)\n",
    "#testing mse\n",
    "test_mse = mean_squared_error(rfr.predict(X_test), y_test)\n",
    "print('the testing mean squared error is: ',test_mse)"
   ]
  },
  {
   "cell_type": "code",
   "execution_count": 89,
   "metadata": {
    "scrolled": true
   },
   "outputs": [
    {
     "name": "stdout",
     "output_type": "stream",
     "text": [
      "the training root mean squared error is:  57.00064866977926\n",
      "the testing root mean squared error is:  60.33390474338431\n"
     ]
    }
   ],
   "source": [
    "#training rmse\n",
    "train_mse = sqrt(mean_squared_error(rfr.predict(X_train), y_train))\n",
    "print('the training root mean squared error is: ', train_mse)\n",
    "#testing rmse\n",
    "test_mse = sqrt(mean_squared_error(rfr.predict(X_test), y_test))\n",
    "print('the testing root mean squared error is: ', test_mse)"
   ]
  },
  {
   "cell_type": "markdown",
   "metadata": {},
   "source": [
    "##### (iii) After further decreasing the values of n_estimators and max_depth available"
   ]
  },
  {
   "cell_type": "code",
   "execution_count": 92,
   "metadata": {},
   "outputs": [
    {
     "name": "stdout",
     "output_type": "stream",
     "text": [
      "Fitting 5 folds for each of 9 candidates, totalling 45 fits\n"
     ]
    },
    {
     "name": "stderr",
     "output_type": "stream",
     "text": [
      "[Parallel(n_jobs=-1)]: Using backend LokyBackend with 8 concurrent workers.\n",
      "[Parallel(n_jobs=-1)]: Done  45 out of  45 | elapsed:    2.6s finished\n"
     ]
    },
    {
     "data": {
      "text/plain": [
       "{'max_depth': 5, 'n_estimators': 50}"
      ]
     },
     "execution_count": 92,
     "metadata": {},
     "output_type": "execute_result"
    }
   ],
   "source": [
    "# Perform Grid-Search\n",
    "gsc = GridSearchCV(\n",
    "    estimator=RandomForestRegressor(),\n",
    "    param_grid={\n",
    "        'max_depth': range(3,6),\n",
    "        'n_estimators': (10, 25, 50),\n",
    "    },\n",
    "    cv=5, scoring='neg_mean_squared_error', verbose=True, n_jobs=-1)\n",
    "\n",
    "grid_result = gsc.fit(X_a, y_a)\n",
    "best_params = grid_result.best_params_\n",
    "best_params"
   ]
  },
  {
   "cell_type": "code",
   "execution_count": 93,
   "metadata": {},
   "outputs": [
    {
     "name": "stdout",
     "output_type": "stream",
     "text": [
      "BEST PARAM: {'max_depth': 5, 'n_estimators': 50}\n",
      "\n",
      "-4338.166 (+/1 1008.54) for {'max_depth': 3, 'n_estimators': 10}\n",
      "-4323.046 (+/1 953.787) for {'max_depth': 3, 'n_estimators': 25}\n",
      "-4330.619 (+/1 971.929) for {'max_depth': 3, 'n_estimators': 50}\n",
      "-4160.63 (+/1 784.06) for {'max_depth': 4, 'n_estimators': 10}\n",
      "-4118.729 (+/1 823.84) for {'max_depth': 4, 'n_estimators': 25}\n",
      "-4122.525 (+/1 839.295) for {'max_depth': 4, 'n_estimators': 50}\n",
      "-4018.086 (+/1 779.598) for {'max_depth': 5, 'n_estimators': 10}\n",
      "-3991.742 (+/1 815.774) for {'max_depth': 5, 'n_estimators': 25}\n",
      "-3991.277 (+/1 834.498) for {'max_depth': 5, 'n_estimators': 50}\n"
     ]
    }
   ],
   "source": [
    "print_results(grid_result)"
   ]
  },
  {
   "cell_type": "code",
   "execution_count": 94,
   "metadata": {},
   "outputs": [
    {
     "data": {
      "text/plain": [
       "array([-46.51774395, -44.95680046, -43.72692572, -48.8903982 ,\n",
       "       -47.19180298, -41.92002408, -46.00863743, -45.5045163 ,\n",
       "       -43.83597054, -46.47981266])"
      ]
     },
     "execution_count": 94,
     "metadata": {},
     "output_type": "execute_result"
    }
   ],
   "source": [
    "# Perform K-Fold CV\n",
    "scores = cross_val_score(rfr, X_train, y_train, cv=10, scoring='neg_mean_absolute_error')\n",
    "scores"
   ]
  },
  {
   "cell_type": "code",
   "execution_count": 95,
   "metadata": {},
   "outputs": [],
   "source": [
    "rfr = RandomForestRegressor(max_depth=5, n_estimators=50,\n",
    "                            random_state=False, verbose=False)\n",
    "rfr = rfr.fit(X_train, y_train) "
   ]
  },
  {
   "cell_type": "code",
   "execution_count": 96,
   "metadata": {},
   "outputs": [
    {
     "name": "stdout",
     "output_type": "stream",
     "text": [
      "Mean Cross Validation Score:  -45.50326323107477\n"
     ]
    }
   ],
   "source": [
    "print(\"Mean Cross Validation Score: \", scores.mean())"
   ]
  },
  {
   "cell_type": "code",
   "execution_count": 98,
   "metadata": {},
   "outputs": [
    {
     "name": "stdout",
     "output_type": "stream",
     "text": [
      "training R^2 value is:  0.5125739585618708\n",
      "testing R^2 value is:  0.46650222024870647\n"
     ]
    }
   ],
   "source": [
    "# Build Descision tree Model and Evaluate both training and testing accuracy\n",
    "train_R2 = rfr.score(X_train, y_train)\n",
    "print('training R^2 value is: ', train_R2)\n",
    "test_R2 = rfr.score(X_test, y_test)\n",
    "print('testing R^2 value is: ', test_R2)"
   ]
  },
  {
   "cell_type": "code",
   "execution_count": 99,
   "metadata": {},
   "outputs": [
    {
     "name": "stdout",
     "output_type": "stream",
     "text": [
      "the training mean squared error is:  3549.065225435872\n",
      "the testing mean squared error is:  3818.126899881734\n"
     ]
    }
   ],
   "source": [
    "#training mse\n",
    "train_mse = mean_squared_error(rfr.predict(X_train), y_train)\n",
    "print('the training mean squared error is: ', train_mse)\n",
    "#testing mse\n",
    "test_mse = mean_squared_error(rfr.predict(X_test), y_test)\n",
    "print('the testing mean squared error is: ',test_mse)"
   ]
  },
  {
   "cell_type": "code",
   "execution_count": 100,
   "metadata": {
    "scrolled": true
   },
   "outputs": [
    {
     "name": "stdout",
     "output_type": "stream",
     "text": [
      "the training root mean squared error is:  59.57403146871858\n",
      "the testing root mean squared error is:  61.79099367935213\n"
     ]
    }
   ],
   "source": [
    "#training rmse\n",
    "train_mse = sqrt(mean_squared_error(rfr.predict(X_train), y_train))\n",
    "print('the training root mean squared error is: ', train_mse)\n",
    "#testing rmse\n",
    "test_mse = sqrt(mean_squared_error(rfr.predict(X_test), y_test))\n",
    "print('the testing root mean squared error is: ', test_mse)"
   ]
  },
  {
   "cell_type": "markdown",
   "metadata": {},
   "source": [
    "##### (iv) After increasing the values of n_estimators available"
   ]
  },
  {
   "cell_type": "code",
   "execution_count": 76,
   "metadata": {},
   "outputs": [
    {
     "name": "stdout",
     "output_type": "stream",
     "text": [
      "Fitting 5 folds for each of 15 candidates, totalling 75 fits\n"
     ]
    },
    {
     "name": "stderr",
     "output_type": "stream",
     "text": [
      "[Parallel(n_jobs=-1)]: Using backend LokyBackend with 8 concurrent workers.\n",
      "[Parallel(n_jobs=-1)]: Done  34 tasks      | elapsed:  1.5min\n",
      "[Parallel(n_jobs=-1)]: Done  75 out of  75 | elapsed:  4.1min finished\n"
     ]
    },
    {
     "data": {
      "text/plain": [
       "{'max_depth': 9, 'n_estimators': 2000}"
      ]
     },
     "execution_count": 76,
     "metadata": {},
     "output_type": "execute_result"
    }
   ],
   "source": [
    "# Perform Grid-Search\n",
    "gsc = GridSearchCV(\n",
    "    estimator=RandomForestRegressor(),\n",
    "    param_grid={\n",
    "        'max_depth': range(5,10),\n",
    "        'n_estimators': (1000, 2000, 3000),\n",
    "    },\n",
    "    cv=5, scoring='neg_mean_squared_error', verbose=True, n_jobs=-1)\n",
    "\n",
    "grid_result = gsc.fit(X_train, y_train)\n",
    "best_params = grid_result.best_params_\n",
    "best_params"
   ]
  },
  {
   "cell_type": "code",
   "execution_count": 77,
   "metadata": {
    "scrolled": true
   },
   "outputs": [
    {
     "name": "stdout",
     "output_type": "stream",
     "text": [
      "BEST PARAM: {'max_depth': 9, 'n_estimators': 2000}\n",
      "\n",
      "-3787.204 (+/1 126.758) for {'max_depth': 5, 'n_estimators': 1000}\n",
      "-3789.23 (+/1 126.136) for {'max_depth': 5, 'n_estimators': 2000}\n",
      "-3786.799 (+/1 124.097) for {'max_depth': 5, 'n_estimators': 3000}\n",
      "-3660.062 (+/1 107.199) for {'max_depth': 6, 'n_estimators': 1000}\n",
      "-3663.176 (+/1 104.86) for {'max_depth': 6, 'n_estimators': 2000}\n",
      "-3661.714 (+/1 104.203) for {'max_depth': 6, 'n_estimators': 3000}\n",
      "-3559.473 (+/1 89.666) for {'max_depth': 7, 'n_estimators': 1000}\n",
      "-3557.443 (+/1 85.641) for {'max_depth': 7, 'n_estimators': 2000}\n",
      "-3555.725 (+/1 95.006) for {'max_depth': 7, 'n_estimators': 3000}\n",
      "-3458.563 (+/1 92.234) for {'max_depth': 8, 'n_estimators': 1000}\n",
      "-3456.591 (+/1 80.464) for {'max_depth': 8, 'n_estimators': 2000}\n",
      "-3456.702 (+/1 79.659) for {'max_depth': 8, 'n_estimators': 3000}\n",
      "-3369.653 (+/1 104.811) for {'max_depth': 9, 'n_estimators': 1000}\n",
      "-3365.01 (+/1 94.041) for {'max_depth': 9, 'n_estimators': 2000}\n",
      "-3369.116 (+/1 97.052) for {'max_depth': 9, 'n_estimators': 3000}\n"
     ]
    }
   ],
   "source": [
    "print_results(grid_result)"
   ]
  },
  {
   "cell_type": "code",
   "execution_count": 78,
   "metadata": {},
   "outputs": [
    {
     "data": {
      "text/plain": [
       "array([-46.51774395, -44.95680046, -43.72692572, -48.8903982 ,\n",
       "       -47.19180298, -41.92002408, -46.00863743, -45.5045163 ,\n",
       "       -43.83597054, -46.47981266])"
      ]
     },
     "execution_count": 78,
     "metadata": {},
     "output_type": "execute_result"
    }
   ],
   "source": [
    "# Perform K-Fold CV\n",
    "scores = cross_val_score(rfr, X_train, y_train, cv=10, scoring='neg_mean_absolute_error')\n",
    "scores"
   ]
  },
  {
   "cell_type": "code",
   "execution_count": 84,
   "metadata": {},
   "outputs": [],
   "source": [
    "rfr = RandomForestRegressor(max_depth=9, n_estimators=2000,\n",
    "                            random_state=False, verbose=False)\n",
    "rfr = rfr.fit(X_train, y_train) "
   ]
  },
  {
   "cell_type": "code",
   "execution_count": 85,
   "metadata": {},
   "outputs": [
    {
     "name": "stdout",
     "output_type": "stream",
     "text": [
      "Mean Cross Validation Score:  -45.50326323107477\n"
     ]
    }
   ],
   "source": [
    "print(\"Mean Cross Validation Score: \", scores.mean())"
   ]
  },
  {
   "cell_type": "code",
   "execution_count": 86,
   "metadata": {
    "scrolled": true
   },
   "outputs": [
    {
     "name": "stdout",
     "output_type": "stream",
     "text": [
      "training R^2 value is:  0.6921038415525047\n",
      "testing R^2 value is:  0.5374290556271921\n"
     ]
    }
   ],
   "source": [
    "# Build Descision tree Model and Evaluate both training and testing accuracy\n",
    "train_R2 = rfr.score(X_train, y_train)\n",
    "print('training R^2 value is: ', train_R2)\n",
    "test_R2 = rfr.score(X_test, y_test)\n",
    "print('testing R^2 value is: ', test_R2)"
   ]
  },
  {
   "cell_type": "code",
   "execution_count": 87,
   "metadata": {},
   "outputs": [
    {
     "name": "stdout",
     "output_type": "stream",
     "text": [
      "the training mean squared error is:  2241.8653418007934\n",
      "the testing mean squared error is:  3310.519055274911\n"
     ]
    }
   ],
   "source": [
    "#training mse\n",
    "train_mse = mean_squared_error(rfr.predict(X_train), y_train)\n",
    "print('the training mean squared error is: ', train_mse)\n",
    "#testing mse\n",
    "test_mse = mean_squared_error(rfr.predict(X_test), y_test)\n",
    "print('the testing mean squared error is: ',test_mse)"
   ]
  },
  {
   "cell_type": "code",
   "execution_count": 88,
   "metadata": {
    "scrolled": true
   },
   "outputs": [
    {
     "name": "stdout",
     "output_type": "stream",
     "text": [
      "the training root mean squared error is:  47.348340433438565\n",
      "the testing root mean squared error is:  57.53711024438846\n"
     ]
    }
   ],
   "source": [
    "#training rmse\n",
    "train_mse = sqrt(mean_squared_error(rfr.predict(X_train), y_train))\n",
    "print('the training root mean squared error is: ', train_mse)\n",
    "#testing rmse\n",
    "test_mse = sqrt(mean_squared_error(rfr.predict(X_test), y_test))\n",
    "print('the testing root mean squared error is: ', test_mse)"
   ]
  },
  {
   "cell_type": "markdown",
   "metadata": {},
   "source": [
    "Random forest is bagging (not boosting) and it uses decision trees by default."
   ]
  },
  {
   "cell_type": "markdown",
   "metadata": {},
   "source": [
    "#### 2. Ada Boost <a id='adb' />"
   ]
  },
  {
   "cell_type": "code",
   "execution_count": 11,
   "metadata": {},
   "outputs": [
    {
     "data": {
      "text/plain": [
       "AdaBoostRegressor(base_estimator=DecisionTreeRegressor(criterion='mse',\n",
       "                                                       max_depth=None,\n",
       "                                                       max_features=None,\n",
       "                                                       max_leaf_nodes=None,\n",
       "                                                       min_impurity_decrease=0.0,\n",
       "                                                       min_impurity_split=None,\n",
       "                                                       min_samples_leaf=1,\n",
       "                                                       min_samples_split=2,\n",
       "                                                       min_weight_fraction_leaf=0.0,\n",
       "                                                       presort=False,\n",
       "                                                       random_state=None,\n",
       "                                                       splitter='best'),\n",
       "                  learning_rate=1, loss='linear', n_estimators=5,\n",
       "                  random_state=None)"
      ]
     },
     "execution_count": 11,
     "metadata": {},
     "output_type": "execute_result"
    }
   ],
   "source": [
    "#Task: Build Ada Boost Model and Evaluate both training and testing accuracy\n",
    "\n",
    "adb = AdaBoostRegressor(DecisionTreeRegressor(), n_estimators=5, learning_rate=1)\n",
    "adb.fit(X_train, y_train)"
   ]
  },
  {
   "cell_type": "code",
   "execution_count": 12,
   "metadata": {
    "scrolled": true
   },
   "outputs": [
    {
     "name": "stdout",
     "output_type": "stream",
     "text": [
      "training R^2 value is:  0.9639871935670505\n",
      "testing R^2 value is:  0.4184759622362999\n"
     ]
    }
   ],
   "source": [
    "from sklearn.model_selection import cross_val_score, cross_validate\n",
    "\n",
    "# Evaluate the Model using K-folds Cross validation\n",
    "results  = cross_validate(adb, X_train, y_train, scoring='r2', cv=5, return_train_score = True)\n",
    "print('training R^2 value is: ', np.mean(results['train_score']))\n",
    "print('testing R^2 value is: ', np.mean(results['test_score']))"
   ]
  },
  {
   "cell_type": "code",
   "execution_count": 13,
   "metadata": {},
   "outputs": [
    {
     "name": "stdout",
     "output_type": "stream",
     "text": [
      "R^2 Train Cross Validation Score:  0.43528856351052925\n",
      "R^2 Test Cross Validation Score:  0.3069944635947396\n"
     ]
    }
   ],
   "source": [
    "from sklearn.model_selection import cross_val_score, cross_validate\n",
    "\n",
    "# Perform Train K-Fold CV\n",
    "scores = cross_val_score(adb, X_train, y_train, cv=10, scoring='r2')\n",
    "print(\"R^2 Train Cross Validation Score: \", scores.mean())\n",
    "\n",
    "# Perform Test K-Fold CV\n",
    "scores = cross_val_score(adb, X_test, y_test, cv=10, scoring='r2')\n",
    "print(\"R^2 Test Cross Validation Score: \", scores.mean())"
   ]
  },
  {
   "cell_type": "code",
   "execution_count": 31,
   "metadata": {},
   "outputs": [
    {
     "name": "stdout",
     "output_type": "stream",
     "text": [
      "MSE Train Cross Validation Score:  -4313.1662418480655\n",
      "MSE Test Cross Validation Score:  -4846.21718953104\n"
     ]
    }
   ],
   "source": [
    "# Perform Train K-Fold CV\n",
    "scores = cross_val_score(adb, X_train, y_train, cv=10, scoring='neg_mean_squared_error')\n",
    "print(\"MSE Train Cross Validation Score: \", scores.mean())\n",
    "\n",
    "# Perform Test K-Fold CV\n",
    "scores = cross_val_score(adb, X_test, y_test, cv=10, scoring='neg_mean_squared_error')\n",
    "print(\"MSE Test Cross Validation Score: \", scores.mean())"
   ]
  },
  {
   "cell_type": "code",
   "execution_count": 32,
   "metadata": {
    "scrolled": false
   },
   "outputs": [
    {
     "name": "stdout",
     "output_type": "stream",
     "text": [
      "RMSE Train Cross Validation Score:  64.604985705337\n",
      "RMSE Test Cross Validation Score:  71.11818192460305\n"
     ]
    }
   ],
   "source": [
    "import math\n",
    "\n",
    "# Perform Train K-Fold CV\n",
    "print(\"RMSE Train Cross Validation Score: \", math.sqrt(4173.804177986799))\n",
    "\n",
    "# Perform Test K-Fold CV\n",
    "print(\"RMSE Test Cross Validation Score: \", math.sqrt(5057.795800260936))"
   ]
  },
  {
   "cell_type": "markdown",
   "metadata": {},
   "source": [
    "#### Attempt to improve with GridSearch"
   ]
  },
  {
   "cell_type": "code",
   "execution_count": 158,
   "metadata": {},
   "outputs": [
    {
     "name": "stdout",
     "output_type": "stream",
     "text": [
      "Fitting 5 folds for each of 20 candidates, totalling 100 fits\n"
     ]
    },
    {
     "name": "stderr",
     "output_type": "stream",
     "text": [
      "[Parallel(n_jobs=-1)]: Using backend LokyBackend with 8 concurrent workers.\n",
      "[Parallel(n_jobs=-1)]: Done  34 tasks      | elapsed:   12.1s\n",
      "[Parallel(n_jobs=-1)]: Done 100 out of 100 | elapsed:   27.5s finished\n"
     ]
    },
    {
     "data": {
      "text/plain": [
       "{'learning_rate': 0.01, 'n_estimators': 100}"
      ]
     },
     "execution_count": 158,
     "metadata": {},
     "output_type": "execute_result"
    }
   ],
   "source": [
    "# Perform Grid-Search\n",
    "gsc = GridSearchCV(\n",
    "    estimator=AdaBoostRegressor(),\n",
    "    param_grid={\n",
    "        'n_estimators' : [100, 200, 300, 400, 500],\n",
    "        'learning_rate' : [0.0001, 0.001, 0.01, 0.1]\n",
    "    },\n",
    "    cv=5, scoring='neg_mean_squared_error', verbose=True, n_jobs=-1)\n",
    "\n",
    "grid_result = gsc.fit(X_train, y_train)\n",
    "best_params = grid_result.best_params_\n",
    "best_params"
   ]
  },
  {
   "cell_type": "code",
   "execution_count": 159,
   "metadata": {},
   "outputs": [
    {
     "name": "stdout",
     "output_type": "stream",
     "text": [
      "BEST PARAM: {'learning_rate': 0.01, 'n_estimators': 100}\n",
      "\n",
      "-4239.734 (+/1 126.484) for {'learning_rate': 0.0001, 'n_estimators': 100}\n",
      "-4232.235 (+/1 93.042) for {'learning_rate': 0.0001, 'n_estimators': 200}\n",
      "-4244.542 (+/1 134.399) for {'learning_rate': 0.0001, 'n_estimators': 300}\n",
      "-4242.65 (+/1 110.47) for {'learning_rate': 0.0001, 'n_estimators': 400}\n",
      "-4240.125 (+/1 120.932) for {'learning_rate': 0.0001, 'n_estimators': 500}\n",
      "-4246.605 (+/1 104.481) for {'learning_rate': 0.001, 'n_estimators': 100}\n",
      "-4242.04 (+/1 123.694) for {'learning_rate': 0.001, 'n_estimators': 200}\n",
      "-4232.471 (+/1 115.447) for {'learning_rate': 0.001, 'n_estimators': 300}\n",
      "-4234.863 (+/1 146.438) for {'learning_rate': 0.001, 'n_estimators': 400}\n",
      "-4233.73 (+/1 140.976) for {'learning_rate': 0.001, 'n_estimators': 500}\n",
      "-4227.886 (+/1 161.129) for {'learning_rate': 0.01, 'n_estimators': 100}\n",
      "-4238.358 (+/1 135.077) for {'learning_rate': 0.01, 'n_estimators': 200}\n",
      "-4293.003 (+/1 118.331) for {'learning_rate': 0.01, 'n_estimators': 300}\n",
      "-4346.815 (+/1 110.746) for {'learning_rate': 0.01, 'n_estimators': 400}\n",
      "-4396.606 (+/1 119.862) for {'learning_rate': 0.01, 'n_estimators': 500}\n",
      "-4532.495 (+/1 165.361) for {'learning_rate': 0.1, 'n_estimators': 100}\n",
      "-4519.611 (+/1 209.909) for {'learning_rate': 0.1, 'n_estimators': 200}\n",
      "-4544.925 (+/1 218.305) for {'learning_rate': 0.1, 'n_estimators': 300}\n",
      "-4535.511 (+/1 260.405) for {'learning_rate': 0.1, 'n_estimators': 400}\n",
      "-4538.603 (+/1 151.751) for {'learning_rate': 0.1, 'n_estimators': 500}\n"
     ]
    }
   ],
   "source": [
    "print_results(grid_result)"
   ]
  },
  {
   "cell_type": "code",
   "execution_count": 160,
   "metadata": {},
   "outputs": [],
   "source": [
    "adb = AdaBoostRegressor(learning_rate=0.01, n_estimators=100,\n",
    "                            random_state=False)\n",
    "adb = adb.fit(X_train, y_train) "
   ]
  },
  {
   "cell_type": "code",
   "execution_count": 161,
   "metadata": {},
   "outputs": [
    {
     "name": "stdout",
     "output_type": "stream",
     "text": [
      "R^2 Cross Validation Score:  0.41821729805347674\n"
     ]
    }
   ],
   "source": [
    "from sklearn.model_selection import cross_val_score, cross_validate\n",
    "\n",
    "# Perform K-Fold CV\n",
    "scores = cross_val_score(adb, X_train, y_train, cv=10, scoring='r2')\n",
    "print(\"R^2 Cross Validation Score: \", scores.mean())"
   ]
  },
  {
   "cell_type": "code",
   "execution_count": 162,
   "metadata": {},
   "outputs": [
    {
     "name": "stdout",
     "output_type": "stream",
     "text": [
      "training R^2 value is:  0.4279743301104775\n",
      "testing R^2 value is:  0.40666099888947627\n"
     ]
    }
   ],
   "source": [
    "# Build Descision tree Model and Evaluate both training and testing accuracy\n",
    "train_R2 = adb.score(X_train, y_train)\n",
    "print('training R^2 value is: ', train_R2)\n",
    "test_R2 = adb.score(X_test, y_test)\n",
    "print('testing R^2 value is: ', test_R2)"
   ]
  },
  {
   "cell_type": "code",
   "execution_count": 163,
   "metadata": {},
   "outputs": [
    {
     "name": "stdout",
     "output_type": "stream",
     "text": [
      "the training mean squared error is:  4165.05529140724\n",
      "the testing mean squared error is:  4246.397430079569\n"
     ]
    }
   ],
   "source": [
    "#training mse\n",
    "train_mse = mean_squared_error(adb.predict(X_train), y_train)\n",
    "print('the training mean squared error is: ', train_mse)\n",
    "#testing mse\n",
    "test_mse = mean_squared_error(adb.predict(X_test), y_test)\n",
    "print('the testing mean squared error is: ',test_mse)"
   ]
  },
  {
   "cell_type": "code",
   "execution_count": 164,
   "metadata": {
    "scrolled": false
   },
   "outputs": [
    {
     "name": "stdout",
     "output_type": "stream",
     "text": [
      "the training root mean squared error is:  64.53723957071018\n",
      "the testing root mean squared error is:  65.16438774422399\n"
     ]
    }
   ],
   "source": [
    "#training rmse\n",
    "train_mse = sqrt(mean_squared_error(adb.predict(X_train), y_train))\n",
    "print('the training root mean squared error is: ', train_mse)\n",
    "#testing rmse\n",
    "test_mse = sqrt(mean_squared_error(adb.predict(X_test), y_test))\n",
    "print('the testing root mean squared error is: ', test_mse)"
   ]
  },
  {
   "cell_type": "markdown",
   "metadata": {},
   "source": [
    "#### Further Improvement with GridSearch"
   ]
  },
  {
   "cell_type": "code",
   "execution_count": 125,
   "metadata": {},
   "outputs": [
    {
     "name": "stdout",
     "output_type": "stream",
     "text": [
      "Fitting 5 folds for each of 16 candidates, totalling 80 fits\n"
     ]
    },
    {
     "name": "stderr",
     "output_type": "stream",
     "text": [
      "[Parallel(n_jobs=-1)]: Using backend LokyBackend with 8 concurrent workers.\n",
      "[Parallel(n_jobs=-1)]: Done  34 tasks      | elapsed:    7.6s\n",
      "[Parallel(n_jobs=-1)]: Done  80 out of  80 | elapsed:    8.7s finished\n"
     ]
    },
    {
     "data": {
      "text/plain": [
       "{'learning_rate': 0.05, 'n_estimators': 200}"
      ]
     },
     "execution_count": 125,
     "metadata": {},
     "output_type": "execute_result"
    }
   ],
   "source": [
    "# Perform Grid-Search\n",
    "gsc = GridSearchCV(\n",
    "    estimator=AdaBoostRegressor(),\n",
    "    param_grid={\n",
    "        'n_estimators' : [200, 300, 400, 500],\n",
    "        'learning_rate' : [0.05, 0.1, 0.5, 0.75]\n",
    "    },\n",
    "    cv=5, scoring='neg_mean_squared_error', verbose=True, n_jobs=-1)\n",
    "\n",
    "grid_result = gsc.fit(X_train, y_train)\n",
    "best_params = grid_result.best_params_\n",
    "best_params"
   ]
  },
  {
   "cell_type": "code",
   "execution_count": 126,
   "metadata": {
    "scrolled": true
   },
   "outputs": [
    {
     "name": "stdout",
     "output_type": "stream",
     "text": [
      "BEST PARAM: {'learning_rate': 0.05, 'n_estimators': 200}\n",
      "\n",
      "-4504.322 (+/1 136.572) for {'learning_rate': 0.05, 'n_estimators': 200}\n",
      "-4521.152 (+/1 222.557) for {'learning_rate': 0.05, 'n_estimators': 300}\n",
      "-4532.321 (+/1 265.725) for {'learning_rate': 0.05, 'n_estimators': 400}\n",
      "-4530.061 (+/1 176.287) for {'learning_rate': 0.05, 'n_estimators': 500}\n",
      "-4545.788 (+/1 165.406) for {'learning_rate': 0.1, 'n_estimators': 200}\n",
      "-4560.597 (+/1 268.486) for {'learning_rate': 0.1, 'n_estimators': 300}\n",
      "-4547.485 (+/1 256.162) for {'learning_rate': 0.1, 'n_estimators': 400}\n",
      "-4524.915 (+/1 133.653) for {'learning_rate': 0.1, 'n_estimators': 500}\n",
      "-4594.601 (+/1 191.59) for {'learning_rate': 0.5, 'n_estimators': 200}\n",
      "-4596.711 (+/1 305.588) for {'learning_rate': 0.5, 'n_estimators': 300}\n",
      "-4626.444 (+/1 274.916) for {'learning_rate': 0.5, 'n_estimators': 400}\n",
      "-4662.445 (+/1 425.606) for {'learning_rate': 0.5, 'n_estimators': 500}\n",
      "-4569.58 (+/1 181.846) for {'learning_rate': 0.75, 'n_estimators': 200}\n",
      "-4637.135 (+/1 376.49) for {'learning_rate': 0.75, 'n_estimators': 300}\n",
      "-4641.502 (+/1 254.307) for {'learning_rate': 0.75, 'n_estimators': 400}\n",
      "-4588.985 (+/1 222.602) for {'learning_rate': 0.75, 'n_estimators': 500}\n"
     ]
    }
   ],
   "source": [
    "print_results(grid_result)"
   ]
  },
  {
   "cell_type": "code",
   "execution_count": 127,
   "metadata": {},
   "outputs": [
    {
     "name": "stdout",
     "output_type": "stream",
     "text": [
      "Mean Cross Validation Score:  -42.635413537058724\n"
     ]
    }
   ],
   "source": [
    "# Perform K-Fold CV\n",
    "scores = cross_val_score(rfr, X_train, y_train, cv=10, scoring='neg_mean_absolute_error')\n",
    "print(\"Mean Cross Validation Score: \", scores.mean())"
   ]
  },
  {
   "cell_type": "code",
   "execution_count": 128,
   "metadata": {},
   "outputs": [],
   "source": [
    "adb = AdaBoostRegressor(learning_rate=0.05, n_estimators=200,\n",
    "                            random_state=False)\n",
    "adb = adb.fit(X_train, y_train) "
   ]
  },
  {
   "cell_type": "code",
   "execution_count": 129,
   "metadata": {
    "scrolled": true
   },
   "outputs": [
    {
     "name": "stdout",
     "output_type": "stream",
     "text": [
      "training R^2 value is:  0.38347639002917255\n",
      "testing R^2 value is:  0.3485196866181721\n"
     ]
    }
   ],
   "source": [
    "# Build Descision tree Model and Evaluate both training and testing accuracy\n",
    "train_R2 = adb.score(X_train, y_train)\n",
    "print('training R^2 value is: ', train_R2)\n",
    "test_R2 = adb.score(X_test, y_test)\n",
    "print('testing R^2 value is: ', test_R2)"
   ]
  },
  {
   "cell_type": "code",
   "execution_count": 130,
   "metadata": {},
   "outputs": [
    {
     "name": "stdout",
     "output_type": "stream",
     "text": [
      "the training mean squared error is:  4489.055402850063\n",
      "the testing mean squared error is:  4662.502082813041\n"
     ]
    }
   ],
   "source": [
    "#training mse\n",
    "train_mse = mean_squared_error(adb.predict(X_train), y_train)\n",
    "print('the training mean squared error is: ', train_mse)\n",
    "#testing mse\n",
    "test_mse = mean_squared_error(adb.predict(X_test), y_test)\n",
    "print('the testing mean squared error is: ',test_mse)"
   ]
  },
  {
   "cell_type": "code",
   "execution_count": 131,
   "metadata": {
    "scrolled": false
   },
   "outputs": [
    {
     "name": "stdout",
     "output_type": "stream",
     "text": [
      "the training root mean squared error is:  67.00041345282925\n",
      "the testing root mean squared error is:  68.2825166701773\n"
     ]
    }
   ],
   "source": [
    "#training rmse\n",
    "train_mse = sqrt(mean_squared_error(adb.predict(X_train), y_train))\n",
    "print('the training root mean squared error is: ', train_mse)\n",
    "#testing rmse\n",
    "test_mse = sqrt(mean_squared_error(adb.predict(X_test), y_test))\n",
    "print('the testing root mean squared error is: ', test_mse)"
   ]
  },
  {
   "cell_type": "markdown",
   "metadata": {},
   "source": [
    "#### Decrease the learning rate with GridSearch"
   ]
  },
  {
   "cell_type": "code",
   "execution_count": 132,
   "metadata": {},
   "outputs": [
    {
     "name": "stdout",
     "output_type": "stream",
     "text": [
      "Fitting 5 folds for each of 16 candidates, totalling 80 fits\n"
     ]
    },
    {
     "name": "stderr",
     "output_type": "stream",
     "text": [
      "[Parallel(n_jobs=-1)]: Using backend LokyBackend with 8 concurrent workers.\n",
      "[Parallel(n_jobs=-1)]: Done  34 tasks      | elapsed:   13.9s\n",
      "[Parallel(n_jobs=-1)]: Done  80 out of  80 | elapsed:   23.4s finished\n"
     ]
    },
    {
     "data": {
      "text/plain": [
       "{'learning_rate': 0.001, 'n_estimators': 500}"
      ]
     },
     "execution_count": 132,
     "metadata": {},
     "output_type": "execute_result"
    }
   ],
   "source": [
    "# Perform Grid-Search\n",
    "gsc = GridSearchCV(\n",
    "    estimator=AdaBoostRegressor(),\n",
    "    param_grid={\n",
    "        'n_estimators' : [200, 300, 400, 500],\n",
    "        'learning_rate' : [0.0001, 0.001, 0.01, 0.1]\n",
    "    },\n",
    "    cv=5, scoring='neg_mean_squared_error', verbose=True, n_jobs=-1)\n",
    "\n",
    "grid_result = gsc.fit(X_train, y_train)\n",
    "best_params = grid_result.best_params_\n",
    "best_params"
   ]
  },
  {
   "cell_type": "code",
   "execution_count": 133,
   "metadata": {
    "scrolled": true
   },
   "outputs": [
    {
     "name": "stdout",
     "output_type": "stream",
     "text": [
      "BEST PARAM: {'learning_rate': 0.001, 'n_estimators': 500}\n",
      "\n",
      "-4241.008 (+/1 132.577) for {'learning_rate': 0.0001, 'n_estimators': 200}\n",
      "-4250.609 (+/1 140.503) for {'learning_rate': 0.0001, 'n_estimators': 300}\n",
      "-4247.359 (+/1 121.669) for {'learning_rate': 0.0001, 'n_estimators': 400}\n",
      "-4235.921 (+/1 102.304) for {'learning_rate': 0.0001, 'n_estimators': 500}\n",
      "-4241.698 (+/1 146.533) for {'learning_rate': 0.001, 'n_estimators': 200}\n",
      "-4239.627 (+/1 142.522) for {'learning_rate': 0.001, 'n_estimators': 300}\n",
      "-4236.105 (+/1 127.076) for {'learning_rate': 0.001, 'n_estimators': 400}\n",
      "-4233.449 (+/1 135.177) for {'learning_rate': 0.001, 'n_estimators': 500}\n",
      "-4241.905 (+/1 146.61) for {'learning_rate': 0.01, 'n_estimators': 200}\n",
      "-4285.541 (+/1 115.633) for {'learning_rate': 0.01, 'n_estimators': 300}\n",
      "-4346.0 (+/1 112.369) for {'learning_rate': 0.01, 'n_estimators': 400}\n",
      "-4393.339 (+/1 121.151) for {'learning_rate': 0.01, 'n_estimators': 500}\n",
      "-4553.72 (+/1 108.379) for {'learning_rate': 0.1, 'n_estimators': 200}\n",
      "-4511.041 (+/1 237.162) for {'learning_rate': 0.1, 'n_estimators': 300}\n",
      "-4557.196 (+/1 208.653) for {'learning_rate': 0.1, 'n_estimators': 400}\n",
      "-4539.994 (+/1 263.988) for {'learning_rate': 0.1, 'n_estimators': 500}\n"
     ]
    }
   ],
   "source": [
    "print_results(grid_result)"
   ]
  },
  {
   "cell_type": "code",
   "execution_count": 135,
   "metadata": {},
   "outputs": [],
   "source": [
    "adb = AdaBoostRegressor(learning_rate=0.001, n_estimators=500,\n",
    "                            random_state=False)\n",
    "adb = adb.fit(X_train, y_train) "
   ]
  },
  {
   "cell_type": "code",
   "execution_count": 136,
   "metadata": {
    "scrolled": true
   },
   "outputs": [
    {
     "name": "stdout",
     "output_type": "stream",
     "text": [
      "training R^2 value is:  0.43058535928335173\n",
      "testing R^2 value is:  0.4052383636967114\n"
     ]
    }
   ],
   "source": [
    "# Build Descision tree Model and Evaluate both training and testing accuracy\n",
    "train_R2 = adb.score(X_train, y_train)\n",
    "print('training R^2 value is: ', train_R2)\n",
    "test_R2 = adb.score(X_test, y_test)\n",
    "print('testing R^2 value is: ', test_R2)"
   ]
  },
  {
   "cell_type": "code",
   "execution_count": 137,
   "metadata": {},
   "outputs": [
    {
     "name": "stdout",
     "output_type": "stream",
     "text": [
      "the training mean squared error is:  4146.043765447925\n",
      "the testing mean squared error is:  4256.578918933648\n"
     ]
    }
   ],
   "source": [
    "#training mse\n",
    "train_mse = mean_squared_error(adb.predict(X_train), y_train)\n",
    "print('the training mean squared error is: ', train_mse)\n",
    "#testing mse\n",
    "test_mse = mean_squared_error(adb.predict(X_test), y_test)\n",
    "print('the testing mean squared error is: ',test_mse)"
   ]
  },
  {
   "cell_type": "code",
   "execution_count": 138,
   "metadata": {
    "scrolled": true
   },
   "outputs": [
    {
     "name": "stdout",
     "output_type": "stream",
     "text": [
      "the training root mean squared error is:  64.38977997670068\n",
      "the testing root mean squared error is:  65.24246254498406\n"
     ]
    }
   ],
   "source": [
    "#training rmse\n",
    "train_mse = sqrt(mean_squared_error(adb.predict(X_train), y_train))\n",
    "print('the training root mean squared error is: ', train_mse)\n",
    "#testing rmse\n",
    "test_mse = sqrt(mean_squared_error(adb.predict(X_test), y_test))\n",
    "print('the testing root mean squared error is: ', test_mse)"
   ]
  },
  {
   "cell_type": "markdown",
   "metadata": {},
   "source": [
    "#### 3. XGBoost - eXtreme Gradient Boosting  <a id='xgb' />\n",
    "XGBoost is an algorithm that has recently been dominating applied machine learning and Kaggle competitions for structured or tabular data. Please click [here](https://machinelearningmastery.com/gentle-introduction-xgboost-applied-machine-learning/) to gain a better understanding on XGBoost. This webpage is also helpful for you to the complete below excercise."
   ]
  },
  {
   "cell_type": "markdown",
   "metadata": {},
   "source": [
    "First, you need to install `xgboost` package. \n",
    "* For windows users you can type `conda install -c anaconda py-xgboost` in Anaconda terminal to install; \n",
    "* For other operating systems, please refer to Anaconda website for details (click [here](https://anaconda.org/search?q=xgboost))"
   ]
  },
  {
   "cell_type": "code",
   "execution_count": 26,
   "metadata": {},
   "outputs": [],
   "source": [
    "# import XGBClassifier from xgboost package\n",
    "#import xgboost as xgb\n",
    "from xgboost import XGBRegressor"
   ]
  },
  {
   "cell_type": "code",
   "execution_count": 27,
   "metadata": {},
   "outputs": [
    {
     "name": "stdout",
     "output_type": "stream",
     "text": [
      "[16:40:56] WARNING: src/objective/regression_obj.cu:152: reg:linear is now deprecated in favor of reg:squarederror.\n",
      "XGBRegressor(base_score=0.5, booster='gbtree', colsample_bylevel=1,\n",
      "             colsample_bynode=1, colsample_bytree=1, gamma=0,\n",
      "             importance_type='gain', learning_rate=0.1, max_delta_step=0,\n",
      "             max_depth=3, min_child_weight=1, missing=None, n_estimators=100,\n",
      "             n_jobs=1, nthread=None, objective='reg:linear', random_state=0,\n",
      "             reg_alpha=0, reg_lambda=1, scale_pos_weight=1, seed=None,\n",
      "             silent=None, subsample=1, verbosity=1)\n"
     ]
    }
   ],
   "source": [
    "# Task 3: Build XGBoost Model and Evaluate both training and testing accuracy \n",
    "\n",
    "# fit model no training data\n",
    "xgb = XGBRegressor()\n",
    "xgb.fit(X_train, y_train)\n",
    "print(xgb)"
   ]
  },
  {
   "cell_type": "code",
   "execution_count": 28,
   "metadata": {
    "scrolled": true
   },
   "outputs": [
    {
     "name": "stdout",
     "output_type": "stream",
     "text": [
      "[16:40:59] WARNING: src/objective/regression_obj.cu:152: reg:linear is now deprecated in favor of reg:squarederror.\n"
     ]
    },
    {
     "name": "stderr",
     "output_type": "stream",
     "text": [
      "C:\\Users\\sammi\\Anaconda3\\lib\\site-packages\\xgboost\\core.py:587: FutureWarning: Series.base is deprecated and will be removed in a future version\n",
      "  if getattr(data, 'base', None) is not None and \\\n"
     ]
    },
    {
     "name": "stdout",
     "output_type": "stream",
     "text": [
      "[16:40:59] WARNING: src/objective/regression_obj.cu:152: reg:linear is now deprecated in favor of reg:squarederror.\n"
     ]
    },
    {
     "name": "stderr",
     "output_type": "stream",
     "text": [
      "C:\\Users\\sammi\\Anaconda3\\lib\\site-packages\\xgboost\\core.py:587: FutureWarning: Series.base is deprecated and will be removed in a future version\n",
      "  if getattr(data, 'base', None) is not None and \\\n",
      "C:\\Users\\sammi\\Anaconda3\\lib\\site-packages\\xgboost\\core.py:587: FutureWarning: Series.base is deprecated and will be removed in a future version\n",
      "  if getattr(data, 'base', None) is not None and \\\n"
     ]
    },
    {
     "name": "stdout",
     "output_type": "stream",
     "text": [
      "[16:40:59] WARNING: src/objective/regression_obj.cu:152: reg:linear is now deprecated in favor of reg:squarederror.\n",
      "[16:40:59] WARNING: src/objective/regression_obj.cu:152: reg:linear is now deprecated in favor of reg:squarederror.\n"
     ]
    },
    {
     "name": "stderr",
     "output_type": "stream",
     "text": [
      "C:\\Users\\sammi\\Anaconda3\\lib\\site-packages\\xgboost\\core.py:587: FutureWarning: Series.base is deprecated and will be removed in a future version\n",
      "  if getattr(data, 'base', None) is not None and \\\n"
     ]
    },
    {
     "name": "stdout",
     "output_type": "stream",
     "text": [
      "[16:41:00] WARNING: src/objective/regression_obj.cu:152: reg:linear is now deprecated in favor of reg:squarederror.\n"
     ]
    },
    {
     "name": "stderr",
     "output_type": "stream",
     "text": [
      "C:\\Users\\sammi\\Anaconda3\\lib\\site-packages\\xgboost\\core.py:587: FutureWarning: Series.base is deprecated and will be removed in a future version\n",
      "  if getattr(data, 'base', None) is not None and \\\n"
     ]
    },
    {
     "name": "stdout",
     "output_type": "stream",
     "text": [
      "[16:41:00] WARNING: src/objective/regression_obj.cu:152: reg:linear is now deprecated in favor of reg:squarederror.\n"
     ]
    },
    {
     "name": "stderr",
     "output_type": "stream",
     "text": [
      "C:\\Users\\sammi\\Anaconda3\\lib\\site-packages\\xgboost\\core.py:587: FutureWarning: Series.base is deprecated and will be removed in a future version\n",
      "  if getattr(data, 'base', None) is not None and \\\n",
      "C:\\Users\\sammi\\Anaconda3\\lib\\site-packages\\xgboost\\core.py:587: FutureWarning: Series.base is deprecated and will be removed in a future version\n",
      "  if getattr(data, 'base', None) is not None and \\\n"
     ]
    },
    {
     "name": "stdout",
     "output_type": "stream",
     "text": [
      "[16:41:00] WARNING: src/objective/regression_obj.cu:152: reg:linear is now deprecated in favor of reg:squarederror.\n",
      "[16:41:00] WARNING: src/objective/regression_obj.cu:152: reg:linear is now deprecated in favor of reg:squarederror.\n"
     ]
    },
    {
     "name": "stderr",
     "output_type": "stream",
     "text": [
      "C:\\Users\\sammi\\Anaconda3\\lib\\site-packages\\xgboost\\core.py:587: FutureWarning: Series.base is deprecated and will be removed in a future version\n",
      "  if getattr(data, 'base', None) is not None and \\\n"
     ]
    },
    {
     "name": "stdout",
     "output_type": "stream",
     "text": [
      "[16:41:00] WARNING: src/objective/regression_obj.cu:152: reg:linear is now deprecated in favor of reg:squarederror.\n"
     ]
    },
    {
     "name": "stderr",
     "output_type": "stream",
     "text": [
      "C:\\Users\\sammi\\Anaconda3\\lib\\site-packages\\xgboost\\core.py:587: FutureWarning: Series.base is deprecated and will be removed in a future version\n",
      "  if getattr(data, 'base', None) is not None and \\\n"
     ]
    },
    {
     "name": "stdout",
     "output_type": "stream",
     "text": [
      "[16:41:01] WARNING: src/objective/regression_obj.cu:152: reg:linear is now deprecated in favor of reg:squarederror.\n",
      "R^2 Train Cross Validation Score:  0.49910753524180784\n",
      "[16:41:01] WARNING: src/objective/regression_obj.cu:152: reg:linear is now deprecated in favor of reg:squarederror.\n",
      "[16:41:01] WARNING: src/objective/regression_obj.cu:152: reg:linear is now deprecated in favor of reg:squarederror.\n"
     ]
    },
    {
     "name": "stderr",
     "output_type": "stream",
     "text": [
      "C:\\Users\\sammi\\Anaconda3\\lib\\site-packages\\xgboost\\core.py:587: FutureWarning: Series.base is deprecated and will be removed in a future version\n",
      "  if getattr(data, 'base', None) is not None and \\\n",
      "C:\\Users\\sammi\\Anaconda3\\lib\\site-packages\\xgboost\\core.py:587: FutureWarning: Series.base is deprecated and will be removed in a future version\n",
      "  if getattr(data, 'base', None) is not None and \\\n",
      "C:\\Users\\sammi\\Anaconda3\\lib\\site-packages\\xgboost\\core.py:587: FutureWarning: Series.base is deprecated and will be removed in a future version\n",
      "  if getattr(data, 'base', None) is not None and \\\n"
     ]
    },
    {
     "name": "stdout",
     "output_type": "stream",
     "text": [
      "[16:41:01] WARNING: src/objective/regression_obj.cu:152: reg:linear is now deprecated in favor of reg:squarederror.\n",
      "[16:41:01] WARNING: src/objective/regression_obj.cu:152: reg:linear is now deprecated in favor of reg:squarederror.\n"
     ]
    },
    {
     "name": "stderr",
     "output_type": "stream",
     "text": [
      "C:\\Users\\sammi\\Anaconda3\\lib\\site-packages\\xgboost\\core.py:587: FutureWarning: Series.base is deprecated and will be removed in a future version\n",
      "  if getattr(data, 'base', None) is not None and \\\n",
      "C:\\Users\\sammi\\Anaconda3\\lib\\site-packages\\xgboost\\core.py:587: FutureWarning: Series.base is deprecated and will be removed in a future version\n",
      "  if getattr(data, 'base', None) is not None and \\\n",
      "C:\\Users\\sammi\\Anaconda3\\lib\\site-packages\\xgboost\\core.py:587: FutureWarning: Series.base is deprecated and will be removed in a future version\n",
      "  if getattr(data, 'base', None) is not None and \\\n"
     ]
    },
    {
     "name": "stdout",
     "output_type": "stream",
     "text": [
      "[16:41:01] WARNING: src/objective/regression_obj.cu:152: reg:linear is now deprecated in favor of reg:squarederror.\n",
      "[16:41:02] WARNING: src/objective/regression_obj.cu:152: reg:linear is now deprecated in favor of reg:squarederror.\n",
      "[16:41:02] WARNING: src/objective/regression_obj.cu:152: reg:linear is now deprecated in favor of reg:squarederror.\n"
     ]
    },
    {
     "name": "stderr",
     "output_type": "stream",
     "text": [
      "C:\\Users\\sammi\\Anaconda3\\lib\\site-packages\\xgboost\\core.py:587: FutureWarning: Series.base is deprecated and will be removed in a future version\n",
      "  if getattr(data, 'base', None) is not None and \\\n",
      "C:\\Users\\sammi\\Anaconda3\\lib\\site-packages\\xgboost\\core.py:587: FutureWarning: Series.base is deprecated and will be removed in a future version\n",
      "  if getattr(data, 'base', None) is not None and \\\n"
     ]
    },
    {
     "name": "stdout",
     "output_type": "stream",
     "text": [
      "[16:41:02] WARNING: src/objective/regression_obj.cu:152: reg:linear is now deprecated in favor of reg:squarederror.\n",
      "[16:41:02] WARNING: src/objective/regression_obj.cu:152: reg:linear is now deprecated in favor of reg:squarederror.\n"
     ]
    },
    {
     "name": "stderr",
     "output_type": "stream",
     "text": [
      "C:\\Users\\sammi\\Anaconda3\\lib\\site-packages\\xgboost\\core.py:587: FutureWarning: Series.base is deprecated and will be removed in a future version\n",
      "  if getattr(data, 'base', None) is not None and \\\n",
      "C:\\Users\\sammi\\Anaconda3\\lib\\site-packages\\xgboost\\core.py:587: FutureWarning: Series.base is deprecated and will be removed in a future version\n",
      "  if getattr(data, 'base', None) is not None and \\\n"
     ]
    },
    {
     "name": "stdout",
     "output_type": "stream",
     "text": [
      "[16:41:02] WARNING: src/objective/regression_obj.cu:152: reg:linear is now deprecated in favor of reg:squarederror.\n",
      "R^2 Test Cross Validation Score:  0.46700258355727586\n"
     ]
    }
   ],
   "source": [
    "# Perform Train K-Fold CV\n",
    "scores = cross_val_score(xgb, X_train, y_train, cv=10, scoring='r2')\n",
    "print(\"R^2 Train Cross Validation Score: \", scores.mean())\n",
    "\n",
    "# Perform Test K-Fold CV\n",
    "scores = cross_val_score(xgb, X_test, y_test, cv=10, scoring='r2')\n",
    "print(\"R^2 Test Cross Validation Score: \", scores.mean())"
   ]
  },
  {
   "cell_type": "markdown",
   "metadata": {},
   "source": [
    "R^2 Train Cross Validation Score:  0.49910753524180784\\\n",
    "R^2 Test Cross Validation Score:  0.46700258355727586"
   ]
  },
  {
   "cell_type": "code",
   "execution_count": 73,
   "metadata": {},
   "outputs": [
    {
     "name": "stdout",
     "output_type": "stream",
     "text": [
      "training R^2 value is:  0.5500172416563729\n",
      "testing R^2 value is:  0.4878367214036664\n"
     ]
    }
   ],
   "source": [
    "# Build Descision tree Model and Evaluate both training and testing accuracy\n",
    "train_R2 = xgb.score(X_train, y_train)\n",
    "print('training R^2 value is: ', train_R2)\n",
    "test_R2 = xgb.score(X_test, y_test)\n",
    "print('testing R^2 value is: ', test_R2)"
   ]
  },
  {
   "cell_type": "code",
   "execution_count": 74,
   "metadata": {},
   "outputs": [
    {
     "name": "stdout",
     "output_type": "stream",
     "text": [
      "the training mean squared error is:  3276.431753566446\n",
      "the testing mean squared error is:  3665.440542324099\n"
     ]
    }
   ],
   "source": [
    "#training mse\n",
    "train_mse = mean_squared_error(xgb.predict(X_train), y_train)\n",
    "print('the training mean squared error is: ', train_mse)\n",
    "#testing msemy\n",
    "test_mse = mean_squared_error(xgb.predict(X_test), y_test)\n",
    "print('the testing mean squared error is: ',test_mse)"
   ]
  },
  {
   "cell_type": "code",
   "execution_count": 75,
   "metadata": {},
   "outputs": [
    {
     "name": "stdout",
     "output_type": "stream",
     "text": [
      "the training root mean squared error is:  57.24012363339588\n",
      "the testing root mean squared error is:  60.542881846870316\n"
     ]
    }
   ],
   "source": [
    "#training rmse\n",
    "train_mse = sqrt(mean_squared_error(xgb.predict(X_train), y_train))\n",
    "print('the training root mean squared error is: ', train_mse)\n",
    "#testing rmse\n",
    "test_mse = sqrt(mean_squared_error(xgb.predict(X_test), y_test))\n",
    "print('the testing root mean squared error is: ', test_mse)"
   ]
  },
  {
   "cell_type": "markdown",
   "metadata": {},
   "source": [
    "#### Attempt to improve with GridSearch "
   ]
  },
  {
   "cell_type": "code",
   "execution_count": 76,
   "metadata": {},
   "outputs": [
    {
     "name": "stdout",
     "output_type": "stream",
     "text": [
      "Fitting 5 folds for each of 80 candidates, totalling 400 fits\n"
     ]
    },
    {
     "name": "stderr",
     "output_type": "stream",
     "text": [
      "[Parallel(n_jobs=-1)]: Using backend LokyBackend with 8 concurrent workers.\n",
      "[Parallel(n_jobs=-1)]: Done  34 tasks      | elapsed:   10.2s\n",
      "[Parallel(n_jobs=-1)]: Done 184 tasks      | elapsed:  1.1min\n",
      "[Parallel(n_jobs=-1)]: Done 400 out of 400 | elapsed:  2.4min finished\n",
      "C:\\Users\\sammi\\Anaconda3\\lib\\site-packages\\xgboost\\core.py:587: FutureWarning: Series.base is deprecated and will be removed in a future version\n",
      "  if getattr(data, 'base', None) is not None and \\\n"
     ]
    },
    {
     "name": "stdout",
     "output_type": "stream",
     "text": [
      "[12:09:44] WARNING: src/objective/regression_obj.cu:152: reg:linear is now deprecated in favor of reg:squarederror.\n"
     ]
    },
    {
     "data": {
      "text/plain": [
       "{'learning_rate': 0.01, 'max_depth': 9, 'n_estimators': 500}"
      ]
     },
     "execution_count": 76,
     "metadata": {},
     "output_type": "execute_result"
    }
   ],
   "source": [
    "# Perform Grid-Search\n",
    "gsc = GridSearchCV(\n",
    "    estimator=XGBRegressor(),\n",
    "    param_grid={\n",
    "        'n_estimators' : [200, 300, 400, 500],\n",
    "        'learning_rate' : [0.0001, 0.001, 0.01, 0.1],\n",
    "        'max_depth' : [1,3,5,7,9]\n",
    "    },\n",
    "    cv=5, scoring='neg_mean_squared_error', verbose=True, n_jobs=-1)\n",
    "\n",
    "grid_result = gsc.fit(X_train, y_train) \n",
    "best_params = grid_result.best_params_\n",
    "best_params"
   ]
  },
  {
   "cell_type": "code",
   "execution_count": 77,
   "metadata": {
    "scrolled": true
   },
   "outputs": [
    {
     "name": "stdout",
     "output_type": "stream",
     "text": [
      "BEST PARAM: {'learning_rate': 0.01, 'max_depth': 9, 'n_estimators': 500}\n",
      "\n",
      "-27943.191 (+/1 1745.174) for {'learning_rate': 0.0001, 'max_depth': 1, 'n_estimators': 200}\n",
      "-27483.217 (+/1 1722.211) for {'learning_rate': 0.0001, 'max_depth': 1, 'n_estimators': 300}\n",
      "-27032.348 (+/1 1699.601) for {'learning_rate': 0.0001, 'max_depth': 1, 'n_estimators': 400}\n",
      "-26590.402 (+/1 1677.338) for {'learning_rate': 0.0001, 'max_depth': 1, 'n_estimators': 500}\n",
      "-27928.92 (+/1 1749.81) for {'learning_rate': 0.0001, 'max_depth': 3, 'n_estimators': 200}\n",
      "-27462.044 (+/1 1729.114) for {'learning_rate': 0.0001, 'max_depth': 3, 'n_estimators': 300}\n",
      "-27004.297 (+/1 1708.66) for {'learning_rate': 0.0001, 'max_depth': 3, 'n_estimators': 400}\n",
      "-26555.451 (+/1 1688.899) for {'learning_rate': 0.0001, 'max_depth': 3, 'n_estimators': 500}\n",
      "-27919.071 (+/1 1753.328) for {'learning_rate': 0.0001, 'max_depth': 5, 'n_estimators': 200}\n",
      "-27447.251 (+/1 1734.03) for {'learning_rate': 0.0001, 'max_depth': 5, 'n_estimators': 300}\n",
      "-26984.628 (+/1 1714.929) for {'learning_rate': 0.0001, 'max_depth': 5, 'n_estimators': 400}\n",
      "-26531.071 (+/1 1696.181) for {'learning_rate': 0.0001, 'max_depth': 5, 'n_estimators': 500}\n",
      "-27918.477 (+/1 1752.122) for {'learning_rate': 0.0001, 'max_depth': 7, 'n_estimators': 200}\n",
      "-27446.202 (+/1 1732.751) for {'learning_rate': 0.0001, 'max_depth': 7, 'n_estimators': 300}\n",
      "-26983.472 (+/1 1714.517) for {'learning_rate': 0.0001, 'max_depth': 7, 'n_estimators': 400}\n",
      "-26529.956 (+/1 1696.638) for {'learning_rate': 0.0001, 'max_depth': 7, 'n_estimators': 500}\n",
      "-27921.439 (+/1 1754.935) for {'learning_rate': 0.0001, 'max_depth': 9, 'n_estimators': 200}\n",
      "-27450.203 (+/1 1738.615) for {'learning_rate': 0.0001, 'max_depth': 9, 'n_estimators': 300}\n",
      "-26987.994 (+/1 1725.168) for {'learning_rate': 0.0001, 'max_depth': 9, 'n_estimators': 400}\n",
      "-26534.938 (+/1 1712.565) for {'learning_rate': 0.0001, 'max_depth': 9, 'n_estimators': 500}\n",
      "-20916.984 (+/1 1381.134) for {'learning_rate': 0.001, 'max_depth': 1, 'n_estimators': 200}\n",
      "-17977.995 (+/1 1217.869) for {'learning_rate': 0.001, 'max_depth': 1, 'n_estimators': 300}\n",
      "-15571.769 (+/1 1077.075) for {'learning_rate': 0.001, 'max_depth': 1, 'n_estimators': 400}\n",
      "-13601.731 (+/1 955.381) for {'learning_rate': 0.001, 'max_depth': 1, 'n_estimators': 500}\n",
      "-20787.726 (+/1 1420.21) for {'learning_rate': 0.001, 'max_depth': 3, 'n_estimators': 200}\n",
      "-17791.815 (+/1 1272.502) for {'learning_rate': 0.001, 'max_depth': 3, 'n_estimators': 300}\n",
      "-15335.472 (+/1 1144.412) for {'learning_rate': 0.001, 'max_depth': 3, 'n_estimators': 400}\n",
      "-13323.96 (+/1 1038.09) for {'learning_rate': 0.001, 'max_depth': 3, 'n_estimators': 500}\n",
      "-20699.497 (+/1 1447.979) for {'learning_rate': 0.001, 'max_depth': 5, 'n_estimators': 200}\n",
      "-17673.235 (+/1 1322.68) for {'learning_rate': 0.001, 'max_depth': 5, 'n_estimators': 300}\n",
      "-15183.609 (+/1 1199.58) for {'learning_rate': 0.001, 'max_depth': 5, 'n_estimators': 400}\n",
      "-13135.747 (+/1 1088.766) for {'learning_rate': 0.001, 'max_depth': 5, 'n_estimators': 500}\n",
      "-20706.742 (+/1 1478.062) for {'learning_rate': 0.001, 'max_depth': 7, 'n_estimators': 200}\n",
      "-17683.193 (+/1 1351.403) for {'learning_rate': 0.001, 'max_depth': 7, 'n_estimators': 300}\n",
      "-15195.633 (+/1 1244.851) for {'learning_rate': 0.001, 'max_depth': 7, 'n_estimators': 400}\n",
      "-13133.031 (+/1 1121.136) for {'learning_rate': 0.001, 'max_depth': 7, 'n_estimators': 500}\n",
      "-20709.435 (+/1 1530.506) for {'learning_rate': 0.001, 'max_depth': 9, 'n_estimators': 200}\n",
      "-17680.854 (+/1 1400.48) for {'learning_rate': 0.001, 'max_depth': 9, 'n_estimators': 300}\n",
      "-15191.04 (+/1 1298.125) for {'learning_rate': 0.001, 'max_depth': 9, 'n_estimators': 400}\n",
      "-13146.249 (+/1 1205.857) for {'learning_rate': 0.001, 'max_depth': 9, 'n_estimators': 500}\n",
      "-5098.287 (+/1 279.744) for {'learning_rate': 0.01, 'max_depth': 1, 'n_estimators': 200}\n",
      "-4585.842 (+/1 222.632) for {'learning_rate': 0.01, 'max_depth': 1, 'n_estimators': 300}\n",
      "-4423.83 (+/1 207.166) for {'learning_rate': 0.01, 'max_depth': 1, 'n_estimators': 400}\n",
      "-4338.117 (+/1 200.948) for {'learning_rate': 0.01, 'max_depth': 1, 'n_estimators': 500}\n",
      "-4517.635 (+/1 254.063) for {'learning_rate': 0.01, 'max_depth': 3, 'n_estimators': 200}\n",
      "-4018.034 (+/1 154.415) for {'learning_rate': 0.01, 'max_depth': 3, 'n_estimators': 300}\n",
      "-3868.699 (+/1 130.017) for {'learning_rate': 0.01, 'max_depth': 3, 'n_estimators': 400}\n",
      "-3795.468 (+/1 109.552) for {'learning_rate': 0.01, 'max_depth': 3, 'n_estimators': 500}\n",
      "-4096.87 (+/1 253.273) for {'learning_rate': 0.01, 'max_depth': 5, 'n_estimators': 200}\n",
      "-3598.557 (+/1 118.197) for {'learning_rate': 0.01, 'max_depth': 5, 'n_estimators': 300}\n",
      "-3464.907 (+/1 92.661) for {'learning_rate': 0.01, 'max_depth': 5, 'n_estimators': 400}\n",
      "-3410.42 (+/1 69.592) for {'learning_rate': 0.01, 'max_depth': 5, 'n_estimators': 500}\n",
      "-3925.899 (+/1 253.034) for {'learning_rate': 0.01, 'max_depth': 7, 'n_estimators': 200}\n",
      "-3430.853 (+/1 116.303) for {'learning_rate': 0.01, 'max_depth': 7, 'n_estimators': 300}\n",
      "-3325.429 (+/1 110.191) for {'learning_rate': 0.01, 'max_depth': 7, 'n_estimators': 400}\n",
      "-3292.807 (+/1 108.065) for {'learning_rate': 0.01, 'max_depth': 7, 'n_estimators': 500}\n",
      "-3886.211 (+/1 301.406) for {'learning_rate': 0.01, 'max_depth': 9, 'n_estimators': 200}\n",
      "-3393.466 (+/1 141.173) for {'learning_rate': 0.01, 'max_depth': 9, 'n_estimators': 300}\n",
      "-3304.308 (+/1 167.768) for {'learning_rate': 0.01, 'max_depth': 9, 'n_estimators': 400}\n",
      "-3281.918 (+/1 185.735) for {'learning_rate': 0.01, 'max_depth': 9, 'n_estimators': 500}\n",
      "-4120.108 (+/1 187.309) for {'learning_rate': 0.1, 'max_depth': 1, 'n_estimators': 200}\n",
      "-4080.249 (+/1 177.459) for {'learning_rate': 0.1, 'max_depth': 1, 'n_estimators': 300}\n",
      "-4051.878 (+/1 168.167) for {'learning_rate': 0.1, 'max_depth': 1, 'n_estimators': 400}\n",
      "-4032.098 (+/1 162.239) for {'learning_rate': 0.1, 'max_depth': 1, 'n_estimators': 500}\n",
      "-3521.933 (+/1 95.375) for {'learning_rate': 0.1, 'max_depth': 3, 'n_estimators': 200}\n",
      "-3473.538 (+/1 147.937) for {'learning_rate': 0.1, 'max_depth': 3, 'n_estimators': 300}\n",
      "-3463.045 (+/1 180.761) for {'learning_rate': 0.1, 'max_depth': 3, 'n_estimators': 400}\n",
      "-3467.463 (+/1 197.681) for {'learning_rate': 0.1, 'max_depth': 3, 'n_estimators': 500}\n",
      "-3325.737 (+/1 244.262) for {'learning_rate': 0.1, 'max_depth': 5, 'n_estimators': 200}\n",
      "-3365.317 (+/1 293.554) for {'learning_rate': 0.1, 'max_depth': 5, 'n_estimators': 300}\n",
      "-3395.084 (+/1 316.807) for {'learning_rate': 0.1, 'max_depth': 5, 'n_estimators': 400}\n",
      "-3421.469 (+/1 349.377) for {'learning_rate': 0.1, 'max_depth': 5, 'n_estimators': 500}\n",
      "-3290.263 (+/1 207.408) for {'learning_rate': 0.1, 'max_depth': 7, 'n_estimators': 200}\n",
      "-3324.974 (+/1 240.21) for {'learning_rate': 0.1, 'max_depth': 7, 'n_estimators': 300}\n",
      "-3355.487 (+/1 244.611) for {'learning_rate': 0.1, 'max_depth': 7, 'n_estimators': 400}\n",
      "-3385.598 (+/1 246.885) for {'learning_rate': 0.1, 'max_depth': 7, 'n_estimators': 500}\n",
      "-3294.08 (+/1 267.297) for {'learning_rate': 0.1, 'max_depth': 9, 'n_estimators': 200}\n",
      "-3334.636 (+/1 281.208) for {'learning_rate': 0.1, 'max_depth': 9, 'n_estimators': 300}\n",
      "-3370.276 (+/1 282.559) for {'learning_rate': 0.1, 'max_depth': 9, 'n_estimators': 400}\n",
      "-3392.815 (+/1 283.372) for {'learning_rate': 0.1, 'max_depth': 9, 'n_estimators': 500}\n"
     ]
    }
   ],
   "source": [
    "print_results(grid_result)"
   ]
  },
  {
   "cell_type": "code",
   "execution_count": 100,
   "metadata": {},
   "outputs": [
    {
     "name": "stderr",
     "output_type": "stream",
     "text": [
      "C:\\Users\\sammi\\Anaconda3\\lib\\site-packages\\xgboost\\core.py:587: FutureWarning: Series.base is deprecated and will be removed in a future version\n",
      "  if getattr(data, 'base', None) is not None and \\\n"
     ]
    },
    {
     "name": "stdout",
     "output_type": "stream",
     "text": [
      "[12:35:13] WARNING: src/objective/regression_obj.cu:152: reg:linear is now deprecated in favor of reg:squarederror.\n"
     ]
    }
   ],
   "source": [
    "xgb = XGBRegressor(learning_rate=0.01, max_depth = 9, n_estimators=500)\n",
    "xgb = xgb.fit(X_train, y_train) "
   ]
  },
  {
   "cell_type": "code",
   "execution_count": 101,
   "metadata": {
    "scrolled": true
   },
   "outputs": [
    {
     "name": "stdout",
     "output_type": "stream",
     "text": [
      "[12:35:36] WARNING: src/objective/regression_obj.cu:152: reg:linear is now deprecated in favor of reg:squarederror.\n"
     ]
    },
    {
     "name": "stderr",
     "output_type": "stream",
     "text": [
      "C:\\Users\\sammi\\Anaconda3\\lib\\site-packages\\xgboost\\core.py:587: FutureWarning: Series.base is deprecated and will be removed in a future version\n",
      "  if getattr(data, 'base', None) is not None and \\\n"
     ]
    },
    {
     "name": "stdout",
     "output_type": "stream",
     "text": [
      "[12:35:41] WARNING: src/objective/regression_obj.cu:152: reg:linear is now deprecated in favor of reg:squarederror.\n"
     ]
    },
    {
     "name": "stderr",
     "output_type": "stream",
     "text": [
      "C:\\Users\\sammi\\Anaconda3\\lib\\site-packages\\xgboost\\core.py:587: FutureWarning: Series.base is deprecated and will be removed in a future version\n",
      "  if getattr(data, 'base', None) is not None and \\\n"
     ]
    },
    {
     "name": "stdout",
     "output_type": "stream",
     "text": [
      "[12:35:46] WARNING: src/objective/regression_obj.cu:152: reg:linear is now deprecated in favor of reg:squarederror.\n"
     ]
    },
    {
     "name": "stderr",
     "output_type": "stream",
     "text": [
      "C:\\Users\\sammi\\Anaconda3\\lib\\site-packages\\xgboost\\core.py:587: FutureWarning: Series.base is deprecated and will be removed in a future version\n",
      "  if getattr(data, 'base', None) is not None and \\\n"
     ]
    },
    {
     "name": "stdout",
     "output_type": "stream",
     "text": [
      "[12:35:52] WARNING: src/objective/regression_obj.cu:152: reg:linear is now deprecated in favor of reg:squarederror.\n"
     ]
    },
    {
     "name": "stderr",
     "output_type": "stream",
     "text": [
      "C:\\Users\\sammi\\Anaconda3\\lib\\site-packages\\xgboost\\core.py:587: FutureWarning: Series.base is deprecated and will be removed in a future version\n",
      "  if getattr(data, 'base', None) is not None and \\\n"
     ]
    },
    {
     "name": "stdout",
     "output_type": "stream",
     "text": [
      "[12:35:57] WARNING: src/objective/regression_obj.cu:152: reg:linear is now deprecated in favor of reg:squarederror.\n"
     ]
    },
    {
     "name": "stderr",
     "output_type": "stream",
     "text": [
      "C:\\Users\\sammi\\Anaconda3\\lib\\site-packages\\xgboost\\core.py:587: FutureWarning: Series.base is deprecated and will be removed in a future version\n",
      "  if getattr(data, 'base', None) is not None and \\\n"
     ]
    },
    {
     "name": "stdout",
     "output_type": "stream",
     "text": [
      "[12:36:02] WARNING: src/objective/regression_obj.cu:152: reg:linear is now deprecated in favor of reg:squarederror.\n"
     ]
    },
    {
     "name": "stderr",
     "output_type": "stream",
     "text": [
      "C:\\Users\\sammi\\Anaconda3\\lib\\site-packages\\xgboost\\core.py:587: FutureWarning: Series.base is deprecated and will be removed in a future version\n",
      "  if getattr(data, 'base', None) is not None and \\\n"
     ]
    },
    {
     "name": "stdout",
     "output_type": "stream",
     "text": [
      "[12:36:07] WARNING: src/objective/regression_obj.cu:152: reg:linear is now deprecated in favor of reg:squarederror.\n"
     ]
    },
    {
     "name": "stderr",
     "output_type": "stream",
     "text": [
      "C:\\Users\\sammi\\Anaconda3\\lib\\site-packages\\xgboost\\core.py:587: FutureWarning: Series.base is deprecated and will be removed in a future version\n",
      "  if getattr(data, 'base', None) is not None and \\\n"
     ]
    },
    {
     "name": "stdout",
     "output_type": "stream",
     "text": [
      "[12:36:13] WARNING: src/objective/regression_obj.cu:152: reg:linear is now deprecated in favor of reg:squarederror.\n"
     ]
    },
    {
     "name": "stderr",
     "output_type": "stream",
     "text": [
      "C:\\Users\\sammi\\Anaconda3\\lib\\site-packages\\xgboost\\core.py:587: FutureWarning: Series.base is deprecated and will be removed in a future version\n",
      "  if getattr(data, 'base', None) is not None and \\\n"
     ]
    },
    {
     "name": "stdout",
     "output_type": "stream",
     "text": [
      "[12:36:18] WARNING: src/objective/regression_obj.cu:152: reg:linear is now deprecated in favor of reg:squarederror.\n"
     ]
    },
    {
     "name": "stderr",
     "output_type": "stream",
     "text": [
      "C:\\Users\\sammi\\Anaconda3\\lib\\site-packages\\xgboost\\core.py:587: FutureWarning: Series.base is deprecated and will be removed in a future version\n",
      "  if getattr(data, 'base', None) is not None and \\\n"
     ]
    },
    {
     "name": "stdout",
     "output_type": "stream",
     "text": [
      "[12:36:23] WARNING: src/objective/regression_obj.cu:152: reg:linear is now deprecated in favor of reg:squarederror.\n",
      "R^2 Train Cross Validation Score:  0.5481626783431781\n",
      "[12:36:28] WARNING: src/objective/regression_obj.cu:152: reg:linear is now deprecated in favor of reg:squarederror.\n"
     ]
    },
    {
     "name": "stderr",
     "output_type": "stream",
     "text": [
      "C:\\Users\\sammi\\Anaconda3\\lib\\site-packages\\xgboost\\core.py:587: FutureWarning: Series.base is deprecated and will be removed in a future version\n",
      "  if getattr(data, 'base', None) is not None and \\\n",
      "C:\\Users\\sammi\\Anaconda3\\lib\\site-packages\\xgboost\\core.py:587: FutureWarning: Series.base is deprecated and will be removed in a future version\n",
      "  if getattr(data, 'base', None) is not None and \\\n"
     ]
    },
    {
     "name": "stdout",
     "output_type": "stream",
     "text": [
      "[12:36:31] WARNING: src/objective/regression_obj.cu:152: reg:linear is now deprecated in favor of reg:squarederror.\n"
     ]
    },
    {
     "name": "stderr",
     "output_type": "stream",
     "text": [
      "C:\\Users\\sammi\\Anaconda3\\lib\\site-packages\\xgboost\\core.py:587: FutureWarning: Series.base is deprecated and will be removed in a future version\n",
      "  if getattr(data, 'base', None) is not None and \\\n"
     ]
    },
    {
     "name": "stdout",
     "output_type": "stream",
     "text": [
      "[12:36:34] WARNING: src/objective/regression_obj.cu:152: reg:linear is now deprecated in favor of reg:squarederror.\n"
     ]
    },
    {
     "name": "stderr",
     "output_type": "stream",
     "text": [
      "C:\\Users\\sammi\\Anaconda3\\lib\\site-packages\\xgboost\\core.py:587: FutureWarning: Series.base is deprecated and will be removed in a future version\n",
      "  if getattr(data, 'base', None) is not None and \\\n"
     ]
    },
    {
     "name": "stdout",
     "output_type": "stream",
     "text": [
      "[12:36:37] WARNING: src/objective/regression_obj.cu:152: reg:linear is now deprecated in favor of reg:squarederror.\n"
     ]
    },
    {
     "name": "stderr",
     "output_type": "stream",
     "text": [
      "C:\\Users\\sammi\\Anaconda3\\lib\\site-packages\\xgboost\\core.py:587: FutureWarning: Series.base is deprecated and will be removed in a future version\n",
      "  if getattr(data, 'base', None) is not None and \\\n"
     ]
    },
    {
     "name": "stdout",
     "output_type": "stream",
     "text": [
      "[12:36:39] WARNING: src/objective/regression_obj.cu:152: reg:linear is now deprecated in favor of reg:squarederror.\n"
     ]
    },
    {
     "name": "stderr",
     "output_type": "stream",
     "text": [
      "C:\\Users\\sammi\\Anaconda3\\lib\\site-packages\\xgboost\\core.py:587: FutureWarning: Series.base is deprecated and will be removed in a future version\n",
      "  if getattr(data, 'base', None) is not None and \\\n"
     ]
    },
    {
     "name": "stdout",
     "output_type": "stream",
     "text": [
      "[12:36:42] WARNING: src/objective/regression_obj.cu:152: reg:linear is now deprecated in favor of reg:squarederror.\n"
     ]
    },
    {
     "name": "stderr",
     "output_type": "stream",
     "text": [
      "C:\\Users\\sammi\\Anaconda3\\lib\\site-packages\\xgboost\\core.py:587: FutureWarning: Series.base is deprecated and will be removed in a future version\n",
      "  if getattr(data, 'base', None) is not None and \\\n"
     ]
    },
    {
     "name": "stdout",
     "output_type": "stream",
     "text": [
      "[12:36:45] WARNING: src/objective/regression_obj.cu:152: reg:linear is now deprecated in favor of reg:squarederror.\n"
     ]
    },
    {
     "name": "stderr",
     "output_type": "stream",
     "text": [
      "C:\\Users\\sammi\\Anaconda3\\lib\\site-packages\\xgboost\\core.py:587: FutureWarning: Series.base is deprecated and will be removed in a future version\n",
      "  if getattr(data, 'base', None) is not None and \\\n"
     ]
    },
    {
     "name": "stdout",
     "output_type": "stream",
     "text": [
      "[12:36:48] WARNING: src/objective/regression_obj.cu:152: reg:linear is now deprecated in favor of reg:squarederror.\n"
     ]
    },
    {
     "name": "stderr",
     "output_type": "stream",
     "text": [
      "C:\\Users\\sammi\\Anaconda3\\lib\\site-packages\\xgboost\\core.py:587: FutureWarning: Series.base is deprecated and will be removed in a future version\n",
      "  if getattr(data, 'base', None) is not None and \\\n"
     ]
    },
    {
     "name": "stdout",
     "output_type": "stream",
     "text": [
      "[12:36:52] WARNING: src/objective/regression_obj.cu:152: reg:linear is now deprecated in favor of reg:squarederror.\n"
     ]
    },
    {
     "name": "stderr",
     "output_type": "stream",
     "text": [
      "C:\\Users\\sammi\\Anaconda3\\lib\\site-packages\\xgboost\\core.py:587: FutureWarning: Series.base is deprecated and will be removed in a future version\n",
      "  if getattr(data, 'base', None) is not None and \\\n"
     ]
    },
    {
     "name": "stdout",
     "output_type": "stream",
     "text": [
      "[12:36:55] WARNING: src/objective/regression_obj.cu:152: reg:linear is now deprecated in favor of reg:squarederror.\n",
      "R^2 Test Cross Validation Score:  0.4360982419735276\n"
     ]
    }
   ],
   "source": [
    "# Perform Train K-Fold CV\n",
    "scores = cross_val_score(xgb, X_train, y_train, cv=10, scoring='r2')\n",
    "print(\"R^2 Train Cross Validation Score: \", scores.mean())\n",
    "\n",
    "# Perform Test K-Fold CV\n",
    "scores = cross_val_score(xgb, X_test, y_test, cv=10, scoring='r2')\n",
    "print(\"R^2 Test Cross Validation Score: \", scores.mean())"
   ]
  },
  {
   "cell_type": "markdown",
   "metadata": {},
   "source": [
    "R^2 Train Cross Validation Score:  0.5481626783431781 \\\n",
    "R^2 Test Cross Validation Score:  0.4360982419735276"
   ]
  },
  {
   "cell_type": "code",
   "execution_count": 92,
   "metadata": {},
   "outputs": [
    {
     "name": "stdout",
     "output_type": "stream",
     "text": [
      "the training mean squared error is:  1137.259152850188\n",
      "the testing mean squared error is:  3163.0488854122773\n"
     ]
    }
   ],
   "source": [
    "#training mse\n",
    "train_mse = mean_squared_error(xgb.predict(X_train), y_train)\n",
    "print('the training mean squared error is: ', train_mse)\n",
    "#testing mse\n",
    "test_mse = mean_squared_error(xgb.predict(X_test), y_test)\n",
    "print('the testing mean squared error is: ',test_mse)"
   ]
  },
  {
   "cell_type": "code",
   "execution_count": 93,
   "metadata": {
    "scrolled": true
   },
   "outputs": [
    {
     "name": "stdout",
     "output_type": "stream",
     "text": [
      "the training root mean squared error is:  33.72327316335394\n",
      "the testing root mean squared error is:  56.240989370851906\n"
     ]
    }
   ],
   "source": [
    "#training rmse\n",
    "train_mse = sqrt(mean_squared_error(xgb.predict(X_train), y_train))\n",
    "print('the training root mean squared error is: ', train_mse)\n",
    "#testing rmse\n",
    "test_mse = sqrt(mean_squared_error(xgb.predict(X_test), y_test))\n",
    "print('the testing root mean squared error is: ', test_mse)"
   ]
  },
  {
   "cell_type": "markdown",
   "metadata": {},
   "source": [
    "#### Attempt to further improve with GridSearch --> reduce max_depth and n_estimators"
   ]
  },
  {
   "cell_type": "code",
   "execution_count": 94,
   "metadata": {},
   "outputs": [
    {
     "name": "stdout",
     "output_type": "stream",
     "text": [
      "Fitting 5 folds for each of 36 candidates, totalling 180 fits\n"
     ]
    },
    {
     "name": "stderr",
     "output_type": "stream",
     "text": [
      "[Parallel(n_jobs=-1)]: Using backend LokyBackend with 8 concurrent workers.\n",
      "[Parallel(n_jobs=-1)]: Done  34 tasks      | elapsed:    8.8s\n",
      "[Parallel(n_jobs=-1)]: Done 180 out of 180 | elapsed:   35.2s finished\n",
      "C:\\Users\\sammi\\Anaconda3\\lib\\site-packages\\xgboost\\core.py:587: FutureWarning: Series.base is deprecated and will be removed in a future version\n",
      "  if getattr(data, 'base', None) is not None and \\\n"
     ]
    },
    {
     "name": "stdout",
     "output_type": "stream",
     "text": [
      "[12:31:53] WARNING: src/objective/regression_obj.cu:152: reg:linear is now deprecated in favor of reg:squarederror.\n"
     ]
    },
    {
     "data": {
      "text/plain": [
       "{'learning_rate': 0.1, 'max_depth': 5, 'n_estimators': 200}"
      ]
     },
     "execution_count": 94,
     "metadata": {},
     "output_type": "execute_result"
    }
   ],
   "source": [
    "# Perform Grid-Search\n",
    "gsc = GridSearchCV(\n",
    "    estimator=XGBRegressor(),\n",
    "    param_grid={\n",
    "        'n_estimators' : [200, 300, 400],\n",
    "        'learning_rate' : [0.0001, 0.001, 0.01, 0.1],\n",
    "        'max_depth' : [1,3,5]\n",
    "    },\n",
    "    cv=5, scoring='neg_mean_squared_error', verbose=True, n_jobs=-1)\n",
    "\n",
    "grid_result = gsc.fit(X_train, y_train) \n",
    "best_params = grid_result.best_params_\n",
    "best_params"
   ]
  },
  {
   "cell_type": "code",
   "execution_count": 95,
   "metadata": {
    "scrolled": true
   },
   "outputs": [
    {
     "name": "stdout",
     "output_type": "stream",
     "text": [
      "BEST PARAM: {'learning_rate': 0.1, 'max_depth': 5, 'n_estimators': 200}\n",
      "\n",
      "-27943.191 (+/1 1745.174) for {'learning_rate': 0.0001, 'max_depth': 1, 'n_estimators': 200}\n",
      "-27483.217 (+/1 1722.211) for {'learning_rate': 0.0001, 'max_depth': 1, 'n_estimators': 300}\n",
      "-27032.348 (+/1 1699.601) for {'learning_rate': 0.0001, 'max_depth': 1, 'n_estimators': 400}\n",
      "-27928.92 (+/1 1749.81) for {'learning_rate': 0.0001, 'max_depth': 3, 'n_estimators': 200}\n",
      "-27462.044 (+/1 1729.114) for {'learning_rate': 0.0001, 'max_depth': 3, 'n_estimators': 300}\n",
      "-27004.297 (+/1 1708.66) for {'learning_rate': 0.0001, 'max_depth': 3, 'n_estimators': 400}\n",
      "-27919.071 (+/1 1753.328) for {'learning_rate': 0.0001, 'max_depth': 5, 'n_estimators': 200}\n",
      "-27447.251 (+/1 1734.03) for {'learning_rate': 0.0001, 'max_depth': 5, 'n_estimators': 300}\n",
      "-26984.628 (+/1 1714.929) for {'learning_rate': 0.0001, 'max_depth': 5, 'n_estimators': 400}\n",
      "-20916.984 (+/1 1381.134) for {'learning_rate': 0.001, 'max_depth': 1, 'n_estimators': 200}\n",
      "-17977.995 (+/1 1217.869) for {'learning_rate': 0.001, 'max_depth': 1, 'n_estimators': 300}\n",
      "-15571.769 (+/1 1077.075) for {'learning_rate': 0.001, 'max_depth': 1, 'n_estimators': 400}\n",
      "-20787.726 (+/1 1420.21) for {'learning_rate': 0.001, 'max_depth': 3, 'n_estimators': 200}\n",
      "-17791.815 (+/1 1272.502) for {'learning_rate': 0.001, 'max_depth': 3, 'n_estimators': 300}\n",
      "-15335.472 (+/1 1144.412) for {'learning_rate': 0.001, 'max_depth': 3, 'n_estimators': 400}\n",
      "-20699.497 (+/1 1447.979) for {'learning_rate': 0.001, 'max_depth': 5, 'n_estimators': 200}\n",
      "-17673.235 (+/1 1322.68) for {'learning_rate': 0.001, 'max_depth': 5, 'n_estimators': 300}\n",
      "-15183.609 (+/1 1199.58) for {'learning_rate': 0.001, 'max_depth': 5, 'n_estimators': 400}\n",
      "-5098.287 (+/1 279.744) for {'learning_rate': 0.01, 'max_depth': 1, 'n_estimators': 200}\n",
      "-4585.842 (+/1 222.632) for {'learning_rate': 0.01, 'max_depth': 1, 'n_estimators': 300}\n",
      "-4423.83 (+/1 207.166) for {'learning_rate': 0.01, 'max_depth': 1, 'n_estimators': 400}\n",
      "-4517.635 (+/1 254.063) for {'learning_rate': 0.01, 'max_depth': 3, 'n_estimators': 200}\n",
      "-4018.034 (+/1 154.415) for {'learning_rate': 0.01, 'max_depth': 3, 'n_estimators': 300}\n",
      "-3868.699 (+/1 130.017) for {'learning_rate': 0.01, 'max_depth': 3, 'n_estimators': 400}\n",
      "-4096.87 (+/1 253.273) for {'learning_rate': 0.01, 'max_depth': 5, 'n_estimators': 200}\n",
      "-3598.557 (+/1 118.197) for {'learning_rate': 0.01, 'max_depth': 5, 'n_estimators': 300}\n",
      "-3464.907 (+/1 92.661) for {'learning_rate': 0.01, 'max_depth': 5, 'n_estimators': 400}\n",
      "-4120.108 (+/1 187.309) for {'learning_rate': 0.1, 'max_depth': 1, 'n_estimators': 200}\n",
      "-4080.249 (+/1 177.459) for {'learning_rate': 0.1, 'max_depth': 1, 'n_estimators': 300}\n",
      "-4051.878 (+/1 168.167) for {'learning_rate': 0.1, 'max_depth': 1, 'n_estimators': 400}\n",
      "-3521.933 (+/1 95.375) for {'learning_rate': 0.1, 'max_depth': 3, 'n_estimators': 200}\n",
      "-3473.538 (+/1 147.937) for {'learning_rate': 0.1, 'max_depth': 3, 'n_estimators': 300}\n",
      "-3463.045 (+/1 180.761) for {'learning_rate': 0.1, 'max_depth': 3, 'n_estimators': 400}\n",
      "-3325.737 (+/1 244.262) for {'learning_rate': 0.1, 'max_depth': 5, 'n_estimators': 200}\n",
      "-3365.317 (+/1 293.554) for {'learning_rate': 0.1, 'max_depth': 5, 'n_estimators': 300}\n",
      "-3395.084 (+/1 316.807) for {'learning_rate': 0.1, 'max_depth': 5, 'n_estimators': 400}\n"
     ]
    }
   ],
   "source": [
    "print_results(grid_result)"
   ]
  },
  {
   "cell_type": "code",
   "execution_count": 102,
   "metadata": {},
   "outputs": [
    {
     "name": "stderr",
     "output_type": "stream",
     "text": [
      "C:\\Users\\sammi\\Anaconda3\\lib\\site-packages\\xgboost\\core.py:587: FutureWarning: Series.base is deprecated and will be removed in a future version\n",
      "  if getattr(data, 'base', None) is not None and \\\n"
     ]
    },
    {
     "name": "stdout",
     "output_type": "stream",
     "text": [
      "[12:38:26] WARNING: src/objective/regression_obj.cu:152: reg:linear is now deprecated in favor of reg:squarederror.\n"
     ]
    }
   ],
   "source": [
    "xgb = XGBRegressor(learning_rate=0.1, max_depth = 5, n_estimators=200)\n",
    "xgb = xgb.fit(X_train, y_train) "
   ]
  },
  {
   "cell_type": "code",
   "execution_count": 103,
   "metadata": {
    "scrolled": true
   },
   "outputs": [
    {
     "name": "stdout",
     "output_type": "stream",
     "text": [
      "[12:38:30] WARNING: src/objective/regression_obj.cu:152: reg:linear is now deprecated in favor of reg:squarederror.\n"
     ]
    },
    {
     "name": "stderr",
     "output_type": "stream",
     "text": [
      "C:\\Users\\sammi\\Anaconda3\\lib\\site-packages\\xgboost\\core.py:587: FutureWarning: Series.base is deprecated and will be removed in a future version\n",
      "  if getattr(data, 'base', None) is not None and \\\n"
     ]
    },
    {
     "name": "stdout",
     "output_type": "stream",
     "text": [
      "[12:38:31] WARNING: src/objective/regression_obj.cu:152: reg:linear is now deprecated in favor of reg:squarederror.\n"
     ]
    },
    {
     "name": "stderr",
     "output_type": "stream",
     "text": [
      "C:\\Users\\sammi\\Anaconda3\\lib\\site-packages\\xgboost\\core.py:587: FutureWarning: Series.base is deprecated and will be removed in a future version\n",
      "  if getattr(data, 'base', None) is not None and \\\n"
     ]
    },
    {
     "name": "stdout",
     "output_type": "stream",
     "text": [
      "[12:38:31] WARNING: src/objective/regression_obj.cu:152: reg:linear is now deprecated in favor of reg:squarederror.\n"
     ]
    },
    {
     "name": "stderr",
     "output_type": "stream",
     "text": [
      "C:\\Users\\sammi\\Anaconda3\\lib\\site-packages\\xgboost\\core.py:587: FutureWarning: Series.base is deprecated and will be removed in a future version\n",
      "  if getattr(data, 'base', None) is not None and \\\n"
     ]
    },
    {
     "name": "stdout",
     "output_type": "stream",
     "text": [
      "[12:38:32] WARNING: src/objective/regression_obj.cu:152: reg:linear is now deprecated in favor of reg:squarederror.\n"
     ]
    },
    {
     "name": "stderr",
     "output_type": "stream",
     "text": [
      "C:\\Users\\sammi\\Anaconda3\\lib\\site-packages\\xgboost\\core.py:587: FutureWarning: Series.base is deprecated and will be removed in a future version\n",
      "  if getattr(data, 'base', None) is not None and \\\n"
     ]
    },
    {
     "name": "stdout",
     "output_type": "stream",
     "text": [
      "[12:38:33] WARNING: src/objective/regression_obj.cu:152: reg:linear is now deprecated in favor of reg:squarederror.\n"
     ]
    },
    {
     "name": "stderr",
     "output_type": "stream",
     "text": [
      "C:\\Users\\sammi\\Anaconda3\\lib\\site-packages\\xgboost\\core.py:587: FutureWarning: Series.base is deprecated and will be removed in a future version\n",
      "  if getattr(data, 'base', None) is not None and \\\n"
     ]
    },
    {
     "name": "stdout",
     "output_type": "stream",
     "text": [
      "[12:38:34] WARNING: src/objective/regression_obj.cu:152: reg:linear is now deprecated in favor of reg:squarederror.\n"
     ]
    },
    {
     "name": "stderr",
     "output_type": "stream",
     "text": [
      "C:\\Users\\sammi\\Anaconda3\\lib\\site-packages\\xgboost\\core.py:587: FutureWarning: Series.base is deprecated and will be removed in a future version\n",
      "  if getattr(data, 'base', None) is not None and \\\n"
     ]
    },
    {
     "name": "stdout",
     "output_type": "stream",
     "text": [
      "[12:38:34] WARNING: src/objective/regression_obj.cu:152: reg:linear is now deprecated in favor of reg:squarederror.\n"
     ]
    },
    {
     "name": "stderr",
     "output_type": "stream",
     "text": [
      "C:\\Users\\sammi\\Anaconda3\\lib\\site-packages\\xgboost\\core.py:587: FutureWarning: Series.base is deprecated and will be removed in a future version\n",
      "  if getattr(data, 'base', None) is not None and \\\n"
     ]
    },
    {
     "name": "stdout",
     "output_type": "stream",
     "text": [
      "[12:38:35] WARNING: src/objective/regression_obj.cu:152: reg:linear is now deprecated in favor of reg:squarederror.\n"
     ]
    },
    {
     "name": "stderr",
     "output_type": "stream",
     "text": [
      "C:\\Users\\sammi\\Anaconda3\\lib\\site-packages\\xgboost\\core.py:587: FutureWarning: Series.base is deprecated and will be removed in a future version\n",
      "  if getattr(data, 'base', None) is not None and \\\n"
     ]
    },
    {
     "name": "stdout",
     "output_type": "stream",
     "text": [
      "[12:38:36] WARNING: src/objective/regression_obj.cu:152: reg:linear is now deprecated in favor of reg:squarederror.\n"
     ]
    },
    {
     "name": "stderr",
     "output_type": "stream",
     "text": [
      "C:\\Users\\sammi\\Anaconda3\\lib\\site-packages\\xgboost\\core.py:587: FutureWarning: Series.base is deprecated and will be removed in a future version\n",
      "  if getattr(data, 'base', None) is not None and \\\n"
     ]
    },
    {
     "name": "stdout",
     "output_type": "stream",
     "text": [
      "[12:38:37] WARNING: src/objective/regression_obj.cu:152: reg:linear is now deprecated in favor of reg:squarederror.\n",
      "R^2 Train Cross Validation Score:  0.543645320526312\n",
      "[12:38:38] WARNING: src/objective/regression_obj.cu:152: reg:linear is now deprecated in favor of reg:squarederror.\n"
     ]
    },
    {
     "name": "stderr",
     "output_type": "stream",
     "text": [
      "C:\\Users\\sammi\\Anaconda3\\lib\\site-packages\\xgboost\\core.py:587: FutureWarning: Series.base is deprecated and will be removed in a future version\n",
      "  if getattr(data, 'base', None) is not None and \\\n",
      "C:\\Users\\sammi\\Anaconda3\\lib\\site-packages\\xgboost\\core.py:587: FutureWarning: Series.base is deprecated and will be removed in a future version\n",
      "  if getattr(data, 'base', None) is not None and \\\n"
     ]
    },
    {
     "name": "stdout",
     "output_type": "stream",
     "text": [
      "[12:38:38] WARNING: src/objective/regression_obj.cu:152: reg:linear is now deprecated in favor of reg:squarederror.\n"
     ]
    },
    {
     "name": "stderr",
     "output_type": "stream",
     "text": [
      "C:\\Users\\sammi\\Anaconda3\\lib\\site-packages\\xgboost\\core.py:587: FutureWarning: Series.base is deprecated and will be removed in a future version\n",
      "  if getattr(data, 'base', None) is not None and \\\n"
     ]
    },
    {
     "name": "stdout",
     "output_type": "stream",
     "text": [
      "[12:38:39] WARNING: src/objective/regression_obj.cu:152: reg:linear is now deprecated in favor of reg:squarederror.\n"
     ]
    },
    {
     "name": "stderr",
     "output_type": "stream",
     "text": [
      "C:\\Users\\sammi\\Anaconda3\\lib\\site-packages\\xgboost\\core.py:587: FutureWarning: Series.base is deprecated and will be removed in a future version\n",
      "  if getattr(data, 'base', None) is not None and \\\n"
     ]
    },
    {
     "name": "stdout",
     "output_type": "stream",
     "text": [
      "[12:38:39] WARNING: src/objective/regression_obj.cu:152: reg:linear is now deprecated in favor of reg:squarederror.\n"
     ]
    },
    {
     "name": "stderr",
     "output_type": "stream",
     "text": [
      "C:\\Users\\sammi\\Anaconda3\\lib\\site-packages\\xgboost\\core.py:587: FutureWarning: Series.base is deprecated and will be removed in a future version\n",
      "  if getattr(data, 'base', None) is not None and \\\n"
     ]
    },
    {
     "name": "stdout",
     "output_type": "stream",
     "text": [
      "[12:38:39] WARNING: src/objective/regression_obj.cu:152: reg:linear is now deprecated in favor of reg:squarederror.\n"
     ]
    },
    {
     "name": "stderr",
     "output_type": "stream",
     "text": [
      "C:\\Users\\sammi\\Anaconda3\\lib\\site-packages\\xgboost\\core.py:587: FutureWarning: Series.base is deprecated and will be removed in a future version\n",
      "  if getattr(data, 'base', None) is not None and \\\n"
     ]
    },
    {
     "name": "stdout",
     "output_type": "stream",
     "text": [
      "[12:38:40] WARNING: src/objective/regression_obj.cu:152: reg:linear is now deprecated in favor of reg:squarederror.\n"
     ]
    },
    {
     "name": "stderr",
     "output_type": "stream",
     "text": [
      "C:\\Users\\sammi\\Anaconda3\\lib\\site-packages\\xgboost\\core.py:587: FutureWarning: Series.base is deprecated and will be removed in a future version\n",
      "  if getattr(data, 'base', None) is not None and \\\n"
     ]
    },
    {
     "name": "stdout",
     "output_type": "stream",
     "text": [
      "[12:38:40] WARNING: src/objective/regression_obj.cu:152: reg:linear is now deprecated in favor of reg:squarederror.\n"
     ]
    },
    {
     "name": "stderr",
     "output_type": "stream",
     "text": [
      "C:\\Users\\sammi\\Anaconda3\\lib\\site-packages\\xgboost\\core.py:587: FutureWarning: Series.base is deprecated and will be removed in a future version\n",
      "  if getattr(data, 'base', None) is not None and \\\n"
     ]
    },
    {
     "name": "stdout",
     "output_type": "stream",
     "text": [
      "[12:38:41] WARNING: src/objective/regression_obj.cu:152: reg:linear is now deprecated in favor of reg:squarederror.\n"
     ]
    },
    {
     "name": "stderr",
     "output_type": "stream",
     "text": [
      "C:\\Users\\sammi\\Anaconda3\\lib\\site-packages\\xgboost\\core.py:587: FutureWarning: Series.base is deprecated and will be removed in a future version\n",
      "  if getattr(data, 'base', None) is not None and \\\n"
     ]
    },
    {
     "name": "stdout",
     "output_type": "stream",
     "text": [
      "[12:38:41] WARNING: src/objective/regression_obj.cu:152: reg:linear is now deprecated in favor of reg:squarederror.\n"
     ]
    },
    {
     "name": "stderr",
     "output_type": "stream",
     "text": [
      "C:\\Users\\sammi\\Anaconda3\\lib\\site-packages\\xgboost\\core.py:587: FutureWarning: Series.base is deprecated and will be removed in a future version\n",
      "  if getattr(data, 'base', None) is not None and \\\n"
     ]
    },
    {
     "name": "stdout",
     "output_type": "stream",
     "text": [
      "[12:38:41] WARNING: src/objective/regression_obj.cu:152: reg:linear is now deprecated in favor of reg:squarederror.\n",
      "R^2 Test Cross Validation Score:  0.46841948304154324\n"
     ]
    }
   ],
   "source": [
    "# Perform Train K-Fold CV\n",
    "scores = cross_val_score(xgb, X_train, y_train, cv=10, scoring='r2')\n",
    "print(\"R^2 Train Cross Validation Score: \", scores.mean())\n",
    "\n",
    "# Perform Test K-Fold CV\n",
    "scores = cross_val_score(xgb, X_test, y_test, cv=10, scoring='r2')\n",
    "print(\"R^2 Test Cross Validation Score: \", scores.mean())"
   ]
  },
  {
   "cell_type": "markdown",
   "metadata": {},
   "source": [
    "I have managed to improve the testing R^2 value by 7.41% and at the same time, it has dipped the trainning R^2 value by 0.824%. \n",
    "\n",
    "R^2 Train Cross Validation Score:  0.543645320526312 \\\n",
    "R^2 Test Cross Validation Score:  0.46841948304154324"
   ]
  },
  {
   "cell_type": "code",
   "execution_count": 105,
   "metadata": {},
   "outputs": [
    {
     "data": {
      "text/plain": [
       "0.8240907298760006"
      ]
     },
     "execution_count": 105,
     "metadata": {},
     "output_type": "execute_result"
    }
   ],
   "source": [
    "((0.5481626783431781 - 0.543645320526312)/0.5481626783431781)*100"
   ]
  },
  {
   "cell_type": "code",
   "execution_count": 104,
   "metadata": {
    "scrolled": true
   },
   "outputs": [
    {
     "data": {
      "text/plain": [
       "7.411458693744892"
      ]
     },
     "execution_count": 104,
     "metadata": {},
     "output_type": "execute_result"
    }
   ],
   "source": [
    "((0.46841948304154324 - 0.4360982419735276)/0.4360982419735276)*100"
   ]
  },
  {
   "cell_type": "code",
   "execution_count": 97,
   "metadata": {
    "scrolled": true
   },
   "outputs": [
    {
     "name": "stdout",
     "output_type": "stream",
     "text": [
      "training R^2 value is:  0.7717763592145344\n",
      "testing R^2 value is:  0.5309524562317328\n"
     ]
    }
   ],
   "source": [
    "# Build Descision tree Model and Evaluate both training and testing accuracy\n",
    "train_R2 = xgb.score(X_train, y_train)\n",
    "print('training R^2 value is: ', train_R2)\n",
    "test_R2 = xgb.score(X_test, y_test)\n",
    "print('testing R^2 value is: ', test_R2)"
   ]
  },
  {
   "cell_type": "code",
   "execution_count": 98,
   "metadata": {},
   "outputs": [
    {
     "name": "stdout",
     "output_type": "stream",
     "text": [
      "the training mean squared error is:  1661.7507442652256\n",
      "the testing mean squared error is:  3356.870660305187\n"
     ]
    }
   ],
   "source": [
    "#training mse\n",
    "train_mse = mean_squared_error(xgb.predict(X_train), y_train)\n",
    "print('the training mean squared error is: ', train_mse)\n",
    "#testing mse\n",
    "test_mse = mean_squared_error(xgb.predict(X_test), y_test)\n",
    "print('the testing mean squared error is: ',test_mse)"
   ]
  },
  {
   "cell_type": "code",
   "execution_count": 99,
   "metadata": {
    "scrolled": false
   },
   "outputs": [
    {
     "name": "stdout",
     "output_type": "stream",
     "text": [
      "the training root mean squared error is:  40.764577076982235\n",
      "the testing root mean squared error is:  57.938507577475505\n"
     ]
    }
   ],
   "source": [
    "#training rmse\n",
    "train_mse = sqrt(mean_squared_error(xgb.predict(X_train), y_train))\n",
    "print('the training root mean squared error is: ', train_mse)\n",
    "#testing rmse\n",
    "test_mse = sqrt(mean_squared_error(xgb.predict(X_test), y_test))\n",
    "print('the testing root mean squared error is: ', test_mse)"
   ]
  },
  {
   "cell_type": "markdown",
   "metadata": {},
   "source": [
    "#### 4. SVM - Support Vector Machine  <a id='svm' />\n",
    "To better understand the Support Vector Machine algorithm and the model hypterparameters, please click [here](https://www.linkedin.com/learning-login/share?forceAccount=false&redirect=https%3A%2F%2Fwww.linkedin.com%2Flearning%2Fapplied-machine-learning-algorithms%3Ftrk%3Dshare_ent_url&account=42538748) to watch the videos related to Support Vector Machine section of the course. \n",
    "\n",
    "(Note: remember to login to Linkedin Learning website using your NP student email)."
   ]
  },
  {
   "cell_type": "code",
   "execution_count": 10,
   "metadata": {
    "scrolled": true
   },
   "outputs": [
    {
     "data": {
      "text/plain": [
       "SVR(C=1.0, cache_size=200, coef0=0.0, degree=3, epsilon=0.1,\n",
       "    gamma='auto_deprecated', kernel='rbf', max_iter=-1, shrinking=True,\n",
       "    tol=0.001, verbose=False)"
      ]
     },
     "execution_count": 10,
     "metadata": {},
     "output_type": "execute_result"
    }
   ],
   "source": [
    "# Task 4: Build SVM Model and Evaluate both training and testing accuracy \n",
    "from sklearn.svm import SVR\n",
    "SVR()"
   ]
  },
  {
   "cell_type": "code",
   "execution_count": 38,
   "metadata": {
    "scrolled": true
   },
   "outputs": [
    {
     "data": {
      "text/plain": [
       "['__abstractmethods__',\n",
       " '__class__',\n",
       " '__delattr__',\n",
       " '__dict__',\n",
       " '__dir__',\n",
       " '__doc__',\n",
       " '__eq__',\n",
       " '__format__',\n",
       " '__ge__',\n",
       " '__getattribute__',\n",
       " '__getstate__',\n",
       " '__gt__',\n",
       " '__hash__',\n",
       " '__init__',\n",
       " '__init_subclass__',\n",
       " '__le__',\n",
       " '__lt__',\n",
       " '__module__',\n",
       " '__ne__',\n",
       " '__new__',\n",
       " '__reduce__',\n",
       " '__reduce_ex__',\n",
       " '__repr__',\n",
       " '__setattr__',\n",
       " '__setstate__',\n",
       " '__sizeof__',\n",
       " '__str__',\n",
       " '__subclasshook__',\n",
       " '__weakref__',\n",
       " '_abc_impl',\n",
       " '_compute_kernel',\n",
       " '_decision_function',\n",
       " '_dense_decision_function',\n",
       " '_dense_fit',\n",
       " '_dense_predict',\n",
       " '_estimator_type',\n",
       " '_get_coef',\n",
       " '_get_param_names',\n",
       " '_get_tags',\n",
       " '_impl',\n",
       " '_pairwise',\n",
       " '_sparse_decision_function',\n",
       " '_sparse_fit',\n",
       " '_sparse_kernels',\n",
       " '_sparse_predict',\n",
       " '_validate_for_predict',\n",
       " '_validate_targets',\n",
       " '_warn_from_fit_status',\n",
       " 'coef_',\n",
       " 'fit',\n",
       " 'get_params',\n",
       " 'predict',\n",
       " 'score',\n",
       " 'set_params']"
      ]
     },
     "execution_count": 38,
     "metadata": {},
     "output_type": "execute_result"
    }
   ],
   "source": [
    "dir(SVR)"
   ]
  },
  {
   "cell_type": "code",
   "execution_count": 106,
   "metadata": {
    "scrolled": false
   },
   "outputs": [
    {
     "name": "stderr",
     "output_type": "stream",
     "text": [
      "C:\\Users\\sammi\\Anaconda3\\lib\\site-packages\\sklearn\\svm\\base.py:193: FutureWarning: The default value of gamma will change from 'auto' to 'scale' in version 0.22 to account better for unscaled features. Set gamma explicitly to 'auto' or 'scale' to avoid this warning.\n",
      "  \"avoid this warning.\", FutureWarning)\n"
     ]
    },
    {
     "data": {
      "text/plain": [
       "SVR(C=0.8, cache_size=200, coef0=0.0, degree=3, epsilon=0.1,\n",
       "    gamma='auto_deprecated', kernel='rbf', max_iter=-1, shrinking=True,\n",
       "    tol=0.001, verbose=False)"
      ]
     },
     "execution_count": 106,
     "metadata": {},
     "output_type": "execute_result"
    }
   ],
   "source": [
    "svr = SVR(C=0.8, kernel='rbf')\n",
    "svr.fit(X_train,y_train)"
   ]
  },
  {
   "cell_type": "code",
   "execution_count": 101,
   "metadata": {
    "scrolled": true
   },
   "outputs": [
    {
     "name": "stderr",
     "output_type": "stream",
     "text": [
      "C:\\Users\\sammi\\Anaconda3\\lib\\site-packages\\sklearn\\svm\\base.py:193: FutureWarning: The default value of gamma will change from 'auto' to 'scale' in version 0.22 to account better for unscaled features. Set gamma explicitly to 'auto' or 'scale' to avoid this warning.\n",
      "  \"avoid this warning.\", FutureWarning)\n",
      "C:\\Users\\sammi\\Anaconda3\\lib\\site-packages\\sklearn\\svm\\base.py:193: FutureWarning: The default value of gamma will change from 'auto' to 'scale' in version 0.22 to account better for unscaled features. Set gamma explicitly to 'auto' or 'scale' to avoid this warning.\n",
      "  \"avoid this warning.\", FutureWarning)\n",
      "C:\\Users\\sammi\\Anaconda3\\lib\\site-packages\\sklearn\\svm\\base.py:193: FutureWarning: The default value of gamma will change from 'auto' to 'scale' in version 0.22 to account better for unscaled features. Set gamma explicitly to 'auto' or 'scale' to avoid this warning.\n",
      "  \"avoid this warning.\", FutureWarning)\n",
      "C:\\Users\\sammi\\Anaconda3\\lib\\site-packages\\sklearn\\svm\\base.py:193: FutureWarning: The default value of gamma will change from 'auto' to 'scale' in version 0.22 to account better for unscaled features. Set gamma explicitly to 'auto' or 'scale' to avoid this warning.\n",
      "  \"avoid this warning.\", FutureWarning)\n",
      "C:\\Users\\sammi\\Anaconda3\\lib\\site-packages\\sklearn\\svm\\base.py:193: FutureWarning: The default value of gamma will change from 'auto' to 'scale' in version 0.22 to account better for unscaled features. Set gamma explicitly to 'auto' or 'scale' to avoid this warning.\n",
      "  \"avoid this warning.\", FutureWarning)\n",
      "C:\\Users\\sammi\\Anaconda3\\lib\\site-packages\\sklearn\\svm\\base.py:193: FutureWarning: The default value of gamma will change from 'auto' to 'scale' in version 0.22 to account better for unscaled features. Set gamma explicitly to 'auto' or 'scale' to avoid this warning.\n",
      "  \"avoid this warning.\", FutureWarning)\n",
      "C:\\Users\\sammi\\Anaconda3\\lib\\site-packages\\sklearn\\svm\\base.py:193: FutureWarning: The default value of gamma will change from 'auto' to 'scale' in version 0.22 to account better for unscaled features. Set gamma explicitly to 'auto' or 'scale' to avoid this warning.\n",
      "  \"avoid this warning.\", FutureWarning)\n",
      "C:\\Users\\sammi\\Anaconda3\\lib\\site-packages\\sklearn\\svm\\base.py:193: FutureWarning: The default value of gamma will change from 'auto' to 'scale' in version 0.22 to account better for unscaled features. Set gamma explicitly to 'auto' or 'scale' to avoid this warning.\n",
      "  \"avoid this warning.\", FutureWarning)\n",
      "C:\\Users\\sammi\\Anaconda3\\lib\\site-packages\\sklearn\\svm\\base.py:193: FutureWarning: The default value of gamma will change from 'auto' to 'scale' in version 0.22 to account better for unscaled features. Set gamma explicitly to 'auto' or 'scale' to avoid this warning.\n",
      "  \"avoid this warning.\", FutureWarning)\n",
      "C:\\Users\\sammi\\Anaconda3\\lib\\site-packages\\sklearn\\svm\\base.py:193: FutureWarning: The default value of gamma will change from 'auto' to 'scale' in version 0.22 to account better for unscaled features. Set gamma explicitly to 'auto' or 'scale' to avoid this warning.\n",
      "  \"avoid this warning.\", FutureWarning)\n"
     ]
    },
    {
     "name": "stdout",
     "output_type": "stream",
     "text": [
      "R^2 Train Cross Validation Score:  -0.012244250564337034\n"
     ]
    },
    {
     "name": "stderr",
     "output_type": "stream",
     "text": [
      "C:\\Users\\sammi\\Anaconda3\\lib\\site-packages\\sklearn\\svm\\base.py:193: FutureWarning: The default value of gamma will change from 'auto' to 'scale' in version 0.22 to account better for unscaled features. Set gamma explicitly to 'auto' or 'scale' to avoid this warning.\n",
      "  \"avoid this warning.\", FutureWarning)\n",
      "C:\\Users\\sammi\\Anaconda3\\lib\\site-packages\\sklearn\\svm\\base.py:193: FutureWarning: The default value of gamma will change from 'auto' to 'scale' in version 0.22 to account better for unscaled features. Set gamma explicitly to 'auto' or 'scale' to avoid this warning.\n",
      "  \"avoid this warning.\", FutureWarning)\n",
      "C:\\Users\\sammi\\Anaconda3\\lib\\site-packages\\sklearn\\svm\\base.py:193: FutureWarning: The default value of gamma will change from 'auto' to 'scale' in version 0.22 to account better for unscaled features. Set gamma explicitly to 'auto' or 'scale' to avoid this warning.\n",
      "  \"avoid this warning.\", FutureWarning)\n",
      "C:\\Users\\sammi\\Anaconda3\\lib\\site-packages\\sklearn\\svm\\base.py:193: FutureWarning: The default value of gamma will change from 'auto' to 'scale' in version 0.22 to account better for unscaled features. Set gamma explicitly to 'auto' or 'scale' to avoid this warning.\n",
      "  \"avoid this warning.\", FutureWarning)\n",
      "C:\\Users\\sammi\\Anaconda3\\lib\\site-packages\\sklearn\\svm\\base.py:193: FutureWarning: The default value of gamma will change from 'auto' to 'scale' in version 0.22 to account better for unscaled features. Set gamma explicitly to 'auto' or 'scale' to avoid this warning.\n",
      "  \"avoid this warning.\", FutureWarning)\n",
      "C:\\Users\\sammi\\Anaconda3\\lib\\site-packages\\sklearn\\svm\\base.py:193: FutureWarning: The default value of gamma will change from 'auto' to 'scale' in version 0.22 to account better for unscaled features. Set gamma explicitly to 'auto' or 'scale' to avoid this warning.\n",
      "  \"avoid this warning.\", FutureWarning)\n",
      "C:\\Users\\sammi\\Anaconda3\\lib\\site-packages\\sklearn\\svm\\base.py:193: FutureWarning: The default value of gamma will change from 'auto' to 'scale' in version 0.22 to account better for unscaled features. Set gamma explicitly to 'auto' or 'scale' to avoid this warning.\n",
      "  \"avoid this warning.\", FutureWarning)\n",
      "C:\\Users\\sammi\\Anaconda3\\lib\\site-packages\\sklearn\\svm\\base.py:193: FutureWarning: The default value of gamma will change from 'auto' to 'scale' in version 0.22 to account better for unscaled features. Set gamma explicitly to 'auto' or 'scale' to avoid this warning.\n",
      "  \"avoid this warning.\", FutureWarning)\n",
      "C:\\Users\\sammi\\Anaconda3\\lib\\site-packages\\sklearn\\svm\\base.py:193: FutureWarning: The default value of gamma will change from 'auto' to 'scale' in version 0.22 to account better for unscaled features. Set gamma explicitly to 'auto' or 'scale' to avoid this warning.\n",
      "  \"avoid this warning.\", FutureWarning)\n",
      "C:\\Users\\sammi\\Anaconda3\\lib\\site-packages\\sklearn\\svm\\base.py:193: FutureWarning: The default value of gamma will change from 'auto' to 'scale' in version 0.22 to account better for unscaled features. Set gamma explicitly to 'auto' or 'scale' to avoid this warning.\n",
      "  \"avoid this warning.\", FutureWarning)\n"
     ]
    },
    {
     "name": "stdout",
     "output_type": "stream",
     "text": [
      "R^2 Test Cross Validation Score:  -0.019270703966498992\n"
     ]
    }
   ],
   "source": [
    "# Perform Train K-Fold CV\n",
    "scores = cross_val_score(svr, X_train, y_train, cv=10, scoring='r2')\n",
    "print(\"R^2 Train Cross Validation Score: \", scores.mean())\n",
    "\n",
    "# Perform Test K-Fold CV\n",
    "scores = cross_val_score(svr, X_test, y_test, cv=10, scoring='r2')\n",
    "print(\"R^2 Test Cross Validation Score: \", scores.mean())"
   ]
  },
  {
   "cell_type": "markdown",
   "metadata": {},
   "source": [
    " R^2 Train Cross Validation Score:  -0.012244250564337034 \\\n",
    "R^2 Test Cross Validation Score:  -0.019270703966498992"
   ]
  },
  {
   "cell_type": "code",
   "execution_count": 102,
   "metadata": {
    "scrolled": true
   },
   "outputs": [
    {
     "name": "stdout",
     "output_type": "stream",
     "text": [
      "training R^2 value is:  0.005534018084572989\n",
      "testing R^2 value is:  0.01160132185909124\n"
     ]
    }
   ],
   "source": [
    "# Build Descision tree Model and Evaluate both training and testing accuracy\n",
    "train_R2 = svr.score(X_train, y_train)\n",
    "print('training R^2 value is: ', train_R2)\n",
    "test_R2 = svr.score(X_test, y_test)\n",
    "print('testing R^2 value is: ', test_R2)"
   ]
  },
  {
   "cell_type": "code",
   "execution_count": 41,
   "metadata": {},
   "outputs": [
    {
     "name": "stdout",
     "output_type": "stream",
     "text": [
      "the training mean squared error is:  7240.943926347407\n",
      "the testing mean squared error is:  7073.753113980418\n"
     ]
    }
   ],
   "source": [
    "#training mse\n",
    "train_mse = mean_squared_error(svr.predict(X_train), y_train)\n",
    "print('the training mean squared error is: ', train_mse)\n",
    "#testing mse\n",
    "test_mse = mean_squared_error(svr.predict(X_test), y_test)\n",
    "print('the testing mean squared error is: ',test_mse)"
   ]
  },
  {
   "cell_type": "code",
   "execution_count": 42,
   "metadata": {
    "scrolled": true
   },
   "outputs": [
    {
     "name": "stdout",
     "output_type": "stream",
     "text": [
      "the training root mean squared error is:  85.09373611698693\n",
      "the testing root mean squared error is:  84.10560691167039\n"
     ]
    }
   ],
   "source": [
    "#training rmse\n",
    "train_mse = sqrt(mean_squared_error(svr.predict(X_train), y_train))\n",
    "print('the training root mean squared error is: ', train_mse)\n",
    "#testing rmse\n",
    "test_mse = sqrt(mean_squared_error(svr.predict(X_test), y_test))\n",
    "print('the testing root mean squared error is: ', test_mse)"
   ]
  },
  {
   "cell_type": "markdown",
   "metadata": {},
   "source": [
    "#### Understanding which kernel to use"
   ]
  },
  {
   "cell_type": "markdown",
   "metadata": {},
   "source": [
    "Credits: https://www.kaggle.com/puxama/support-vector-regression-boston-data"
   ]
  },
  {
   "cell_type": "code",
   "execution_count": 84,
   "metadata": {},
   "outputs": [],
   "source": [
    "import pandas as pd\n",
    "import seaborn as sns\n",
    "from scipy.stats import norm, skew\n",
    "from scipy import stats\n",
    "from sklearn.metrics import mean_absolute_error\n",
    "from sklearn.preprocessing import StandardScaler\n",
    "from sklearn.svm import SVR\n",
    "from sklearn.linear_model import LinearRegression\n",
    "import numpy as np\n",
    "import matplotlib.pyplot as plt\n",
    "import time\n",
    "\n",
    "color = sns.color_palette()\n",
    "sns.set_style('darkgrid')\n",
    "\n",
    "# Prepare predictors list\n",
    "predictors = []\n",
    "for col in dfa.columns: \n",
    "    if col != 'price':\n",
    "        predictors.append(col)\n",
    "\n",
    "def launch_model(name,model, X_train, y_train, X_test, y_test):\n",
    "    start = time.time()\n",
    "    model.fit(X_train[predictors], y_train)\n",
    "    y_pred = model.predict(X_test[predictors])\n",
    "    ypred_train = model.predict(X_train[predictors])\n",
    "    print ('RMSE train', sqrt(mean_squared_error(y_train, ypred_train)))\n",
    "    print ('RMSE test', sqrt(mean_squared_error(y_test, y_pred)))\n",
    "    r_2 = model.score(X_test[predictors], y_test)\n",
    "    print ('R^2 test', r_2)\n",
    "    print('Execution time: {0:.2f} seconds.'.format(time.time() - start))\n",
    "    return name + '($R^2={:.3f}$)'.format(r_2), np.array(y_test), y_pred"
   ]
  },
  {
   "cell_type": "code",
   "execution_count": 75,
   "metadata": {},
   "outputs": [],
   "source": [
    "def plot(results):\n",
    "\n",
    "    # Using subplots to display the results on the same X axis\n",
    "    fig, plts = plt.subplots(nrows=len(results), figsize=(8, 8))\n",
    "    fig.canvas.set_window_title('Predicting Airbnb Prices')\n",
    "\n",
    "    # Show each element in the plots returned from plt.subplots()\n",
    "    for subplot, (title, y, y_pred) in zip(plts, results):\n",
    "        # Configure each subplot to have no tick marks\n",
    "        # (these are meaningless for the sample dataset)\n",
    "        subplot.set_xticklabels(())\n",
    "        subplot.set_yticklabels(())\n",
    "\n",
    "        # Label the vertical axis\n",
    "        subplot.set_ylabel('Price')\n",
    "\n",
    "        # Set the title for the subplot\n",
    "        subplot.set_title(title)\n",
    "\n",
    "        # Plot the actual data and the prediction\n",
    "        subplot.plot(y, 'b', label='actual')\n",
    "        subplot.plot(y_pred, 'r', label='predicted')\n",
    "        \n",
    "        # Shade the area between the predicted and the actual values\n",
    "        subplot.fill_between(\n",
    "            # Generate X values [0, 1, 2, ..., len(y)-2, len(y)-1]\n",
    "            np.arange(0, len(y), 1),\n",
    "            y,\n",
    "            y_pred,\n",
    "            color='r',\n",
    "            alpha=0.2\n",
    "        )\n",
    "\n",
    "        # Mark the extent of the training data\n",
    "        subplot.axvline(len(y) // 2, linestyle='--', color='0', alpha=0.2)\n",
    "\n",
    "        # Include a legend in each subplot\n",
    "        subplot.legend()\n",
    "\n",
    "    # Let matplotlib handle the subplot layout\n",
    "    fig.tight_layout()\n",
    "\n",
    "    # ==================================\n",
    "    # Display the plot in interactive UI\n",
    "    plt.show()\n",
    "\n",
    "    # Closing the figure allows matplotlib to release the memory used.\n",
    "    plt.close()"
   ]
  },
  {
   "cell_type": "code",
   "execution_count": 81,
   "metadata": {},
   "outputs": [],
   "source": [
    "svr_rbf = SVR(kernel='rbf', gamma=0.1)\n",
    "svr_linear = SVR(kernel='linear')\n",
    "lr = LinearRegression()"
   ]
  },
  {
   "cell_type": "code",
   "execution_count": 89,
   "metadata": {
    "scrolled": true
   },
   "outputs": [
    {
     "name": "stdout",
     "output_type": "stream",
     "text": [
      "-----------\n",
      "SVR - RBF\n",
      "-----------\n",
      "RMSE train 84.7469205125412\n",
      "RMSE test 83.87560658908143\n",
      "R^2 test 0.016999800870378556\n",
      "Execution time: 2.68 seconds.\n",
      "-----------\n",
      "SVR - linear\n",
      "-----------\n",
      "RMSE train 69.79309340901477\n",
      "RMSE test 68.39979935819014\n",
      "R^2 test 0.3462797872978341\n",
      "Execution time: 3.25 seconds.\n",
      "-----------\n",
      "Linear Regresion\n",
      "-----------\n",
      "RMSE train 66.27838490770372\n",
      "RMSE test 66.11232668831093\n",
      "R^2 test 0.38927297123448695\n",
      "Execution time: 0.01 seconds.\n"
     ]
    }
   ],
   "source": [
    "results = []\n",
    "print ('-----------')\n",
    "print ('SVR - RBF')\n",
    "print ('-----------')\n",
    "results.append(launch_model('SVR - RBF', svr_rbf, X_train, y_train, X_test, y_test))\n",
    "print ('-----------')\n",
    "print ('SVR - linear')\n",
    "print ('-----------')\n",
    "results.append(launch_model('SVR - linear', svr_linear, X_train, y_train, X_test, y_test))\n",
    "print ('-----------')\n",
    "print ('Linear Regresion')\n",
    "print ('-----------')\n",
    "results.append(launch_model('Linear Regresion', lr, X_train, y_train, X_test, y_test))"
   ]
  },
  {
   "cell_type": "code",
   "execution_count": 90,
   "metadata": {},
   "outputs": [
    {
     "data": {
      "image/png": "[encoded data removed]",
      "text/plain": [
       "<Figure size 576x576 with 3 Axes>"
      ]
     },
     "metadata": {},
     "output_type": "display_data"
    }
   ],
   "source": [
    "plot(results)"
   ]
  },
  {
   "cell_type": "markdown",
   "metadata": {},
   "source": [
    "#### Attempt to improve with Linear Kernel"
   ]
  },
  {
   "cell_type": "code",
   "execution_count": 103,
   "metadata": {
    "scrolled": false
   },
   "outputs": [
    {
     "data": {
      "text/plain": [
       "SVR(C=0.8, cache_size=200, coef0=0.0, degree=3, epsilon=0.1,\n",
       "    gamma='auto_deprecated', kernel='linear', max_iter=-1, shrinking=True,\n",
       "    tol=0.001, verbose=False)"
      ]
     },
     "execution_count": 103,
     "metadata": {},
     "output_type": "execute_result"
    }
   ],
   "source": [
    "svr = SVR(C=0.8, kernel='linear')\n",
    "svr.fit(X_train,y_train)"
   ]
  },
  {
   "cell_type": "code",
   "execution_count": 99,
   "metadata": {
    "scrolled": true
   },
   "outputs": [
    {
     "name": "stdout",
     "output_type": "stream",
     "text": [
      "R^2 Train Cross Validation Score:  0.32111555208059184\n",
      "R^2 Test Cross Validation Score:  0.31238161848781754\n"
     ]
    }
   ],
   "source": [
    "# Perform Train K-Fold CV\n",
    "scores = cross_val_score(svr, X_train, y_train, cv=10, scoring='r2')\n",
    "print(\"R^2 Train Cross Validation Score: \", scores.mean())\n",
    "\n",
    "# Perform Test K-Fold CV\n",
    "scores = cross_val_score(svr, X_test, y_test, cv=10, scoring='r2')\n",
    "print(\"R^2 Test Cross Validation Score: \", scores.mean())"
   ]
  },
  {
   "cell_type": "code",
   "execution_count": 40,
   "metadata": {
    "scrolled": true
   },
   "outputs": [
    {
     "name": "stdout",
     "output_type": "stream",
     "text": [
      "training R^2 value is:  0.005534018084572989\n",
      "testing R^2 value is:  0.01160132185909124\n"
     ]
    }
   ],
   "source": [
    "# Build Descision tree Model and Evaluate both training and testing accuracy\n",
    "train_R2 = svr.score(X_train, y_train)\n",
    "print('training R^2 value is: ', train_R2)\n",
    "test_R2 = svr.score(X_test, y_test)\n",
    "print('testing R^2 value is: ', test_R2)"
   ]
  },
  {
   "cell_type": "code",
   "execution_count": 104,
   "metadata": {},
   "outputs": [
    {
     "name": "stdout",
     "output_type": "stream",
     "text": [
      "the training mean squared error is:  4912.1400691218505\n",
      "the testing mean squared error is:  4710.776470518291\n"
     ]
    }
   ],
   "source": [
    "#training mse\n",
    "train_mse = mean_squared_error(svr.predict(X_train), y_train)\n",
    "print('the training mean squared error is: ', train_mse)\n",
    "#testing mse\n",
    "test_mse = mean_squared_error(svr.predict(X_test), y_test)\n",
    "print('the testing mean squared error is: ',test_mse)"
   ]
  },
  {
   "cell_type": "code",
   "execution_count": 105,
   "metadata": {
    "scrolled": true
   },
   "outputs": [
    {
     "name": "stdout",
     "output_type": "stream",
     "text": [
      "the training root mean squared error is:  70.08666113549603\n",
      "the testing root mean squared error is:  68.63509649237983\n"
     ]
    }
   ],
   "source": [
    "#training rmse\n",
    "train_mse = sqrt(mean_squared_error(svr.predict(X_train), y_train))\n",
    "print('the training root mean squared error is: ', train_mse)\n",
    "#testing rmse\n",
    "test_mse = sqrt(mean_squared_error(svr.predict(X_test), y_test))\n",
    "print('the testing root mean squared error is: ', test_mse)"
   ]
  },
  {
   "cell_type": "markdown",
   "metadata": {},
   "source": [
    "#### Further Improvement with Gamma"
   ]
  },
  {
   "cell_type": "code",
   "execution_count": 111,
   "metadata": {},
   "outputs": [
    {
     "name": "stdout",
     "output_type": "stream",
     "text": [
      "Fitting 5 folds for each of 4 candidates, totalling 20 fits\n"
     ]
    },
    {
     "name": "stderr",
     "output_type": "stream",
     "text": [
      "[Parallel(n_jobs=-1)]: Using backend LokyBackend with 8 concurrent workers.\n",
      "[Parallel(n_jobs=-1)]: Done  20 out of  20 | elapsed:   19.1s finished\n"
     ]
    },
    {
     "data": {
      "text/plain": [
       "{'C': 0.8, 'gamma': 1, 'kernel': 'linear'}"
      ]
     },
     "execution_count": 111,
     "metadata": {},
     "output_type": "execute_result"
    }
   ],
   "source": [
    "# Perform Grid-Search\n",
    "gsc = GridSearchCV(\n",
    "    estimator=SVR(),\n",
    "    param_grid={\n",
    "        'C': [0.8], 'gamma': [1,0.1,0.01,0.001],'kernel': ['linear']\n",
    "    },\n",
    "    cv=5, scoring='neg_mean_squared_error', verbose=True, n_jobs=-1)\n",
    "\n",
    "grid_result = gsc.fit(X_train, y_train) \n",
    "best_params = grid_result.best_params_\n",
    "best_params"
   ]
  },
  {
   "cell_type": "code",
   "execution_count": 121,
   "metadata": {},
   "outputs": [
    {
     "name": "stdout",
     "output_type": "stream",
     "text": [
      "BEST PARAM: {'C': 0.8, 'gamma': 1, 'kernel': 'linear'}\n",
      "\n",
      "-4952.322 (+/1 254.792) for {'C': 0.8, 'gamma': 1, 'kernel': 'linear'}\n",
      "-4952.322 (+/1 254.792) for {'C': 0.8, 'gamma': 0.1, 'kernel': 'linear'}\n",
      "-4952.322 (+/1 254.792) for {'C': 0.8, 'gamma': 0.01, 'kernel': 'linear'}\n",
      "-4952.322 (+/1 254.792) for {'C': 0.8, 'gamma': 0.001, 'kernel': 'linear'}\n"
     ]
    }
   ],
   "source": [
    "print_results(grid_result)"
   ]
  },
  {
   "cell_type": "code",
   "execution_count": 124,
   "metadata": {
    "scrolled": false
   },
   "outputs": [
    {
     "data": {
      "text/plain": [
       "SVR(C=0.8, cache_size=200, coef0=0.0, degree=3, epsilon=0.1, gamma=1,\n",
       "    kernel='linear', max_iter=-1, shrinking=True, tol=0.001, verbose=False)"
      ]
     },
     "execution_count": 124,
     "metadata": {},
     "output_type": "execute_result"
    }
   ],
   "source": [
    "svr = SVR(C=0.8, gamma = 1, kernel='linear')\n",
    "svr.fit(X_train,y_train)"
   ]
  },
  {
   "cell_type": "code",
   "execution_count": 117,
   "metadata": {
    "scrolled": true
   },
   "outputs": [
    {
     "name": "stdout",
     "output_type": "stream",
     "text": [
      "R^2 Train Cross Validation Score:  0.32111555208059184\n",
      "R^2 Test Cross Validation Score:  0.31238161848781754\n"
     ]
    }
   ],
   "source": [
    "# Perform Train K-Fold CV\n",
    "scores = cross_val_score(svr, X_train, y_train, cv=10, scoring='r2')\n",
    "print(\"R^2 Train Cross Validation Score: \", scores.mean())\n",
    "\n",
    "# Perform Test K-Fold CV\n",
    "scores = cross_val_score(svr, X_test, y_test, cv=10, scoring='r2')\n",
    "print(\"R^2 Test Cross Validation Score: \", scores.mean())"
   ]
  },
  {
   "cell_type": "code",
   "execution_count": 114,
   "metadata": {
    "scrolled": true
   },
   "outputs": [
    {
     "name": "stdout",
     "output_type": "stream",
     "text": [
      "training R^2 value is:  0.325370249123097\n",
      "testing R^2 value is:  0.34177442137819236\n"
     ]
    }
   ],
   "source": [
    "# Build Descision tree Model and Evaluate both training and testing accuracy\n",
    "train_R2 = svr.score(X_train, y_train)\n",
    "print('training R^2 value is: ', train_R2)\n",
    "test_R2 = svr.score(X_test, y_test)\n",
    "print('testing R^2 value is: ', test_R2)"
   ]
  },
  {
   "cell_type": "code",
   "execution_count": 115,
   "metadata": {},
   "outputs": [
    {
     "name": "stdout",
     "output_type": "stream",
     "text": [
      "the training mean squared error is:  4912.1400691218505\n",
      "the testing mean squared error is:  4710.776470518291\n"
     ]
    }
   ],
   "source": [
    "#training mse\n",
    "train_mse = mean_squared_error(svr.predict(X_train), y_train)\n",
    "print('the training mean squared error is: ', train_mse)\n",
    "#testing mse\n",
    "test_mse = mean_squared_error(svr.predict(X_test), y_test)\n",
    "print('the testing mean squared error is: ',test_mse)"
   ]
  },
  {
   "cell_type": "code",
   "execution_count": 125,
   "metadata": {
    "scrolled": false
   },
   "outputs": [
    {
     "name": "stdout",
     "output_type": "stream",
     "text": [
      "the training root mean squared error is:  70.08666113549603\n",
      "the testing root mean squared error is:  68.63509649237983\n"
     ]
    }
   ],
   "source": [
    "#training rmse\n",
    "train_mse = sqrt(mean_squared_error(svr.predict(X_train), y_train))\n",
    "print('the training root mean squared error is: ', train_mse)\n",
    "#testing rmse\n",
    "test_mse = sqrt(mean_squared_error(svr.predict(X_test), y_test))\n",
    "print('the testing root mean squared error is: ', test_mse)"
   ]
  },
  {
   "cell_type": "code",
   "execution_count": 32,
   "metadata": {},
   "outputs": [
    {
     "name": "stdout",
     "output_type": "stream",
     "text": [
      "Fitting 5 folds for each of 4 candidates, totalling 20 fits\n"
     ]
    },
    {
     "name": "stderr",
     "output_type": "stream",
     "text": [
      "[Parallel(n_jobs=-1)]: Using backend LokyBackend with 8 concurrent workers.\n",
      "[Parallel(n_jobs=-1)]: Done  20 out of  20 | elapsed:   16.2s finished\n"
     ]
    },
    {
     "data": {
      "text/plain": [
       "{'C': 0.8, 'gamma': 1.5, 'kernel': 'linear'}"
      ]
     },
     "execution_count": 32,
     "metadata": {},
     "output_type": "execute_result"
    }
   ],
   "source": [
    "# Perform Grid-Search\n",
    "gsc = GridSearchCV(SVR(),\n",
    "    param_grid={\n",
    "        'C': [0.8], 'gamma': [1.5,2,2.5,3],'kernel': ['linear']\n",
    "    },\n",
    "    cv=5, scoring='neg_mean_squared_error', verbose=True, n_jobs=-1)\n",
    "\n",
    "grid_result = gsc.fit(X_train, y_train) \n",
    "best_params = grid_result.best_params_\n",
    "best_params"
   ]
  },
  {
   "cell_type": "code",
   "execution_count": 33,
   "metadata": {},
   "outputs": [
    {
     "name": "stdout",
     "output_type": "stream",
     "text": [
      "BEST PARAM: {'C': 0.8, 'gamma': 1.5, 'kernel': 'linear'}\n",
      "\n",
      "-4952.322 (+/1 254.792) for {'C': 0.8, 'gamma': 1.5, 'kernel': 'linear'}\n",
      "-4952.322 (+/1 254.792) for {'C': 0.8, 'gamma': 2, 'kernel': 'linear'}\n",
      "-4952.322 (+/1 254.792) for {'C': 0.8, 'gamma': 2.5, 'kernel': 'linear'}\n",
      "-4952.322 (+/1 254.792) for {'C': 0.8, 'gamma': 3, 'kernel': 'linear'}\n"
     ]
    }
   ],
   "source": [
    "print_results(grid_result)"
   ]
  },
  {
   "cell_type": "code",
   "execution_count": 34,
   "metadata": {},
   "outputs": [
    {
     "data": {
      "text/plain": [
       "SVR(C=0.8, cache_size=200, coef0=0.0, degree=3, epsilon=0.1, gamma=2,\n",
       "    kernel='linear', max_iter=-1, shrinking=True, tol=0.001, verbose=False)"
      ]
     },
     "execution_count": 34,
     "metadata": {},
     "output_type": "execute_result"
    }
   ],
   "source": [
    "from sklearn.model_selection import cross_val_score, GridSearchCV\n",
    "\n",
    "svr = SVR(C=0.8, gamma = 2, kernel='linear')\n",
    "svr.fit(X_train,y_train)"
   ]
  },
  {
   "cell_type": "code",
   "execution_count": 35,
   "metadata": {
    "scrolled": true
   },
   "outputs": [
    {
     "name": "stdout",
     "output_type": "stream",
     "text": [
      "R^2 Train Cross Validation Score:  0.32111555208059184\n",
      "R^2 Test Cross Validation Score:  0.31238161848781754\n"
     ]
    }
   ],
   "source": [
    "# Perform Train K-Fold CV\n",
    "scores = cross_val_score(svr, X_train, y_train, cv=10, scoring='r2')\n",
    "print(\"R^2 Train Cross Validation Score: \", scores.mean())\n",
    "\n",
    "# Perform Test K-Fold CV\n",
    "scores = cross_val_score(svr, X_test, y_test, cv=10, scoring='r2')\n",
    "print(\"R^2 Test Cross Validation Score: \", scores.mean())"
   ]
  },
  {
   "cell_type": "code",
   "execution_count": 29,
   "metadata": {
    "scrolled": true
   },
   "outputs": [
    {
     "name": "stdout",
     "output_type": "stream",
     "text": [
      "training R^2 value is:  0.325370249123097\n",
      "testing R^2 value is:  0.34177442137819236\n"
     ]
    }
   ],
   "source": [
    "# Build Descision tree Model and Evaluate both training and testing accuracy\n",
    "train_R2 = svr.score(X_train, y_train)\n",
    "print('training R^2 value is: ', train_R2)\n",
    "test_R2 = svr.score(X_test, y_test)\n",
    "print('testing R^2 value is: ', test_R2)"
   ]
  },
  {
   "cell_type": "code",
   "execution_count": 30,
   "metadata": {},
   "outputs": [
    {
     "name": "stdout",
     "output_type": "stream",
     "text": [
      "the training mean squared error is:  4912.1400691218505\n",
      "the testing mean squared error is:  4710.776470518291\n"
     ]
    }
   ],
   "source": [
    "#training mse\n",
    "train_mse = mean_squared_error(svr.predict(X_train), y_train)\n",
    "print('the training mean squared error is: ', train_mse)\n",
    "#testing mse\n",
    "test_mse = mean_squared_error(svr.predict(X_test), y_test)\n",
    "print('the testing mean squared error is: ',test_mse)"
   ]
  },
  {
   "cell_type": "code",
   "execution_count": 31,
   "metadata": {
    "scrolled": true
   },
   "outputs": [
    {
     "name": "stdout",
     "output_type": "stream",
     "text": [
      "the training root mean squared error is:  70.08666113549603\n",
      "the testing root mean squared error is:  68.63509649237983\n"
     ]
    }
   ],
   "source": [
    "#training rmse\n",
    "train_mse = sqrt(mean_squared_error(svr.predict(X_train), y_train))\n",
    "print('the training root mean squared error is: ', train_mse)\n",
    "#testing rmse\n",
    "test_mse = sqrt(mean_squared_error(svr.predict(X_test), y_test))\n",
    "print('the testing root mean squared error is: ', test_mse)"
   ]
  }
 ],
 "metadata": {
  "kernelspec": {
   "display_name": "Python-3.6",
   "language": "python",
   "name": "python-3.6"
  },
  "language_info": {
   "codemirror_mode": {
    "name": "ipython",
    "version": 3
   },
   "file_extension": ".py",
   "mimetype": "text/x-python",
   "name": "python",
   "nbconvert_exporter": "python",
   "pygments_lexer": "ipython3",
   "version": "3.6.9"
  }
 },
 "nbformat": 4,
 "nbformat_minor": 2
}
